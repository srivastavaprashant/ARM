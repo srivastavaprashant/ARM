{
 "cells": [
  {
   "cell_type": "markdown",
   "metadata": {},
   "source": [
    "Import Libraries"
   ]
  },
  {
   "cell_type": "code",
   "execution_count": 1,
   "metadata": {},
   "outputs": [],
   "source": [
    "import os"
   ]
  },
  {
   "cell_type": "code",
   "execution_count": 2,
   "metadata": {},
   "outputs": [],
   "source": [
    "home_dir = '../'\n",
    "os.chdir(home_dir)\n",
    "from ext import download_pubmed_articles, search_gene_id, download_gene_names\n",
    "from norm import normalize_genes\n",
    "from relation_finder import find_sentences\n",
    "\n",
    "\"\"\"\n",
    "Required: A valid entrez registered email and entrez api-key.\n",
    "More information: Entrez Programming Utilities (E-utilities)\n",
    "\"\"\"  \n",
    "from config import entrez_api_key, entrez_email"
   ]
  },
  {
   "cell_type": "code",
   "execution_count": 3,
   "metadata": {},
   "outputs": [],
   "source": [
    "import pandas as pd\n",
    "import numpy as np\n",
    "import re"
   ]
  },
  {
   "cell_type": "code",
   "execution_count": 4,
   "metadata": {},
   "outputs": [],
   "source": [
    "from Bio import Entrez\n",
    "import xmltodict"
   ]
  },
  {
   "cell_type": "markdown",
   "metadata": {},
   "source": [
    "Preprocessing <b>TRRUST</b>. <br>\n",
    "<a href=\"https://www.grnpedia.org/trrust/\">Transcriptional Regulatory Relationships Unravelled by Sentence-based Text-mining</a>"
   ]
  },
  {
   "cell_type": "code",
   "execution_count": 5,
   "metadata": {},
   "outputs": [],
   "source": [
    "trrust = pd.read_csv('Data/TRRUST_Human.txt', sep = '\\t')"
   ]
  },
  {
   "cell_type": "code",
   "execution_count": 6,
   "metadata": {
    "scrolled": false
   },
   "outputs": [
    {
     "data": {
      "text/html": [
       "<div>\n",
       "<style scoped>\n",
       "    .dataframe tbody tr th:only-of-type {\n",
       "        vertical-align: middle;\n",
       "    }\n",
       "\n",
       "    .dataframe tbody tr th {\n",
       "        vertical-align: top;\n",
       "    }\n",
       "\n",
       "    .dataframe thead th {\n",
       "        text-align: right;\n",
       "    }\n",
       "</style>\n",
       "<table border=\"1\" class=\"dataframe\">\n",
       "  <thead>\n",
       "    <tr style=\"text-align: right;\">\n",
       "      <th></th>\n",
       "      <th>source</th>\n",
       "      <th>source type</th>\n",
       "      <th>target</th>\n",
       "      <th>target type</th>\n",
       "      <th>interaction</th>\n",
       "      <th>pubmed</th>\n",
       "    </tr>\n",
       "  </thead>\n",
       "  <tbody>\n",
       "    <tr>\n",
       "      <th>0</th>\n",
       "      <td>AATF</td>\n",
       "      <td>TF</td>\n",
       "      <td>BAX</td>\n",
       "      <td>PROTEIN</td>\n",
       "      <td>Repression</td>\n",
       "      <td>22909821</td>\n",
       "    </tr>\n",
       "    <tr>\n",
       "      <th>1</th>\n",
       "      <td>AATF</td>\n",
       "      <td>TF</td>\n",
       "      <td>CDKN1A</td>\n",
       "      <td>PROTEIN</td>\n",
       "      <td>Unknown</td>\n",
       "      <td>17157788</td>\n",
       "    </tr>\n",
       "    <tr>\n",
       "      <th>2</th>\n",
       "      <td>AATF</td>\n",
       "      <td>TF</td>\n",
       "      <td>KLK3</td>\n",
       "      <td>PROTEIN</td>\n",
       "      <td>Unknown</td>\n",
       "      <td>23146908</td>\n",
       "    </tr>\n",
       "    <tr>\n",
       "      <th>3</th>\n",
       "      <td>AATF</td>\n",
       "      <td>TF</td>\n",
       "      <td>MYC</td>\n",
       "      <td>PROTEIN</td>\n",
       "      <td>Activation</td>\n",
       "      <td>20549547</td>\n",
       "    </tr>\n",
       "    <tr>\n",
       "      <th>4</th>\n",
       "      <td>AATF</td>\n",
       "      <td>TF</td>\n",
       "      <td>TP53</td>\n",
       "      <td>PROTEIN</td>\n",
       "      <td>Unknown</td>\n",
       "      <td>17157788</td>\n",
       "    </tr>\n",
       "  </tbody>\n",
       "</table>\n",
       "</div>"
      ],
      "text/plain": [
       "  source source type  target target type interaction    pubmed\n",
       "0   AATF          TF     BAX     PROTEIN  Repression  22909821\n",
       "1   AATF          TF  CDKN1A     PROTEIN     Unknown  17157788\n",
       "2   AATF          TF    KLK3     PROTEIN     Unknown  23146908\n",
       "3   AATF          TF     MYC     PROTEIN  Activation  20549547\n",
       "4   AATF          TF    TP53     PROTEIN     Unknown  17157788"
      ]
     },
     "execution_count": 6,
     "metadata": {},
     "output_type": "execute_result"
    }
   ],
   "source": [
    "trrust.head(5)"
   ]
  },
  {
   "cell_type": "code",
   "execution_count": 7,
   "metadata": {},
   "outputs": [
    {
     "name": "stdout",
     "output_type": "stream",
     "text": [
      "No of entries in TRRUST: 9396\n"
     ]
    }
   ],
   "source": [
    "print('No of entries in TRRUST:', trrust.shape[0])"
   ]
  },
  {
   "cell_type": "code",
   "execution_count": 8,
   "metadata": {},
   "outputs": [],
   "source": [
    "# Drop datapoints without pubmed ids. \n",
    "trrust = trrust[~trrust.pubmed.isna()]\n",
    "trrust.pubmed = trrust.pubmed.apply(lambda x: [i for i in x.split(', ') if i.isdigit()])"
   ]
  },
  {
   "cell_type": "code",
   "execution_count": 9,
   "metadata": {
    "scrolled": true
   },
   "outputs": [
    {
     "name": "stdout",
     "output_type": "stream",
     "text": [
      "No of unique pubmed ids: 6561\n",
      "Downloading from pubmed db...\n",
      "Decoding downloaded data...\n",
      "Parsing to a dict...\n",
      "6561 pubmed matches found out of 6561 pubmed articles.\n",
      "Extracting abstracts and titles...\n",
      "Done!\n"
     ]
    }
   ],
   "source": [
    "# Create a list of all Pubmed IDs\n",
    "pubmed_list = [j for i in trrust.pubmed.to_list() for j in i]\n",
    "# Download abstracts from pubmed IDs.\n",
    "res = download_pubmed_articles(entrez_api_key, entrez_email, pubmed_list)"
   ]
  },
  {
   "cell_type": "code",
   "execution_count": 10,
   "metadata": {},
   "outputs": [
    {
     "data": {
      "text/html": [
       "<div>\n",
       "<style scoped>\n",
       "    .dataframe tbody tr th:only-of-type {\n",
       "        vertical-align: middle;\n",
       "    }\n",
       "\n",
       "    .dataframe tbody tr th {\n",
       "        vertical-align: top;\n",
       "    }\n",
       "\n",
       "    .dataframe thead th {\n",
       "        text-align: right;\n",
       "    }\n",
       "</style>\n",
       "<table border=\"1\" class=\"dataframe\">\n",
       "  <thead>\n",
       "    <tr style=\"text-align: right;\">\n",
       "      <th></th>\n",
       "      <th>pubmed</th>\n",
       "      <th>title</th>\n",
       "      <th>abstract</th>\n",
       "    </tr>\n",
       "    <tr>\n",
       "      <th>pmid</th>\n",
       "      <th></th>\n",
       "      <th></th>\n",
       "      <th></th>\n",
       "    </tr>\n",
       "  </thead>\n",
       "  <tbody>\n",
       "    <tr>\n",
       "      <th>7914192</th>\n",
       "      <td>7914192</td>\n",
       "      <td>Binding of an ETS-related protein within the D...</td>\n",
       "      <td>Promoter elements accounting for HER2 (c-erbB-...</td>\n",
       "    </tr>\n",
       "    <tr>\n",
       "      <th>7635140</th>\n",
       "      <td>7635140</td>\n",
       "      <td>Identification of a transcriptional regulatory...</td>\n",
       "      <td>Human aromatase cytochrome P450 catalyzes the ...</td>\n",
       "    </tr>\n",
       "    <tr>\n",
       "      <th>18441094</th>\n",
       "      <td>18441094</td>\n",
       "      <td>Glucocorticoid regulation of CD38 expression i...</td>\n",
       "      <td>The enzymatic activity of CD38, ADP-ribosyl cy...</td>\n",
       "    </tr>\n",
       "    <tr>\n",
       "      <th>10677505</th>\n",
       "      <td>10677505</td>\n",
       "      <td>Myeloblastin is a granulocyte colony-stimulati...</td>\n",
       "      <td>Hematopoiesis depends on a pool of quiescent h...</td>\n",
       "    </tr>\n",
       "    <tr>\n",
       "      <th>21637919</th>\n",
       "      <td>21637919</td>\n",
       "      <td>RB1CC1 activates the p16 promoter through the ...</td>\n",
       "      <td>RB1-inducible coiled-coil 1 (RB1CC1, also know...</td>\n",
       "    </tr>\n",
       "  </tbody>\n",
       "</table>\n",
       "</div>"
      ],
      "text/plain": [
       "            pubmed                                              title  \\\n",
       "pmid                                                                    \n",
       "7914192    7914192  Binding of an ETS-related protein within the D...   \n",
       "7635140    7635140  Identification of a transcriptional regulatory...   \n",
       "18441094  18441094  Glucocorticoid regulation of CD38 expression i...   \n",
       "10677505  10677505  Myeloblastin is a granulocyte colony-stimulati...   \n",
       "21637919  21637919  RB1CC1 activates the p16 promoter through the ...   \n",
       "\n",
       "                                                   abstract  \n",
       "pmid                                                         \n",
       "7914192   Promoter elements accounting for HER2 (c-erbB-...  \n",
       "7635140   Human aromatase cytochrome P450 catalyzes the ...  \n",
       "18441094  The enzymatic activity of CD38, ADP-ribosyl cy...  \n",
       "10677505  Hematopoiesis depends on a pool of quiescent h...  \n",
       "21637919  RB1-inducible coiled-coil 1 (RB1CC1, also know...  "
      ]
     },
     "execution_count": 10,
     "metadata": {},
     "output_type": "execute_result"
    }
   ],
   "source": [
    "# Create DataFrame for downloaded pubmed articles.\n",
    "pubmed_articles = pd.DataFrame(res).dropna()\n",
    "pubmed_articles.index = pubmed_articles.pubmed\n",
    "pubmed_articles.index.name = 'pmid'\n",
    "pubmed_articles.head(5)"
   ]
  },
  {
   "cell_type": "code",
   "execution_count": 11,
   "metadata": {},
   "outputs": [
    {
     "data": {
      "text/html": [
       "<div>\n",
       "<style scoped>\n",
       "    .dataframe tbody tr th:only-of-type {\n",
       "        vertical-align: middle;\n",
       "    }\n",
       "\n",
       "    .dataframe tbody tr th {\n",
       "        vertical-align: top;\n",
       "    }\n",
       "\n",
       "    .dataframe thead th {\n",
       "        text-align: right;\n",
       "    }\n",
       "</style>\n",
       "<table border=\"1\" class=\"dataframe\">\n",
       "  <thead>\n",
       "    <tr style=\"text-align: right;\">\n",
       "      <th></th>\n",
       "      <th>source</th>\n",
       "      <th>source type</th>\n",
       "      <th>target</th>\n",
       "      <th>target type</th>\n",
       "      <th>interaction</th>\n",
       "      <th>pubmed</th>\n",
       "    </tr>\n",
       "    <tr>\n",
       "      <th>pmid</th>\n",
       "      <th></th>\n",
       "      <th></th>\n",
       "      <th></th>\n",
       "      <th></th>\n",
       "      <th></th>\n",
       "      <th></th>\n",
       "    </tr>\n",
       "  </thead>\n",
       "  <tbody>\n",
       "    <tr>\n",
       "      <th>22909821</th>\n",
       "      <td>AATF</td>\n",
       "      <td>TF</td>\n",
       "      <td>BAX</td>\n",
       "      <td>PROTEIN</td>\n",
       "      <td>Repression</td>\n",
       "      <td>22909821</td>\n",
       "    </tr>\n",
       "    <tr>\n",
       "      <th>17157788</th>\n",
       "      <td>AATF</td>\n",
       "      <td>TF</td>\n",
       "      <td>CDKN1A</td>\n",
       "      <td>PROTEIN</td>\n",
       "      <td>Unknown</td>\n",
       "      <td>17157788</td>\n",
       "    </tr>\n",
       "    <tr>\n",
       "      <th>23146908</th>\n",
       "      <td>AATF</td>\n",
       "      <td>TF</td>\n",
       "      <td>KLK3</td>\n",
       "      <td>PROTEIN</td>\n",
       "      <td>Unknown</td>\n",
       "      <td>23146908</td>\n",
       "    </tr>\n",
       "    <tr>\n",
       "      <th>20549547</th>\n",
       "      <td>AATF</td>\n",
       "      <td>TF</td>\n",
       "      <td>MYC</td>\n",
       "      <td>PROTEIN</td>\n",
       "      <td>Activation</td>\n",
       "      <td>20549547</td>\n",
       "    </tr>\n",
       "    <tr>\n",
       "      <th>17157788</th>\n",
       "      <td>AATF</td>\n",
       "      <td>TF</td>\n",
       "      <td>TP53</td>\n",
       "      <td>PROTEIN</td>\n",
       "      <td>Unknown</td>\n",
       "      <td>17157788</td>\n",
       "    </tr>\n",
       "  </tbody>\n",
       "</table>\n",
       "</div>"
      ],
      "text/plain": [
       "         source source type  target target type interaction    pubmed\n",
       "pmid                                                                 \n",
       "22909821   AATF          TF     BAX     PROTEIN  Repression  22909821\n",
       "17157788   AATF          TF  CDKN1A     PROTEIN     Unknown  17157788\n",
       "23146908   AATF          TF    KLK3     PROTEIN     Unknown  23146908\n",
       "20549547   AATF          TF     MYC     PROTEIN  Activation  20549547\n",
       "17157788   AATF          TF    TP53     PROTEIN     Unknown  17157788"
      ]
     },
     "execution_count": 11,
     "metadata": {},
     "output_type": "execute_result"
    }
   ],
   "source": [
    "# Create datapoint for each Pubmed id reference \n",
    "trrust = trrust.explode(column = 'pubmed')\n",
    "trrust = trrust[~trrust.pubmed.isna()]\n",
    "trrust.index = trrust.pubmed\n",
    "trrust.index.name = 'pmid'\n",
    "trrust.head(5)"
   ]
  },
  {
   "cell_type": "code",
   "execution_count": 12,
   "metadata": {
    "scrolled": true
   },
   "outputs": [
    {
     "data": {
      "text/html": [
       "<div>\n",
       "<style scoped>\n",
       "    .dataframe tbody tr th:only-of-type {\n",
       "        vertical-align: middle;\n",
       "    }\n",
       "\n",
       "    .dataframe tbody tr th {\n",
       "        vertical-align: top;\n",
       "    }\n",
       "\n",
       "    .dataframe thead th {\n",
       "        text-align: right;\n",
       "    }\n",
       "</style>\n",
       "<table border=\"1\" class=\"dataframe\">\n",
       "  <thead>\n",
       "    <tr style=\"text-align: right;\">\n",
       "      <th></th>\n",
       "      <th>source</th>\n",
       "      <th>target</th>\n",
       "      <th>interaction</th>\n",
       "      <th>abstract</th>\n",
       "    </tr>\n",
       "    <tr>\n",
       "      <th>pmid</th>\n",
       "      <th></th>\n",
       "      <th></th>\n",
       "      <th></th>\n",
       "      <th></th>\n",
       "    </tr>\n",
       "  </thead>\n",
       "  <tbody>\n",
       "    <tr>\n",
       "      <th>10022128</th>\n",
       "      <td>MYC</td>\n",
       "      <td>TERT</td>\n",
       "      <td>Activation</td>\n",
       "      <td>The telomerase reverse transcriptase component...</td>\n",
       "    </tr>\n",
       "    <tr>\n",
       "      <th>10022513</th>\n",
       "      <td>ERG</td>\n",
       "      <td>HMOX1</td>\n",
       "      <td>Unknown</td>\n",
       "      <td>Overexpression of human heme oxygenase-1 has b...</td>\n",
       "    </tr>\n",
       "    <tr>\n",
       "      <th>10022513</th>\n",
       "      <td>ETS1</td>\n",
       "      <td>HMOX1</td>\n",
       "      <td>Unknown</td>\n",
       "      <td>Overexpression of human heme oxygenase-1 has b...</td>\n",
       "    </tr>\n",
       "    <tr>\n",
       "      <th>10022513</th>\n",
       "      <td>FLI1</td>\n",
       "      <td>HMOX1</td>\n",
       "      <td>Unknown</td>\n",
       "      <td>Overexpression of human heme oxygenase-1 has b...</td>\n",
       "    </tr>\n",
       "    <tr>\n",
       "      <th>10022869</th>\n",
       "      <td>SMAD3</td>\n",
       "      <td>JUN</td>\n",
       "      <td>Unknown</td>\n",
       "      <td>Transcriptional regulation by transforming gro...</td>\n",
       "    </tr>\n",
       "  </tbody>\n",
       "</table>\n",
       "</div>"
      ],
      "text/plain": [
       "         source target interaction  \\\n",
       "pmid                                 \n",
       "10022128    MYC   TERT  Activation   \n",
       "10022513    ERG  HMOX1     Unknown   \n",
       "10022513   ETS1  HMOX1     Unknown   \n",
       "10022513   FLI1  HMOX1     Unknown   \n",
       "10022869  SMAD3    JUN     Unknown   \n",
       "\n",
       "                                                   abstract  \n",
       "pmid                                                         \n",
       "10022128  The telomerase reverse transcriptase component...  \n",
       "10022513  Overexpression of human heme oxygenase-1 has b...  \n",
       "10022513  Overexpression of human heme oxygenase-1 has b...  \n",
       "10022513  Overexpression of human heme oxygenase-1 has b...  \n",
       "10022869  Transcriptional regulation by transforming gro...  "
      ]
     },
     "execution_count": 12,
     "metadata": {},
     "output_type": "execute_result"
    }
   ],
   "source": [
    "# Merge TRRUST with pumed dataframe\n",
    "df = trrust[['source', 'target', 'interaction']].join(pubmed_articles[['abstract']]).dropna(subset = ['abstract'])\n",
    "df.head(5)"
   ]
  },
  {
   "cell_type": "code",
   "execution_count": 13,
   "metadata": {},
   "outputs": [
    {
     "name": "stdout",
     "output_type": "stream",
     "text": [
      "2861 unique gene names...\n",
      "Searching...\n",
      "No of unique gene ids: 2859s...\n",
      "Downloading from gene db...\n",
      "Decoding downloaded data...\n",
      "Parsing to a dict\n",
      "2855 found.\n"
     ]
    }
   ],
   "source": [
    "# Get all the gene names, search and download genes.\n",
    "gene_name_list = df.source.to_list() + df.target.to_list()\n",
    "gene_search_res = search_gene_id(entrez_api_key, entrez_email, gene_name_list)\n",
    "gene_ids = [i['id'] for i in gene_search_res]\n",
    "gene_dict = download_gene_names(entrez_api_key, entrez_email, gene_ids)"
   ]
  },
  {
   "cell_type": "code",
   "execution_count": 14,
   "metadata": {},
   "outputs": [
    {
     "name": "stdout",
     "output_type": "stream",
     "text": [
      "11686 abstracts to be normalized...\n",
      "11686 abstracts normalized...\n",
      "Done!\n"
     ]
    },
    {
     "data": {
      "text/html": [
       "<div>\n",
       "<style scoped>\n",
       "    .dataframe tbody tr th:only-of-type {\n",
       "        vertical-align: middle;\n",
       "    }\n",
       "\n",
       "    .dataframe tbody tr th {\n",
       "        vertical-align: top;\n",
       "    }\n",
       "\n",
       "    .dataframe thead th {\n",
       "        text-align: right;\n",
       "    }\n",
       "</style>\n",
       "<table border=\"1\" class=\"dataframe\">\n",
       "  <thead>\n",
       "    <tr style=\"text-align: right;\">\n",
       "      <th></th>\n",
       "      <th>source</th>\n",
       "      <th>target</th>\n",
       "      <th>interaction</th>\n",
       "      <th>abstract</th>\n",
       "    </tr>\n",
       "    <tr>\n",
       "      <th>pmid</th>\n",
       "      <th></th>\n",
       "      <th></th>\n",
       "      <th></th>\n",
       "      <th></th>\n",
       "    </tr>\n",
       "  </thead>\n",
       "  <tbody>\n",
       "    <tr>\n",
       "      <th>10022128</th>\n",
       "      <td>MYC</td>\n",
       "      <td>TERT</td>\n",
       "      <td>Activation</td>\n",
       "      <td>The tert component (TERT) is not expressed in ...</td>\n",
       "    </tr>\n",
       "    <tr>\n",
       "      <th>10022513</th>\n",
       "      <td>ERG</td>\n",
       "      <td>HMOX1</td>\n",
       "      <td>Unknown</td>\n",
       "      <td>Overexpression of human heme oxygenase-1 has b...</td>\n",
       "    </tr>\n",
       "    <tr>\n",
       "      <th>10022513</th>\n",
       "      <td>ETS1</td>\n",
       "      <td>HMOX1</td>\n",
       "      <td>Unknown</td>\n",
       "      <td>Overexpression of human heme oxygenase-1 has b...</td>\n",
       "    </tr>\n",
       "    <tr>\n",
       "      <th>10022513</th>\n",
       "      <td>FLI1</td>\n",
       "      <td>HMOX1</td>\n",
       "      <td>Unknown</td>\n",
       "      <td>Overexpression of human heme oxygenase-1 has b...</td>\n",
       "    </tr>\n",
       "    <tr>\n",
       "      <th>10022869</th>\n",
       "      <td>SMAD3</td>\n",
       "      <td>JUN</td>\n",
       "      <td>Unknown</td>\n",
       "      <td>Transcriptional regulation by transforming gro...</td>\n",
       "    </tr>\n",
       "  </tbody>\n",
       "</table>\n",
       "</div>"
      ],
      "text/plain": [
       "         source target interaction  \\\n",
       "pmid                                 \n",
       "10022128    MYC   TERT  Activation   \n",
       "10022513    ERG  HMOX1     Unknown   \n",
       "10022513   ETS1  HMOX1     Unknown   \n",
       "10022513   FLI1  HMOX1     Unknown   \n",
       "10022869  SMAD3    JUN     Unknown   \n",
       "\n",
       "                                                   abstract  \n",
       "pmid                                                         \n",
       "10022128  The tert component (TERT) is not expressed in ...  \n",
       "10022513  Overexpression of human heme oxygenase-1 has b...  \n",
       "10022513  Overexpression of human heme oxygenase-1 has b...  \n",
       "10022513  Overexpression of human heme oxygenase-1 has b...  \n",
       "10022869  Transcriptional regulation by transforming gro...  "
      ]
     },
     "execution_count": 14,
     "metadata": {},
     "output_type": "execute_result"
    }
   ],
   "source": [
    "# Normalize genes\n",
    "df['abstract'] = normalize_genes(gene_dict, df.source.to_list(), df.target.to_list(), df.abstract.to_list())\n",
    "df.head(5)"
   ]
  },
  {
   "cell_type": "code",
   "execution_count": 15,
   "metadata": {
    "scrolled": false
   },
   "outputs": [
    {
     "name": "stdout",
     "output_type": "stream",
     "text": [
      "11686 abstracts...\n",
      "115615 sentences found...\n",
      "22276 sentences have a relation information.\n"
     ]
    },
    {
     "data": {
      "text/html": [
       "<div>\n",
       "<style scoped>\n",
       "    .dataframe tbody tr th:only-of-type {\n",
       "        vertical-align: middle;\n",
       "    }\n",
       "\n",
       "    .dataframe tbody tr th {\n",
       "        vertical-align: top;\n",
       "    }\n",
       "\n",
       "    .dataframe thead th {\n",
       "        text-align: right;\n",
       "    }\n",
       "</style>\n",
       "<table border=\"1\" class=\"dataframe\">\n",
       "  <thead>\n",
       "    <tr style=\"text-align: right;\">\n",
       "      <th></th>\n",
       "      <th>source</th>\n",
       "      <th>target</th>\n",
       "      <th>interaction</th>\n",
       "      <th>abstract</th>\n",
       "      <th>sentence</th>\n",
       "      <th>n_lines</th>\n",
       "      <th>match</th>\n",
       "    </tr>\n",
       "    <tr>\n",
       "      <th>pmid</th>\n",
       "      <th></th>\n",
       "      <th></th>\n",
       "      <th></th>\n",
       "      <th></th>\n",
       "      <th></th>\n",
       "      <th></th>\n",
       "      <th></th>\n",
       "    </tr>\n",
       "  </thead>\n",
       "  <tbody>\n",
       "    <tr>\n",
       "      <th>10022128</th>\n",
       "      <td>MYC</td>\n",
       "      <td>TERT</td>\n",
       "      <td>Activation</td>\n",
       "      <td>The tert component (TERT) is not expressed in ...</td>\n",
       "      <td>The tert component TERT is not expressed in mo...</td>\n",
       "      <td>1319</td>\n",
       "      <td>0</td>\n",
       "    </tr>\n",
       "    <tr>\n",
       "      <th>10022128</th>\n",
       "      <td>MYC</td>\n",
       "      <td>TERT</td>\n",
       "      <td>Activation</td>\n",
       "      <td>The tert component (TERT) is not expressed in ...</td>\n",
       "      <td>Here we identify the myc transcription factor...</td>\n",
       "      <td>1319</td>\n",
       "      <td>1</td>\n",
       "    </tr>\n",
       "    <tr>\n",
       "      <th>10022128</th>\n",
       "      <td>MYC</td>\n",
       "      <td>TERT</td>\n",
       "      <td>Activation</td>\n",
       "      <td>The tert component (TERT) is not expressed in ...</td>\n",
       "      <td>Through the use of a hormone inducible form o...</td>\n",
       "      <td>1319</td>\n",
       "      <td>1</td>\n",
       "    </tr>\n",
       "    <tr>\n",
       "      <th>10022128</th>\n",
       "      <td>MYC</td>\n",
       "      <td>TERT</td>\n",
       "      <td>Activation</td>\n",
       "      <td>The tert component (TERT) is not expressed in ...</td>\n",
       "      <td>These findings demonstrate that the TERT gene...</td>\n",
       "      <td>1319</td>\n",
       "      <td>1</td>\n",
       "    </tr>\n",
       "    <tr>\n",
       "      <th>10022128</th>\n",
       "      <td>MYC</td>\n",
       "      <td>TERT</td>\n",
       "      <td>Activation</td>\n",
       "      <td>The tert component (TERT) is not expressed in ...</td>\n",
       "      <td>Since telomerase activation frequently correl...</td>\n",
       "      <td>1319</td>\n",
       "      <td>1</td>\n",
       "    </tr>\n",
       "  </tbody>\n",
       "</table>\n",
       "</div>"
      ],
      "text/plain": [
       "         source target interaction  \\\n",
       "pmid                                 \n",
       "10022128    MYC   TERT  Activation   \n",
       "10022128    MYC   TERT  Activation   \n",
       "10022128    MYC   TERT  Activation   \n",
       "10022128    MYC   TERT  Activation   \n",
       "10022128    MYC   TERT  Activation   \n",
       "\n",
       "                                                   abstract  \\\n",
       "pmid                                                          \n",
       "10022128  The tert component (TERT) is not expressed in ...   \n",
       "10022128  The tert component (TERT) is not expressed in ...   \n",
       "10022128  The tert component (TERT) is not expressed in ...   \n",
       "10022128  The tert component (TERT) is not expressed in ...   \n",
       "10022128  The tert component (TERT) is not expressed in ...   \n",
       "\n",
       "                                                   sentence  n_lines  match  \n",
       "pmid                                                                         \n",
       "10022128  The tert component TERT is not expressed in mo...     1319      0  \n",
       "10022128   Here we identify the myc transcription factor...     1319      1  \n",
       "10022128   Through the use of a hormone inducible form o...     1319      1  \n",
       "10022128   These findings demonstrate that the TERT gene...     1319      1  \n",
       "10022128   Since telomerase activation frequently correl...     1319      1  "
      ]
     },
     "execution_count": 15,
     "metadata": {},
     "output_type": "execute_result"
    }
   ],
   "source": [
    "# Find sentences with gene mentions\n",
    "rel_df = find_sentences(df)\n",
    "rel_df.head(5)"
   ]
  },
  {
   "cell_type": "code",
   "execution_count": 16,
   "metadata": {
    "scrolled": true
   },
   "outputs": [],
   "source": [
    "rel_df = rel_df[['source', 'target', 'interaction', 'sentence', 'match']]"
   ]
  },
  {
   "cell_type": "code",
   "execution_count": 17,
   "metadata": {},
   "outputs": [],
   "source": [
    "rel_df.to_csv('trrust_norm_rel.csv')"
   ]
  }
 ],
 "metadata": {
  "kernelspec": {
   "display_name": "Python 3",
   "language": "python",
   "name": "python3"
  },
  "language_info": {
   "codemirror_mode": {
    "name": "ipython",
    "version": 3
   },
   "file_extension": ".py",
   "mimetype": "text/x-python",
   "name": "python",
   "nbconvert_exporter": "python",
   "pygments_lexer": "ipython3",
   "version": "3.8.11"
  }
 },
 "nbformat": 4,
 "nbformat_minor": 4
}
