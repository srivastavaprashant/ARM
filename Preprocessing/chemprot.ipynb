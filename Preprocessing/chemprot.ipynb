{
 "cells": [
  {
   "cell_type": "markdown",
   "metadata": {},
   "source": [
    "Import Libraries"
   ]
  },
  {
   "cell_type": "code",
   "execution_count": 1,
   "metadata": {},
   "outputs": [],
   "source": [
    "import os"
   ]
  },
  {
   "cell_type": "code",
   "execution_count": 2,
   "metadata": {},
   "outputs": [],
   "source": [
    "home_dir = '../'\n",
    "os.chdir(home_dir)\n",
    "from ext import download_pubmed_articles, search_gene_id, download_gene_names, search_chem_id, download_chem_names\n",
    "from norm import normalize_chems_genes\n",
    "from relation_finder import find_sentences\n",
    "\n",
    "\"\"\"\n",
    "Required: A valid entrez registered email and entrez api-key.\n",
    "More information: Entrez Programming Utilities (E-utilities)\n",
    "\"\"\"  \n",
    "from config import entrez_api_key, entrez_email"
   ]
  },
  {
   "cell_type": "code",
   "execution_count": 3,
   "metadata": {},
   "outputs": [],
   "source": [
    "import pandas as pd\n",
    "import numpy as np\n",
    "import re"
   ]
  },
  {
   "cell_type": "code",
   "execution_count": 4,
   "metadata": {},
   "outputs": [],
   "source": [
    "from Bio import Entrez\n",
    "import xmltodict"
   ]
  },
  {
   "cell_type": "markdown",
   "metadata": {},
   "source": [
    "Preprocessing <b>ChemProt</b><br>\n",
    "<a href=\"https://biocreative.bioinformatics.udel.edu/news/corpora/chemprot-corpus-biocreative-vi/\">Chemical-Protein Interactions</a>"
   ]
  },
  {
   "cell_type": "code",
   "execution_count": 5,
   "metadata": {},
   "outputs": [],
   "source": [
    "chemprot = pd.read_csv('Data/chemprot.csv')"
   ]
  },
  {
   "cell_type": "code",
   "execution_count": 6,
   "metadata": {},
   "outputs": [
    {
     "data": {
      "text/html": [
       "<div>\n",
       "<style scoped>\n",
       "    .dataframe tbody tr th:only-of-type {\n",
       "        vertical-align: middle;\n",
       "    }\n",
       "\n",
       "    .dataframe tbody tr th {\n",
       "        vertical-align: top;\n",
       "    }\n",
       "\n",
       "    .dataframe thead th {\n",
       "        text-align: right;\n",
       "    }\n",
       "</style>\n",
       "<table border=\"1\" class=\"dataframe\">\n",
       "  <thead>\n",
       "    <tr style=\"text-align: right;\">\n",
       "      <th></th>\n",
       "      <th>source</th>\n",
       "      <th>target</th>\n",
       "      <th>interaction</th>\n",
       "      <th>abstract</th>\n",
       "    </tr>\n",
       "    <tr>\n",
       "      <th>pmid</th>\n",
       "      <th></th>\n",
       "      <th></th>\n",
       "      <th></th>\n",
       "      <th></th>\n",
       "    </tr>\n",
       "  </thead>\n",
       "  <tbody>\n",
       "    <tr>\n",
       "      <th>10047461</th>\n",
       "      <td>Tomudex</td>\n",
       "      <td>kinase</td>\n",
       "      <td>ACTIVATOR</td>\n",
       "      <td>Tomudex (ZD1694) is a specific antifolate-base...</td>\n",
       "    </tr>\n",
       "    <tr>\n",
       "      <th>10047461</th>\n",
       "      <td>Tomudex</td>\n",
       "      <td>cyclin E</td>\n",
       "      <td>INDIRECT-UPREGULATOR</td>\n",
       "      <td>Tomudex (ZD1694) is a specific antifolate-base...</td>\n",
       "    </tr>\n",
       "    <tr>\n",
       "      <th>10047461</th>\n",
       "      <td>Tomudex</td>\n",
       "      <td>cdk2</td>\n",
       "      <td>INDIRECT-UPREGULATOR</td>\n",
       "      <td>Tomudex (ZD1694) is a specific antifolate-base...</td>\n",
       "    </tr>\n",
       "    <tr>\n",
       "      <th>10047461</th>\n",
       "      <td>Tomudex</td>\n",
       "      <td>p27(kip1)</td>\n",
       "      <td>INDIRECT-DOWNREGULATOR</td>\n",
       "      <td>Tomudex (ZD1694) is a specific antifolate-base...</td>\n",
       "    </tr>\n",
       "    <tr>\n",
       "      <th>10047461</th>\n",
       "      <td>Tomudex</td>\n",
       "      <td>cyclin E</td>\n",
       "      <td>ACTIVATOR</td>\n",
       "      <td>Tomudex (ZD1694) is a specific antifolate-base...</td>\n",
       "    </tr>\n",
       "  </tbody>\n",
       "</table>\n",
       "</div>"
      ],
      "text/plain": [
       "           source     target             interaction  \\\n",
       "pmid                                                   \n",
       "10047461  Tomudex     kinase               ACTIVATOR   \n",
       "10047461  Tomudex   cyclin E    INDIRECT-UPREGULATOR   \n",
       "10047461  Tomudex       cdk2    INDIRECT-UPREGULATOR   \n",
       "10047461  Tomudex  p27(kip1)  INDIRECT-DOWNREGULATOR   \n",
       "10047461  Tomudex   cyclin E               ACTIVATOR   \n",
       "\n",
       "                                                   abstract  \n",
       "pmid                                                         \n",
       "10047461  Tomudex (ZD1694) is a specific antifolate-base...  \n",
       "10047461  Tomudex (ZD1694) is a specific antifolate-base...  \n",
       "10047461  Tomudex (ZD1694) is a specific antifolate-base...  \n",
       "10047461  Tomudex (ZD1694) is a specific antifolate-base...  \n",
       "10047461  Tomudex (ZD1694) is a specific antifolate-base...  "
      ]
     },
     "execution_count": 6,
     "metadata": {},
     "output_type": "execute_result"
    }
   ],
   "source": [
    "chemprot.index = chemprot.pmid.astype('str')\n",
    "chemprot = chemprot.dropna()\n",
    "chemprot = chemprot.drop(columns = ['pmid'])\n",
    "chemprot.head(5)"
   ]
  },
  {
   "cell_type": "code",
   "execution_count": 7,
   "metadata": {},
   "outputs": [
    {
     "name": "stdout",
     "output_type": "stream",
     "text": [
      "No of entries in ChemProt: 15734\n"
     ]
    }
   ],
   "source": [
    "print('No of entries in ChemProt:', chemprot.shape[0])"
   ]
  },
  {
   "cell_type": "code",
   "execution_count": 9,
   "metadata": {},
   "outputs": [],
   "source": [
    "df = chemprot"
   ]
  },
  {
   "cell_type": "code",
   "execution_count": 11,
   "metadata": {},
   "outputs": [
    {
     "name": "stdout",
     "output_type": "stream",
     "text": [
      "3952 unique chemical names.\n",
      "Searching...\n",
      "No of unique gene ids: 2380 3952\n",
      "Downloading from gene db...\n",
      "Decoding downloaded data...\n",
      "Parsing to a dict\n",
      "2375 found.\n"
     ]
    }
   ],
   "source": [
    "# Get all the chem names, search and download chemicals.\n",
    "chem_name_list = df.source.to_list()\n",
    "chem_search_res = search_chem_id(entrez_api_key, entrez_email, chem_name_list)\n",
    "chem_ids = [i['id'] for i in chem_search_res]\n",
    "chem_dict = download_chem_names(entrez_api_key, entrez_email, chem_ids)"
   ]
  },
  {
   "cell_type": "code",
   "execution_count": 12,
   "metadata": {},
   "outputs": [],
   "source": [
    "chem_df = pd.DataFrame(chem_dict)[['id', 'chem']].rename(columns = {'chem':'syn'})\n",
    "chem_dict = pd.DataFrame(chem_search_res).merge(chem_df, on='id').dropna()\n",
    "#chem_dict['syn'] = chem_dict.syn.apply(lambda x: [x])\n",
    "chem_dict = list(chem_dict.T.to_dict().values())"
   ]
  },
  {
   "cell_type": "code",
   "execution_count": 15,
   "metadata": {
    "scrolled": true
   },
   "outputs": [
    {
     "name": "stdout",
     "output_type": "stream",
     "text": [
      "4190 unique gene names...\n",
      "Searching...\n",
      "No of unique gene ids: 2493s...\n",
      "Downloading from gene db...\n",
      "Decoding downloaded data...\n",
      "Parsing to a dict\n",
      "2417 found.\n"
     ]
    }
   ],
   "source": [
    "# Get all the gene names, search and download genes.\n",
    "gene_search_res = search_gene_id(entrez_api_key, entrez_email, df.target.unique().tolist())\n",
    "gene_ids = [i['id'] for i in gene_search_res]\n",
    "gene_dict = download_gene_names(entrez_api_key, entrez_email, gene_ids)\n",
    "gene_df = pd.DataFrame(gene_dict)[['id', 'gene']].rename(columns = {'gene':'aliases'})\n",
    "gene_dict = pd.DataFrame(gene_search_res).merge(gene_df, on='id').dropna()\n",
    "gene_dict = list(gene_dict.T.to_dict().values())"
   ]
  },
  {
   "cell_type": "code",
   "execution_count": 16,
   "metadata": {
    "scrolled": true
   },
   "outputs": [
    {
     "name": "stdout",
     "output_type": "stream",
     "text": [
      "15734 abstracts to be normalized...\n",
      "15734 abstracts normalized...\n",
      "Done!\n"
     ]
    }
   ],
   "source": [
    "# Normalize chemical and gene names\n",
    "df['abstract'] = normalize_chems_genes(chem_dict, gene_dict, df.source.to_list(), df.target.to_list(), df.abstract.to_list())"
   ]
  },
  {
   "cell_type": "code",
   "execution_count": 17,
   "metadata": {
    "scrolled": true
   },
   "outputs": [],
   "source": [
    "for i in range(len(df)):\n",
    "    try:\n",
    "        source_chem = list(filter(lambda x: x['chem'].lower() == df.iloc[i]['source'].lower(), chem_dict))[0]\n",
    "        target_gene = list(filter(lambda x: x['gene'].lower() == df.iloc[i]['target'].lower(), gene_dict))[0]\n",
    "        df.iloc[i]['source'] = source_chem['syn']\n",
    "        df.iloc[i]['target'] = target_gene['aliases']  \n",
    "    except:\n",
    "        pass"
   ]
  },
  {
   "cell_type": "code",
   "execution_count": 18,
   "metadata": {},
   "outputs": [
    {
     "data": {
      "text/html": [
       "<div>\n",
       "<style scoped>\n",
       "    .dataframe tbody tr th:only-of-type {\n",
       "        vertical-align: middle;\n",
       "    }\n",
       "\n",
       "    .dataframe tbody tr th {\n",
       "        vertical-align: top;\n",
       "    }\n",
       "\n",
       "    .dataframe thead th {\n",
       "        text-align: right;\n",
       "    }\n",
       "</style>\n",
       "<table border=\"1\" class=\"dataframe\">\n",
       "  <thead>\n",
       "    <tr style=\"text-align: right;\">\n",
       "      <th></th>\n",
       "      <th>source</th>\n",
       "      <th>target</th>\n",
       "      <th>interaction</th>\n",
       "      <th>abstract</th>\n",
       "    </tr>\n",
       "    <tr>\n",
       "      <th>pmid</th>\n",
       "      <th></th>\n",
       "      <th></th>\n",
       "      <th></th>\n",
       "      <th></th>\n",
       "    </tr>\n",
       "  </thead>\n",
       "  <tbody>\n",
       "    <tr>\n",
       "      <th>10047461</th>\n",
       "      <td>raltitrexed</td>\n",
       "      <td>egfr</td>\n",
       "      <td>ACTIVATOR</td>\n",
       "      <td>raltitrexed (ZD1694) is a specific antifolate-...</td>\n",
       "    </tr>\n",
       "    <tr>\n",
       "      <th>10047461</th>\n",
       "      <td>raltitrexed</td>\n",
       "      <td>cyce</td>\n",
       "      <td>INDIRECT-UPREGULATOR</td>\n",
       "      <td>raltitrexed (ZD1694) is a specific antifolate-...</td>\n",
       "    </tr>\n",
       "    <tr>\n",
       "      <th>10047461</th>\n",
       "      <td>raltitrexed</td>\n",
       "      <td>cdk2</td>\n",
       "      <td>INDIRECT-UPREGULATOR</td>\n",
       "      <td>raltitrexed (ZD1694) is a specific antifolate-...</td>\n",
       "    </tr>\n",
       "    <tr>\n",
       "      <th>10047461</th>\n",
       "      <td>raltitrexed</td>\n",
       "      <td>cdkn1b</td>\n",
       "      <td>INDIRECT-DOWNREGULATOR</td>\n",
       "      <td>raltitrexed (ZD1694) is a specific antifolate-...</td>\n",
       "    </tr>\n",
       "    <tr>\n",
       "      <th>10047461</th>\n",
       "      <td>raltitrexed</td>\n",
       "      <td>cyce</td>\n",
       "      <td>ACTIVATOR</td>\n",
       "      <td>raltitrexed (ZD1694) is a specific antifolate-...</td>\n",
       "    </tr>\n",
       "  </tbody>\n",
       "</table>\n",
       "</div>"
      ],
      "text/plain": [
       "               source  target             interaction  \\\n",
       "pmid                                                    \n",
       "10047461  raltitrexed    egfr               ACTIVATOR   \n",
       "10047461  raltitrexed    cyce    INDIRECT-UPREGULATOR   \n",
       "10047461  raltitrexed    cdk2    INDIRECT-UPREGULATOR   \n",
       "10047461  raltitrexed  cdkn1b  INDIRECT-DOWNREGULATOR   \n",
       "10047461  raltitrexed    cyce               ACTIVATOR   \n",
       "\n",
       "                                                   abstract  \n",
       "pmid                                                         \n",
       "10047461  raltitrexed (ZD1694) is a specific antifolate-...  \n",
       "10047461  raltitrexed (ZD1694) is a specific antifolate-...  \n",
       "10047461  raltitrexed (ZD1694) is a specific antifolate-...  \n",
       "10047461  raltitrexed (ZD1694) is a specific antifolate-...  \n",
       "10047461  raltitrexed (ZD1694) is a specific antifolate-...  "
      ]
     },
     "execution_count": 18,
     "metadata": {},
     "output_type": "execute_result"
    }
   ],
   "source": [
    "df.head(5)"
   ]
  },
  {
   "cell_type": "code",
   "execution_count": 19,
   "metadata": {},
   "outputs": [
    {
     "name": "stdout",
     "output_type": "stream",
     "text": [
      "15734 abstracts...\n",
      "187672 sentences found...\n",
      "15693 sentences have a relation information.\n"
     ]
    },
    {
     "data": {
      "text/html": [
       "<div>\n",
       "<style scoped>\n",
       "    .dataframe tbody tr th:only-of-type {\n",
       "        vertical-align: middle;\n",
       "    }\n",
       "\n",
       "    .dataframe tbody tr th {\n",
       "        vertical-align: top;\n",
       "    }\n",
       "\n",
       "    .dataframe thead th {\n",
       "        text-align: right;\n",
       "    }\n",
       "</style>\n",
       "<table border=\"1\" class=\"dataframe\">\n",
       "  <thead>\n",
       "    <tr style=\"text-align: right;\">\n",
       "      <th></th>\n",
       "      <th>source</th>\n",
       "      <th>target</th>\n",
       "      <th>interaction</th>\n",
       "      <th>abstract</th>\n",
       "      <th>sentence</th>\n",
       "      <th>n_lines</th>\n",
       "      <th>match</th>\n",
       "    </tr>\n",
       "    <tr>\n",
       "      <th>pmid</th>\n",
       "      <th></th>\n",
       "      <th></th>\n",
       "      <th></th>\n",
       "      <th></th>\n",
       "      <th></th>\n",
       "      <th></th>\n",
       "      <th></th>\n",
       "    </tr>\n",
       "  </thead>\n",
       "  <tbody>\n",
       "    <tr>\n",
       "      <th>10047461</th>\n",
       "      <td>raltitrexed</td>\n",
       "      <td>egfr</td>\n",
       "      <td>ACTIVATOR</td>\n",
       "      <td>raltitrexed (ZD1694) is a specific antifolate-...</td>\n",
       "      <td>raltitrexed ZD1694 is a specific antifolatebas...</td>\n",
       "      <td>2815</td>\n",
       "      <td>0</td>\n",
       "    </tr>\n",
       "    <tr>\n",
       "      <th>10047461</th>\n",
       "      <td>raltitrexed</td>\n",
       "      <td>egfr</td>\n",
       "      <td>ACTIVATOR</td>\n",
       "      <td>raltitrexed (ZD1694) is a specific antifolate-...</td>\n",
       "      <td>Studies were carried out in vitro to evaluate...</td>\n",
       "      <td>2815</td>\n",
       "      <td>0</td>\n",
       "    </tr>\n",
       "    <tr>\n",
       "      <th>10047461</th>\n",
       "      <td>raltitrexed</td>\n",
       "      <td>egfr</td>\n",
       "      <td>ACTIVATOR</td>\n",
       "      <td>raltitrexed (ZD1694) is a specific antifolate-...</td>\n",
       "      <td>Twentyfour hours following the initial 2h tre...</td>\n",
       "      <td>2815</td>\n",
       "      <td>0</td>\n",
       "    </tr>\n",
       "    <tr>\n",
       "      <th>10047461</th>\n",
       "      <td>raltitrexed</td>\n",
       "      <td>egfr</td>\n",
       "      <td>ACTIVATOR</td>\n",
       "      <td>raltitrexed (ZD1694) is a specific antifolate-...</td>\n",
       "      <td>The changes in cyclin and cdk protein express...</td>\n",
       "      <td>2815</td>\n",
       "      <td>0</td>\n",
       "    </tr>\n",
       "    <tr>\n",
       "      <th>10047461</th>\n",
       "      <td>raltitrexed</td>\n",
       "      <td>egfr</td>\n",
       "      <td>ACTIVATOR</td>\n",
       "      <td>raltitrexed (ZD1694) is a specific antifolate-...</td>\n",
       "      <td>raltitrexed treatment resulted in the decreas...</td>\n",
       "      <td>2815</td>\n",
       "      <td>1</td>\n",
       "    </tr>\n",
       "  </tbody>\n",
       "</table>\n",
       "</div>"
      ],
      "text/plain": [
       "               source target interaction  \\\n",
       "pmid                                       \n",
       "10047461  raltitrexed   egfr   ACTIVATOR   \n",
       "10047461  raltitrexed   egfr   ACTIVATOR   \n",
       "10047461  raltitrexed   egfr   ACTIVATOR   \n",
       "10047461  raltitrexed   egfr   ACTIVATOR   \n",
       "10047461  raltitrexed   egfr   ACTIVATOR   \n",
       "\n",
       "                                                   abstract  \\\n",
       "pmid                                                          \n",
       "10047461  raltitrexed (ZD1694) is a specific antifolate-...   \n",
       "10047461  raltitrexed (ZD1694) is a specific antifolate-...   \n",
       "10047461  raltitrexed (ZD1694) is a specific antifolate-...   \n",
       "10047461  raltitrexed (ZD1694) is a specific antifolate-...   \n",
       "10047461  raltitrexed (ZD1694) is a specific antifolate-...   \n",
       "\n",
       "                                                   sentence  n_lines  match  \n",
       "pmid                                                                         \n",
       "10047461  raltitrexed ZD1694 is a specific antifolatebas...     2815      0  \n",
       "10047461   Studies were carried out in vitro to evaluate...     2815      0  \n",
       "10047461   Twentyfour hours following the initial 2h tre...     2815      0  \n",
       "10047461   The changes in cyclin and cdk protein express...     2815      0  \n",
       "10047461   raltitrexed treatment resulted in the decreas...     2815      1  "
      ]
     },
     "execution_count": 19,
     "metadata": {},
     "output_type": "execute_result"
    }
   ],
   "source": [
    "# Find sentences with gene and chem mentions\n",
    "rel_df = find_sentences(df)\n",
    "rel_df.head(5)"
   ]
  },
  {
   "cell_type": "code",
   "execution_count": 21,
   "metadata": {},
   "outputs": [],
   "source": [
    "rel_df = rel_df[['source', 'target', 'interaction', 'sentence', 'match']]"
   ]
  },
  {
   "cell_type": "code",
   "execution_count": 22,
   "metadata": {},
   "outputs": [],
   "source": [
    "rel_df.to_csv('chemprot_norm_rel.csv')"
   ]
  }
 ],
 "metadata": {
  "kernelspec": {
   "display_name": "Python 3",
   "language": "python",
   "name": "python3"
  },
  "language_info": {
   "codemirror_mode": {
    "name": "ipython",
    "version": 3
   },
   "file_extension": ".py",
   "mimetype": "text/x-python",
   "name": "python",
   "nbconvert_exporter": "python",
   "pygments_lexer": "ipython3",
   "version": "3.8.11"
  }
 },
 "nbformat": 4,
 "nbformat_minor": 4
}
