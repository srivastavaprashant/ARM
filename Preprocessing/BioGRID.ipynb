{
 "cells": [
  {
   "cell_type": "markdown",
   "metadata": {},
   "source": [
    "Import Libraries"
   ]
  },
  {
   "cell_type": "code",
   "execution_count": 1,
   "metadata": {},
   "outputs": [],
   "source": [
    "import os"
   ]
  },
  {
   "cell_type": "code",
   "execution_count": 2,
   "metadata": {},
   "outputs": [],
   "source": [
    "home_dir = '../'\n",
    "os.chdir(home_dir)\n",
    "from ext import download_pubmed_articles, search_gene_id, download_gene_names\n",
    "from norm import normalize_genes\n",
    "from relation_finder import find_sentences\n",
    "\n",
    "\"\"\"\n",
    "Required: A valid entrez registered email and entrez api-key.\n",
    "More information: Entrez Programming Utilities (E-utilities)\n",
    "\"\"\"  \n",
    "from config import entrez_api_key, entrez_email"
   ]
  },
  {
   "cell_type": "code",
   "execution_count": 3,
   "metadata": {},
   "outputs": [],
   "source": [
    "import pandas as pd\n",
    "import numpy as np\n",
    "import re"
   ]
  },
  {
   "cell_type": "code",
   "execution_count": 4,
   "metadata": {},
   "outputs": [],
   "source": [
    "from Bio import Entrez\n",
    "import xmltodict"
   ]
  },
  {
   "cell_type": "markdown",
   "metadata": {},
   "source": [
    "Preprocessing <b>BioGRID</b>. <br>\n",
    "<a href=\"https://thebiogrid.org/\"> Biological General Repository for Interaction Datasets</a>"
   ]
  },
  {
   "cell_type": "code",
   "execution_count": 5,
   "metadata": {},
   "outputs": [
    {
     "data": {
      "text/html": [
       "<div>\n",
       "<style scoped>\n",
       "    .dataframe tbody tr th:only-of-type {\n",
       "        vertical-align: middle;\n",
       "    }\n",
       "\n",
       "    .dataframe tbody tr th {\n",
       "        vertical-align: top;\n",
       "    }\n",
       "\n",
       "    .dataframe thead th {\n",
       "        text-align: right;\n",
       "    }\n",
       "</style>\n",
       "<table border=\"1\" class=\"dataframe\">\n",
       "  <thead>\n",
       "    <tr style=\"text-align: right;\">\n",
       "      <th></th>\n",
       "      <th>#ID Interactor A</th>\n",
       "      <th>ID Interactor B</th>\n",
       "      <th>Alt IDs Interactor A</th>\n",
       "      <th>Alt IDs Interactor B</th>\n",
       "      <th>Aliases Interactor A</th>\n",
       "      <th>Aliases Interactor B</th>\n",
       "      <th>Interaction Detection Method</th>\n",
       "      <th>Publication 1st Author</th>\n",
       "      <th>Publication Identifiers</th>\n",
       "      <th>Taxid Interactor A</th>\n",
       "      <th>Taxid Interactor B</th>\n",
       "      <th>Interaction Types</th>\n",
       "      <th>Source Database</th>\n",
       "      <th>Interaction Identifiers</th>\n",
       "      <th>Confidence Values</th>\n",
       "      <th>source</th>\n",
       "      <th>target</th>\n",
       "      <th>interaction</th>\n",
       "      <th>pubmed</th>\n",
       "    </tr>\n",
       "  </thead>\n",
       "  <tbody>\n",
       "    <tr>\n",
       "      <th>0</th>\n",
       "      <td>entrez gene/locuslink:6416</td>\n",
       "      <td>entrez gene/locuslink:2318</td>\n",
       "      <td>biogrid:112315|entrez gene/locuslink:MAP2K4|un...</td>\n",
       "      <td>biogrid:108607|entrez gene/locuslink:FLNC|unip...</td>\n",
       "      <td>entrez gene/locuslink:JNKK(gene name synonym)|...</td>\n",
       "      <td>entrez gene/locuslink:ABP-280(gene name synony...</td>\n",
       "      <td>psi-mi:\"MI:0018\"(two hybrid)</td>\n",
       "      <td>Marti A (1997)</td>\n",
       "      <td>pubmed:9006895</td>\n",
       "      <td>taxid:9606</td>\n",
       "      <td>taxid:9606</td>\n",
       "      <td>psi-mi:\"MI:0407\"(direct interaction)</td>\n",
       "      <td>psi-mi:\"MI:0463\"(biogrid)</td>\n",
       "      <td>biogrid:103</td>\n",
       "      <td>-</td>\n",
       "      <td>MAP2K4</td>\n",
       "      <td>FLNC</td>\n",
       "      <td>direct interaction</td>\n",
       "      <td>9006895</td>\n",
       "    </tr>\n",
       "    <tr>\n",
       "      <th>1</th>\n",
       "      <td>entrez gene/locuslink:84665</td>\n",
       "      <td>entrez gene/locuslink:88</td>\n",
       "      <td>biogrid:124185|entrez gene/locuslink:MYPN|unip...</td>\n",
       "      <td>biogrid:106603|entrez gene/locuslink:ACTN2|uni...</td>\n",
       "      <td>entrez gene/locuslink:CMD1DD(gene name synonym...</td>\n",
       "      <td>entrez gene/locuslink:CMD1AA(gene name synonym)</td>\n",
       "      <td>psi-mi:\"MI:0018\"(two hybrid)</td>\n",
       "      <td>Bang ML (2001)</td>\n",
       "      <td>pubmed:11309420</td>\n",
       "      <td>taxid:9606</td>\n",
       "      <td>taxid:9606</td>\n",
       "      <td>psi-mi:\"MI:0407\"(direct interaction)</td>\n",
       "      <td>psi-mi:\"MI:0463\"(biogrid)</td>\n",
       "      <td>biogrid:117</td>\n",
       "      <td>-</td>\n",
       "      <td>MYPN</td>\n",
       "      <td>ACTN2</td>\n",
       "      <td>direct interaction</td>\n",
       "      <td>11309420</td>\n",
       "    </tr>\n",
       "    <tr>\n",
       "      <th>2</th>\n",
       "      <td>entrez gene/locuslink:90</td>\n",
       "      <td>entrez gene/locuslink:2339</td>\n",
       "      <td>biogrid:106605|entrez gene/locuslink:ACVR1|uni...</td>\n",
       "      <td>biogrid:108625|entrez gene/locuslink:FNTA|unip...</td>\n",
       "      <td>entrez gene/locuslink:ACTRI(gene name synonym)...</td>\n",
       "      <td>entrez gene/locuslink:FPTA(gene name synonym)|...</td>\n",
       "      <td>psi-mi:\"MI:0018\"(two hybrid)</td>\n",
       "      <td>Wang T (1996)</td>\n",
       "      <td>pubmed:8599089</td>\n",
       "      <td>taxid:9606</td>\n",
       "      <td>taxid:9606</td>\n",
       "      <td>psi-mi:\"MI:0407\"(direct interaction)</td>\n",
       "      <td>psi-mi:\"MI:0463\"(biogrid)</td>\n",
       "      <td>biogrid:183</td>\n",
       "      <td>-</td>\n",
       "      <td>ACVR1</td>\n",
       "      <td>FNTA</td>\n",
       "      <td>direct interaction</td>\n",
       "      <td>8599089</td>\n",
       "    </tr>\n",
       "    <tr>\n",
       "      <th>3</th>\n",
       "      <td>entrez gene/locuslink:2624</td>\n",
       "      <td>entrez gene/locuslink:5371</td>\n",
       "      <td>biogrid:108894|entrez gene/locuslink:GATA2|uni...</td>\n",
       "      <td>biogrid:111384|entrez gene/locuslink:PML|unipr...</td>\n",
       "      <td>entrez gene/locuslink:DCML(gene name synonym)|...</td>\n",
       "      <td>entrez gene/locuslink:MYL(gene name synonym)|e...</td>\n",
       "      <td>psi-mi:\"MI:0018\"(two hybrid)</td>\n",
       "      <td>Tsuzuki S (2000)</td>\n",
       "      <td>pubmed:10938104</td>\n",
       "      <td>taxid:9606</td>\n",
       "      <td>taxid:9606</td>\n",
       "      <td>psi-mi:\"MI:0407\"(direct interaction)</td>\n",
       "      <td>psi-mi:\"MI:0463\"(biogrid)</td>\n",
       "      <td>biogrid:278</td>\n",
       "      <td>-</td>\n",
       "      <td>GATA2</td>\n",
       "      <td>PML</td>\n",
       "      <td>direct interaction</td>\n",
       "      <td>10938104</td>\n",
       "    </tr>\n",
       "    <tr>\n",
       "      <th>4</th>\n",
       "      <td>entrez gene/locuslink:6118</td>\n",
       "      <td>entrez gene/locuslink:6774</td>\n",
       "      <td>biogrid:112038|entrez gene/locuslink:RPA2|entr...</td>\n",
       "      <td>biogrid:112651|entrez gene/locuslink:STAT3|uni...</td>\n",
       "      <td>entrez gene/locuslink:REPA2(gene name synonym)...</td>\n",
       "      <td>entrez gene/locuslink:ADMIO(gene name synonym)...</td>\n",
       "      <td>psi-mi:\"MI:0018\"(two hybrid)</td>\n",
       "      <td>Kim J (2000)</td>\n",
       "      <td>pubmed:10875894</td>\n",
       "      <td>taxid:9606</td>\n",
       "      <td>taxid:9606</td>\n",
       "      <td>psi-mi:\"MI:0407\"(direct interaction)</td>\n",
       "      <td>psi-mi:\"MI:0463\"(biogrid)</td>\n",
       "      <td>biogrid:418</td>\n",
       "      <td>-</td>\n",
       "      <td>RPA2</td>\n",
       "      <td>STAT3</td>\n",
       "      <td>direct interaction</td>\n",
       "      <td>10875894</td>\n",
       "    </tr>\n",
       "  </tbody>\n",
       "</table>\n",
       "</div>"
      ],
      "text/plain": [
       "              #ID Interactor A             ID Interactor B  \\\n",
       "0   entrez gene/locuslink:6416  entrez gene/locuslink:2318   \n",
       "1  entrez gene/locuslink:84665    entrez gene/locuslink:88   \n",
       "2     entrez gene/locuslink:90  entrez gene/locuslink:2339   \n",
       "3   entrez gene/locuslink:2624  entrez gene/locuslink:5371   \n",
       "4   entrez gene/locuslink:6118  entrez gene/locuslink:6774   \n",
       "\n",
       "                                Alt IDs Interactor A  \\\n",
       "0  biogrid:112315|entrez gene/locuslink:MAP2K4|un...   \n",
       "1  biogrid:124185|entrez gene/locuslink:MYPN|unip...   \n",
       "2  biogrid:106605|entrez gene/locuslink:ACVR1|uni...   \n",
       "3  biogrid:108894|entrez gene/locuslink:GATA2|uni...   \n",
       "4  biogrid:112038|entrez gene/locuslink:RPA2|entr...   \n",
       "\n",
       "                                Alt IDs Interactor B  \\\n",
       "0  biogrid:108607|entrez gene/locuslink:FLNC|unip...   \n",
       "1  biogrid:106603|entrez gene/locuslink:ACTN2|uni...   \n",
       "2  biogrid:108625|entrez gene/locuslink:FNTA|unip...   \n",
       "3  biogrid:111384|entrez gene/locuslink:PML|unipr...   \n",
       "4  biogrid:112651|entrez gene/locuslink:STAT3|uni...   \n",
       "\n",
       "                                Aliases Interactor A  \\\n",
       "0  entrez gene/locuslink:JNKK(gene name synonym)|...   \n",
       "1  entrez gene/locuslink:CMD1DD(gene name synonym...   \n",
       "2  entrez gene/locuslink:ACTRI(gene name synonym)...   \n",
       "3  entrez gene/locuslink:DCML(gene name synonym)|...   \n",
       "4  entrez gene/locuslink:REPA2(gene name synonym)...   \n",
       "\n",
       "                                Aliases Interactor B  \\\n",
       "0  entrez gene/locuslink:ABP-280(gene name synony...   \n",
       "1    entrez gene/locuslink:CMD1AA(gene name synonym)   \n",
       "2  entrez gene/locuslink:FPTA(gene name synonym)|...   \n",
       "3  entrez gene/locuslink:MYL(gene name synonym)|e...   \n",
       "4  entrez gene/locuslink:ADMIO(gene name synonym)...   \n",
       "\n",
       "   Interaction Detection Method Publication 1st Author  \\\n",
       "0  psi-mi:\"MI:0018\"(two hybrid)         Marti A (1997)   \n",
       "1  psi-mi:\"MI:0018\"(two hybrid)         Bang ML (2001)   \n",
       "2  psi-mi:\"MI:0018\"(two hybrid)          Wang T (1996)   \n",
       "3  psi-mi:\"MI:0018\"(two hybrid)       Tsuzuki S (2000)   \n",
       "4  psi-mi:\"MI:0018\"(two hybrid)           Kim J (2000)   \n",
       "\n",
       "  Publication Identifiers Taxid Interactor A Taxid Interactor B  \\\n",
       "0          pubmed:9006895         taxid:9606         taxid:9606   \n",
       "1         pubmed:11309420         taxid:9606         taxid:9606   \n",
       "2          pubmed:8599089         taxid:9606         taxid:9606   \n",
       "3         pubmed:10938104         taxid:9606         taxid:9606   \n",
       "4         pubmed:10875894         taxid:9606         taxid:9606   \n",
       "\n",
       "                      Interaction Types            Source Database  \\\n",
       "0  psi-mi:\"MI:0407\"(direct interaction)  psi-mi:\"MI:0463\"(biogrid)   \n",
       "1  psi-mi:\"MI:0407\"(direct interaction)  psi-mi:\"MI:0463\"(biogrid)   \n",
       "2  psi-mi:\"MI:0407\"(direct interaction)  psi-mi:\"MI:0463\"(biogrid)   \n",
       "3  psi-mi:\"MI:0407\"(direct interaction)  psi-mi:\"MI:0463\"(biogrid)   \n",
       "4  psi-mi:\"MI:0407\"(direct interaction)  psi-mi:\"MI:0463\"(biogrid)   \n",
       "\n",
       "  Interaction Identifiers Confidence Values  source target  \\\n",
       "0             biogrid:103                 -  MAP2K4   FLNC   \n",
       "1             biogrid:117                 -    MYPN  ACTN2   \n",
       "2             biogrid:183                 -   ACVR1   FNTA   \n",
       "3             biogrid:278                 -   GATA2    PML   \n",
       "4             biogrid:418                 -    RPA2  STAT3   \n",
       "\n",
       "          interaction    pubmed  \n",
       "0  direct interaction   9006895  \n",
       "1  direct interaction  11309420  \n",
       "2  direct interaction   8599089  \n",
       "3  direct interaction  10938104  \n",
       "4  direct interaction  10875894  "
      ]
     },
     "execution_count": 5,
     "metadata": {},
     "output_type": "execute_result"
    }
   ],
   "source": [
    "biogrid = pd.read_csv('Data/BIOGRID-ALL-4.3.196.mitab.txt', sep = '\\t')\n",
    "biogrid = biogrid[(biogrid['#ID Interactor A'].str[:6] == 'entrez') & (biogrid['ID Interactor B'].str[:6] == 'entrez')]\n",
    "biogrid['source'] = biogrid['Alt IDs Interactor A'].apply(lambda x: re.findall(r'entrez gene/locuslink:[\\w]*', x)[0][22:])\n",
    "biogrid['target'] = biogrid['Alt IDs Interactor B'].apply(lambda x: re.findall(r'entrez gene/locuslink:[\\w]*', x)[0][22:])\n",
    "biogrid['interaction'] = biogrid['Interaction Types'].str[17:-1]\n",
    "biogrid['pubmed'] = biogrid['Publication Identifiers'].str[7:]\n",
    "biogrid = biogrid[~biogrid.pubmed.isna()]\n",
    "biogrid.head(5)"
   ]
  },
  {
   "cell_type": "code",
   "execution_count": 6,
   "metadata": {},
   "outputs": [
    {
     "name": "stdout",
     "output_type": "stream",
     "text": [
      "No of entries in BioGRID: 1996885\n"
     ]
    }
   ],
   "source": [
    "print('No of entries in BioGRID:', biogrid.shape[0])"
   ]
  },
  {
   "cell_type": "code",
   "execution_count": 16,
   "metadata": {
    "scrolled": false
   },
   "outputs": [
    {
     "ename": "KeyError",
     "evalue": "'Publication Identifiers'",
     "output_type": "error",
     "traceback": [
      "\u001b[0;31m---------------------------------------------------------------------------\u001b[0m",
      "\u001b[0;31mKeyError\u001b[0m                                  Traceback (most recent call last)",
      "\u001b[0;32m/opt/anaconda3/lib/python3.8/site-packages/pandas/core/indexes/base.py\u001b[0m in \u001b[0;36mget_loc\u001b[0;34m(self, key, method, tolerance)\u001b[0m\n\u001b[1;32m   3360\u001b[0m             \u001b[0;32mtry\u001b[0m\u001b[0;34m:\u001b[0m\u001b[0;34m\u001b[0m\u001b[0;34m\u001b[0m\u001b[0m\n\u001b[0;32m-> 3361\u001b[0;31m                 \u001b[0;32mreturn\u001b[0m \u001b[0mself\u001b[0m\u001b[0;34m.\u001b[0m\u001b[0m_engine\u001b[0m\u001b[0;34m.\u001b[0m\u001b[0mget_loc\u001b[0m\u001b[0;34m(\u001b[0m\u001b[0mcasted_key\u001b[0m\u001b[0;34m)\u001b[0m\u001b[0;34m\u001b[0m\u001b[0;34m\u001b[0m\u001b[0m\n\u001b[0m\u001b[1;32m   3362\u001b[0m             \u001b[0;32mexcept\u001b[0m \u001b[0mKeyError\u001b[0m \u001b[0;32mas\u001b[0m \u001b[0merr\u001b[0m\u001b[0;34m:\u001b[0m\u001b[0;34m\u001b[0m\u001b[0;34m\u001b[0m\u001b[0m\n",
      "\u001b[0;32m/opt/anaconda3/lib/python3.8/site-packages/pandas/_libs/index.pyx\u001b[0m in \u001b[0;36mpandas._libs.index.IndexEngine.get_loc\u001b[0;34m()\u001b[0m\n",
      "\u001b[0;32m/opt/anaconda3/lib/python3.8/site-packages/pandas/_libs/index.pyx\u001b[0m in \u001b[0;36mpandas._libs.index.IndexEngine.get_loc\u001b[0;34m()\u001b[0m\n",
      "\u001b[0;32mpandas/_libs/hashtable_class_helper.pxi\u001b[0m in \u001b[0;36mpandas._libs.hashtable.PyObjectHashTable.get_item\u001b[0;34m()\u001b[0m\n",
      "\u001b[0;32mpandas/_libs/hashtable_class_helper.pxi\u001b[0m in \u001b[0;36mpandas._libs.hashtable.PyObjectHashTable.get_item\u001b[0;34m()\u001b[0m\n",
      "\u001b[0;31mKeyError\u001b[0m: 'Publication Identifiers'",
      "\nThe above exception was the direct cause of the following exception:\n",
      "\u001b[0;31mKeyError\u001b[0m                                  Traceback (most recent call last)",
      "\u001b[0;32m<ipython-input-16-5aaad58b1960>\u001b[0m in \u001b[0;36m<module>\u001b[0;34m\u001b[0m\n\u001b[1;32m      1\u001b[0m \u001b[0;31m# Create a list of all Pubmed IDs\u001b[0m\u001b[0;34m\u001b[0m\u001b[0;34m\u001b[0m\u001b[0;34m\u001b[0m\u001b[0m\n\u001b[0;32m----> 2\u001b[0;31m \u001b[0mpubmed_list\u001b[0m \u001b[0;34m=\u001b[0m \u001b[0mlist\u001b[0m\u001b[0;34m(\u001b[0m\u001b[0mset\u001b[0m\u001b[0;34m(\u001b[0m\u001b[0mbiogrid\u001b[0m\u001b[0;34m[\u001b[0m\u001b[0;34m'Publication Identifiers'\u001b[0m\u001b[0;34m]\u001b[0m\u001b[0;34m.\u001b[0m\u001b[0mstr\u001b[0m\u001b[0;34m[\u001b[0m\u001b[0;36m7\u001b[0m\u001b[0;34m:\u001b[0m\u001b[0;34m]\u001b[0m\u001b[0;34m.\u001b[0m\u001b[0mto_list\u001b[0m\u001b[0;34m(\u001b[0m\u001b[0;34m)\u001b[0m\u001b[0;34m)\u001b[0m\u001b[0;34m)\u001b[0m\u001b[0;34m\u001b[0m\u001b[0;34m\u001b[0m\u001b[0m\n\u001b[0m\u001b[1;32m      3\u001b[0m \u001b[0;31m# Download abstracts from Pubmed IDs\u001b[0m\u001b[0;34m\u001b[0m\u001b[0;34m\u001b[0m\u001b[0;34m\u001b[0m\u001b[0m\n\u001b[1;32m      4\u001b[0m \u001b[0mprint\u001b[0m\u001b[0;34m(\u001b[0m\u001b[0;34m'Set 1'\u001b[0m\u001b[0;34m)\u001b[0m\u001b[0;34m\u001b[0m\u001b[0;34m\u001b[0m\u001b[0m\n\u001b[1;32m      5\u001b[0m \u001b[0mres1\u001b[0m \u001b[0;34m=\u001b[0m \u001b[0mdownload_pubmed_articles\u001b[0m\u001b[0;34m(\u001b[0m\u001b[0mentrez_api_key\u001b[0m\u001b[0;34m,\u001b[0m \u001b[0mentrez_email\u001b[0m\u001b[0;34m,\u001b[0m \u001b[0mpubmed_list\u001b[0m\u001b[0;34m[\u001b[0m\u001b[0;34m:\u001b[0m\u001b[0;36m10000\u001b[0m\u001b[0;34m]\u001b[0m\u001b[0;34m)\u001b[0m\u001b[0;34m\u001b[0m\u001b[0;34m\u001b[0m\u001b[0m\n",
      "\u001b[0;32m/opt/anaconda3/lib/python3.8/site-packages/pandas/core/frame.py\u001b[0m in \u001b[0;36m__getitem__\u001b[0;34m(self, key)\u001b[0m\n\u001b[1;32m   3453\u001b[0m             \u001b[0;32mif\u001b[0m \u001b[0mself\u001b[0m\u001b[0;34m.\u001b[0m\u001b[0mcolumns\u001b[0m\u001b[0;34m.\u001b[0m\u001b[0mnlevels\u001b[0m \u001b[0;34m>\u001b[0m \u001b[0;36m1\u001b[0m\u001b[0;34m:\u001b[0m\u001b[0;34m\u001b[0m\u001b[0;34m\u001b[0m\u001b[0m\n\u001b[1;32m   3454\u001b[0m                 \u001b[0;32mreturn\u001b[0m \u001b[0mself\u001b[0m\u001b[0;34m.\u001b[0m\u001b[0m_getitem_multilevel\u001b[0m\u001b[0;34m(\u001b[0m\u001b[0mkey\u001b[0m\u001b[0;34m)\u001b[0m\u001b[0;34m\u001b[0m\u001b[0;34m\u001b[0m\u001b[0m\n\u001b[0;32m-> 3455\u001b[0;31m             \u001b[0mindexer\u001b[0m \u001b[0;34m=\u001b[0m \u001b[0mself\u001b[0m\u001b[0;34m.\u001b[0m\u001b[0mcolumns\u001b[0m\u001b[0;34m.\u001b[0m\u001b[0mget_loc\u001b[0m\u001b[0;34m(\u001b[0m\u001b[0mkey\u001b[0m\u001b[0;34m)\u001b[0m\u001b[0;34m\u001b[0m\u001b[0;34m\u001b[0m\u001b[0m\n\u001b[0m\u001b[1;32m   3456\u001b[0m             \u001b[0;32mif\u001b[0m \u001b[0mis_integer\u001b[0m\u001b[0;34m(\u001b[0m\u001b[0mindexer\u001b[0m\u001b[0;34m)\u001b[0m\u001b[0;34m:\u001b[0m\u001b[0;34m\u001b[0m\u001b[0;34m\u001b[0m\u001b[0m\n\u001b[1;32m   3457\u001b[0m                 \u001b[0mindexer\u001b[0m \u001b[0;34m=\u001b[0m \u001b[0;34m[\u001b[0m\u001b[0mindexer\u001b[0m\u001b[0;34m]\u001b[0m\u001b[0;34m\u001b[0m\u001b[0;34m\u001b[0m\u001b[0m\n",
      "\u001b[0;32m/opt/anaconda3/lib/python3.8/site-packages/pandas/core/indexes/base.py\u001b[0m in \u001b[0;36mget_loc\u001b[0;34m(self, key, method, tolerance)\u001b[0m\n\u001b[1;32m   3361\u001b[0m                 \u001b[0;32mreturn\u001b[0m \u001b[0mself\u001b[0m\u001b[0;34m.\u001b[0m\u001b[0m_engine\u001b[0m\u001b[0;34m.\u001b[0m\u001b[0mget_loc\u001b[0m\u001b[0;34m(\u001b[0m\u001b[0mcasted_key\u001b[0m\u001b[0;34m)\u001b[0m\u001b[0;34m\u001b[0m\u001b[0;34m\u001b[0m\u001b[0m\n\u001b[1;32m   3362\u001b[0m             \u001b[0;32mexcept\u001b[0m \u001b[0mKeyError\u001b[0m \u001b[0;32mas\u001b[0m \u001b[0merr\u001b[0m\u001b[0;34m:\u001b[0m\u001b[0;34m\u001b[0m\u001b[0;34m\u001b[0m\u001b[0m\n\u001b[0;32m-> 3363\u001b[0;31m                 \u001b[0;32mraise\u001b[0m \u001b[0mKeyError\u001b[0m\u001b[0;34m(\u001b[0m\u001b[0mkey\u001b[0m\u001b[0;34m)\u001b[0m \u001b[0;32mfrom\u001b[0m \u001b[0merr\u001b[0m\u001b[0;34m\u001b[0m\u001b[0;34m\u001b[0m\u001b[0m\n\u001b[0m\u001b[1;32m   3364\u001b[0m \u001b[0;34m\u001b[0m\u001b[0m\n\u001b[1;32m   3365\u001b[0m         \u001b[0;32mif\u001b[0m \u001b[0mis_scalar\u001b[0m\u001b[0;34m(\u001b[0m\u001b[0mkey\u001b[0m\u001b[0;34m)\u001b[0m \u001b[0;32mand\u001b[0m \u001b[0misna\u001b[0m\u001b[0;34m(\u001b[0m\u001b[0mkey\u001b[0m\u001b[0;34m)\u001b[0m \u001b[0;32mand\u001b[0m \u001b[0;32mnot\u001b[0m \u001b[0mself\u001b[0m\u001b[0;34m.\u001b[0m\u001b[0mhasnans\u001b[0m\u001b[0;34m:\u001b[0m\u001b[0;34m\u001b[0m\u001b[0;34m\u001b[0m\u001b[0m\n",
      "\u001b[0;31mKeyError\u001b[0m: 'Publication Identifiers'"
     ]
    }
   ],
   "source": [
    "# Create a list of all Pubmed IDs\n",
    "pubmed_list = list(set(biogrid['Publication Identifiers'].str[7:].to_list()))\n",
    "# Download abstracts from Pubmed IDs\n",
    "print('Set 1')\n",
    "res1 = download_pubmed_articles(entrez_api_key, entrez_email, pubmed_list[:10000])\n",
    "print('Set 2')\n",
    "res2 = download_pubmed_articles(entrez_api_key, entrez_email, pubmed_list[10000:20000])\n",
    "print('Set 3')\n",
    "res3 = download_pubmed_articles(entrez_api_key, entrez_email, pubmed_list[20000:30000])\n",
    "print('Set 4')\n",
    "res4 = download_pubmed_articles(entrez_api_key, entrez_email, pubmed_list[30000:40000])\n",
    "print('Set 5')\n",
    "res5 = download_pubmed_articles(entrez_api_key, entrez_email, pubmed_list[40000:50000])\n",
    "print('Set 6')\n",
    "res6 = download_pubmed_articles(entrez_api_key, entrez_email, pubmed_list[50000:60000])\n",
    "print('Set 7')\n",
    "res7 = download_pubmed_articles(entrez_api_key, entrez_email, pubmed_list[60000:])\n",
    "res = res1 + res2 + res3 + res4 + res5 + res6 + res7\n",
    "print('-'*15)\n",
    "print(f'{len(res)} articles found out of {len(pubmed_list)}')"
   ]
  },
  {
   "cell_type": "code",
   "execution_count": null,
   "metadata": {},
   "outputs": [],
   "source": [
    "# Create DataFrame for downloaded pubmed articles.\n",
    "pubmed_articles = pd.DataFrame(res).dropna()\n",
    "pubmed_articles.index = pubmed_articles.pubmed\n",
    "pubmed_articles.index.name = 'pmid'\n",
    "pubmed_articles.head(5)"
   ]
  },
  {
   "cell_type": "code",
   "execution_count": 9,
   "metadata": {
    "scrolled": true
   },
   "outputs": [
    {
     "data": {
      "text/html": [
       "<div>\n",
       "<style scoped>\n",
       "    .dataframe tbody tr th:only-of-type {\n",
       "        vertical-align: middle;\n",
       "    }\n",
       "\n",
       "    .dataframe tbody tr th {\n",
       "        vertical-align: top;\n",
       "    }\n",
       "\n",
       "    .dataframe thead th {\n",
       "        text-align: right;\n",
       "    }\n",
       "</style>\n",
       "<table border=\"1\" class=\"dataframe\">\n",
       "  <thead>\n",
       "    <tr style=\"text-align: right;\">\n",
       "      <th></th>\n",
       "      <th>source</th>\n",
       "      <th>target</th>\n",
       "      <th>interaction</th>\n",
       "      <th>abstract</th>\n",
       "    </tr>\n",
       "    <tr>\n",
       "      <th>pmid</th>\n",
       "      <th></th>\n",
       "      <th></th>\n",
       "      <th></th>\n",
       "      <th></th>\n",
       "    </tr>\n",
       "  </thead>\n",
       "  <tbody>\n",
       "    <tr>\n",
       "      <th>10021333</th>\n",
       "      <td>apt</td>\n",
       "      <td>aret</td>\n",
       "      <td>physical association</td>\n",
       "      <td>The product of the oskar gene directs posterio...</td>\n",
       "    </tr>\n",
       "    <tr>\n",
       "      <th>10021333</th>\n",
       "      <td>apt</td>\n",
       "      <td>osk</td>\n",
       "      <td>direct interaction</td>\n",
       "      <td>The product of the oskar gene directs posterio...</td>\n",
       "    </tr>\n",
       "    <tr>\n",
       "      <th>10021350</th>\n",
       "      <td>arm</td>\n",
       "      <td>alpha</td>\n",
       "      <td>physical association</td>\n",
       "      <td>Drosophila Armadillo and its vertebrate homolo...</td>\n",
       "    </tr>\n",
       "    <tr>\n",
       "      <th>10021350</th>\n",
       "      <td>arm</td>\n",
       "      <td>shg</td>\n",
       "      <td>physical association</td>\n",
       "      <td>Drosophila Armadillo and its vertebrate homolo...</td>\n",
       "    </tr>\n",
       "    <tr>\n",
       "      <th>10021361</th>\n",
       "      <td>GRAP2</td>\n",
       "      <td>LCP2</td>\n",
       "      <td>physical association</td>\n",
       "      <td>The adaptor protein Gads is a Grb2-related pro...</td>\n",
       "    </tr>\n",
       "  </tbody>\n",
       "</table>\n",
       "</div>"
      ],
      "text/plain": [
       "         source target           interaction  \\\n",
       "pmid                                           \n",
       "10021333    apt   aret  physical association   \n",
       "10021333    apt    osk    direct interaction   \n",
       "10021350    arm  alpha  physical association   \n",
       "10021350    arm    shg  physical association   \n",
       "10021361  GRAP2   LCP2  physical association   \n",
       "\n",
       "                                                   abstract  \n",
       "pmid                                                         \n",
       "10021333  The product of the oskar gene directs posterio...  \n",
       "10021333  The product of the oskar gene directs posterio...  \n",
       "10021350  Drosophila Armadillo and its vertebrate homolo...  \n",
       "10021350  Drosophila Armadillo and its vertebrate homolo...  \n",
       "10021361  The adaptor protein Gads is a Grb2-related pro...  "
      ]
     },
     "execution_count": 9,
     "metadata": {},
     "output_type": "execute_result"
    }
   ],
   "source": [
    "# Merge BioGRID with pubmed dataframe\n",
    "biogrid.index = biogrid.pubmed\n",
    "biogrid.index.name = 'pmid'\n",
    "biogrid = biogrid[['source', 'target', 'interaction']]\n",
    "df = biogrid.join(pubmed_articles).dropna(subset = ['abstract'])\n",
    "df = df[['source', 'target', 'interaction', 'abstract']]\n",
    "df.head(5)"
   ]
  },
  {
   "cell_type": "code",
   "execution_count": null,
   "metadata": {
    "scrolled": false
   },
   "outputs": [],
   "source": [
    "# Search gene names\n",
    "gene_name_list = list(set(df.source.to_list() + df.target.to_list()))\n",
    "gene_name_list = [i for i in gene_name_list if len(i)>0]\n",
    "gene_search_res = search_gene_id(entrez_api_key, entrez_email, gene_name_list)"
   ]
  },
  {
   "cell_type": "code",
   "execution_count": 11,
   "metadata": {
    "scrolled": false
   },
   "outputs": [
    {
     "name": "stdout",
     "output_type": "stream",
     "text": [
      "Set 1\n",
      "No of unique gene ids: 10000\n",
      "Downloading from gene db...\n",
      "Decoding downloaded data...\n",
      "Parsing to a dict\n",
      "9846 found.\n",
      "Set 2\n",
      "No of unique gene ids: 10000\n",
      "Downloading from gene db...\n",
      "Decoding downloaded data...\n",
      "Parsing to a dict\n",
      "9841 found.\n",
      "Set 3\n",
      "No of unique gene ids: 10000\n",
      "Downloading from gene db...\n",
      "Decoding downloaded data...\n",
      "Parsing to a dict\n",
      "9849 found.\n",
      "Set 4\n",
      "No of unique gene ids: 10000\n",
      "Downloading from gene db...\n",
      "Decoding downloaded data...\n",
      "Parsing to a dict\n",
      "9817 found.\n",
      "Set 5\n",
      "No of unique gene ids: 11823\n",
      "Downloading from gene db...\n",
      "Decoding downloaded data...\n",
      "Parsing to a dict\n",
      "9835 found.\n",
      "---------------\n",
      "49188 genes downloaded out of 51823\n"
     ]
    }
   ],
   "source": [
    "# Download genes.\n",
    "gene_ids = list(set([i['id'] for i in gene_search_res]))\n",
    "print('Set 1')\n",
    "gene_dict1 = download_gene_names(entrez_api_key, entrez_email, gene_ids[:10000])\n",
    "print('Set 2')\n",
    "gene_dict2 = download_gene_names(entrez_api_key, entrez_email, gene_ids[10000:20000])\n",
    "print('Set 3')\n",
    "gene_dict3 = download_gene_names(entrez_api_key, entrez_email, gene_ids[20000:30000])\n",
    "print('Set 4')\n",
    "gene_dict4 = download_gene_names(entrez_api_key, entrez_email, gene_ids[30000:40000])\n",
    "print('Set 5')\n",
    "gene_dict5 = download_gene_names(entrez_api_key, entrez_email, gene_ids[40000:])\n",
    "gene_dict = gene_dict1 + gene_dict2 + gene_dict3 + gene_dict4 + gene_dict5\n",
    "print('-'*15)\n",
    "print(f'{len(gene_dict)} genes downloaded out of {len(gene_ids)}')"
   ]
  },
  {
   "cell_type": "code",
   "execution_count": 14,
   "metadata": {
    "scrolled": false
   },
   "outputs": [
    {
     "name": "stdout",
     "output_type": "stream",
     "text": [
      "1977720 abstracts to be normalized...\n",
      "509402 abstracts normalized...\r"
     ]
    },
    {
     "name": "stderr",
     "output_type": "stream",
     "text": [
      "IOPub message rate exceeded.\n",
      "The notebook server will temporarily stop sending output\n",
      "to the client in order to avoid crashing it.\n",
      "To change this limit, set the config variable\n",
      "`--NotebookApp.iopub_msg_rate_limit`.\n",
      "\n",
      "Current values:\n",
      "NotebookApp.iopub_msg_rate_limit=1000.0 (msgs/sec)\n",
      "NotebookApp.rate_limit_window=3.0 (secs)\n",
      "\n"
     ]
    },
    {
     "name": "stdout",
     "output_type": "stream",
     "text": [
      "593931 abstracts normalized...\r"
     ]
    },
    {
     "name": "stderr",
     "output_type": "stream",
     "text": [
      "IOPub message rate exceeded.\n",
      "The notebook server will temporarily stop sending output\n",
      "to the client in order to avoid crashing it.\n",
      "To change this limit, set the config variable\n",
      "`--NotebookApp.iopub_msg_rate_limit`.\n",
      "\n",
      "Current values:\n",
      "NotebookApp.iopub_msg_rate_limit=1000.0 (msgs/sec)\n",
      "NotebookApp.rate_limit_window=3.0 (secs)\n",
      "\n"
     ]
    },
    {
     "name": "stdout",
     "output_type": "stream",
     "text": [
      "677975 abstracts normalized...\r"
     ]
    },
    {
     "name": "stderr",
     "output_type": "stream",
     "text": [
      "IOPub message rate exceeded.\n",
      "The notebook server will temporarily stop sending output\n",
      "to the client in order to avoid crashing it.\n",
      "To change this limit, set the config variable\n",
      "`--NotebookApp.iopub_msg_rate_limit`.\n",
      "\n",
      "Current values:\n",
      "NotebookApp.iopub_msg_rate_limit=1000.0 (msgs/sec)\n",
      "NotebookApp.rate_limit_window=3.0 (secs)\n",
      "\n"
     ]
    },
    {
     "name": "stdout",
     "output_type": "stream",
     "text": [
      "758167 abstracts normalized...\r"
     ]
    },
    {
     "name": "stderr",
     "output_type": "stream",
     "text": [
      "IOPub message rate exceeded.\n",
      "The notebook server will temporarily stop sending output\n",
      "to the client in order to avoid crashing it.\n",
      "To change this limit, set the config variable\n",
      "`--NotebookApp.iopub_msg_rate_limit`.\n",
      "\n",
      "Current values:\n",
      "NotebookApp.iopub_msg_rate_limit=1000.0 (msgs/sec)\n",
      "NotebookApp.rate_limit_window=3.0 (secs)\n",
      "\n"
     ]
    },
    {
     "name": "stdout",
     "output_type": "stream",
     "text": [
      "839502 abstracts normalized...\r"
     ]
    },
    {
     "name": "stderr",
     "output_type": "stream",
     "text": [
      "IOPub message rate exceeded.\n",
      "The notebook server will temporarily stop sending output\n",
      "to the client in order to avoid crashing it.\n",
      "To change this limit, set the config variable\n",
      "`--NotebookApp.iopub_msg_rate_limit`.\n",
      "\n",
      "Current values:\n",
      "NotebookApp.iopub_msg_rate_limit=1000.0 (msgs/sec)\n",
      "NotebookApp.rate_limit_window=3.0 (secs)\n",
      "\n"
     ]
    },
    {
     "name": "stdout",
     "output_type": "stream",
     "text": [
      "918915 abstracts normalized...\r"
     ]
    },
    {
     "name": "stderr",
     "output_type": "stream",
     "text": [
      "IOPub message rate exceeded.\n",
      "The notebook server will temporarily stop sending output\n",
      "to the client in order to avoid crashing it.\n",
      "To change this limit, set the config variable\n",
      "`--NotebookApp.iopub_msg_rate_limit`.\n",
      "\n",
      "Current values:\n",
      "NotebookApp.iopub_msg_rate_limit=1000.0 (msgs/sec)\n",
      "NotebookApp.rate_limit_window=3.0 (secs)\n",
      "\n"
     ]
    },
    {
     "name": "stdout",
     "output_type": "stream",
     "text": [
      "1000310 abstracts normalized...\r"
     ]
    },
    {
     "name": "stderr",
     "output_type": "stream",
     "text": [
      "IOPub message rate exceeded.\n",
      "The notebook server will temporarily stop sending output\n",
      "to the client in order to avoid crashing it.\n",
      "To change this limit, set the config variable\n",
      "`--NotebookApp.iopub_msg_rate_limit`.\n",
      "\n",
      "Current values:\n",
      "NotebookApp.iopub_msg_rate_limit=1000.0 (msgs/sec)\n",
      "NotebookApp.rate_limit_window=3.0 (secs)\n",
      "\n"
     ]
    },
    {
     "name": "stdout",
     "output_type": "stream",
     "text": [
      "1977720 abstracts normalized...\n",
      "Done!\n"
     ]
    },
    {
     "data": {
      "text/html": [
       "<div>\n",
       "<style scoped>\n",
       "    .dataframe tbody tr th:only-of-type {\n",
       "        vertical-align: middle;\n",
       "    }\n",
       "\n",
       "    .dataframe tbody tr th {\n",
       "        vertical-align: top;\n",
       "    }\n",
       "\n",
       "    .dataframe thead th {\n",
       "        text-align: right;\n",
       "    }\n",
       "</style>\n",
       "<table border=\"1\" class=\"dataframe\">\n",
       "  <thead>\n",
       "    <tr style=\"text-align: right;\">\n",
       "      <th></th>\n",
       "      <th>source</th>\n",
       "      <th>target</th>\n",
       "      <th>interaction</th>\n",
       "      <th>abstract</th>\n",
       "    </tr>\n",
       "    <tr>\n",
       "      <th>pmid</th>\n",
       "      <th></th>\n",
       "      <th></th>\n",
       "      <th></th>\n",
       "      <th></th>\n",
       "    </tr>\n",
       "  </thead>\n",
       "  <tbody>\n",
       "    <tr>\n",
       "      <th>10021333</th>\n",
       "      <td>apt</td>\n",
       "      <td>aret</td>\n",
       "      <td>physical association</td>\n",
       "      <td>The product of the oskar gene directs posterio...</td>\n",
       "    </tr>\n",
       "    <tr>\n",
       "      <th>10021333</th>\n",
       "      <td>apt</td>\n",
       "      <td>osk</td>\n",
       "      <td>direct interaction</td>\n",
       "      <td>The product of the osk gene directs posterior ...</td>\n",
       "    </tr>\n",
       "    <tr>\n",
       "      <th>10021350</th>\n",
       "      <td>arm</td>\n",
       "      <td>alpha</td>\n",
       "      <td>physical association</td>\n",
       "      <td>Drosophila Armadillo and its vertebrate homolo...</td>\n",
       "    </tr>\n",
       "    <tr>\n",
       "      <th>10021350</th>\n",
       "      <td>arm</td>\n",
       "      <td>shg</td>\n",
       "      <td>physical association</td>\n",
       "      <td>Drosophila Armadillo and its vertebrate homolo...</td>\n",
       "    </tr>\n",
       "    <tr>\n",
       "      <th>10021361</th>\n",
       "      <td>GRAP2</td>\n",
       "      <td>LCP2</td>\n",
       "      <td>physical association</td>\n",
       "      <td>The adaptor protein grap2 is a Grb2-related pr...</td>\n",
       "    </tr>\n",
       "  </tbody>\n",
       "</table>\n",
       "</div>"
      ],
      "text/plain": [
       "         source target           interaction  \\\n",
       "pmid                                           \n",
       "10021333    apt   aret  physical association   \n",
       "10021333    apt    osk    direct interaction   \n",
       "10021350    arm  alpha  physical association   \n",
       "10021350    arm    shg  physical association   \n",
       "10021361  GRAP2   LCP2  physical association   \n",
       "\n",
       "                                                   abstract  \n",
       "pmid                                                         \n",
       "10021333  The product of the oskar gene directs posterio...  \n",
       "10021333  The product of the osk gene directs posterior ...  \n",
       "10021350  Drosophila Armadillo and its vertebrate homolo...  \n",
       "10021350  Drosophila Armadillo and its vertebrate homolo...  \n",
       "10021361  The adaptor protein grap2 is a Grb2-related pr...  "
      ]
     },
     "execution_count": 14,
     "metadata": {},
     "output_type": "execute_result"
    }
   ],
   "source": [
    "# Normalize genes\n",
    "df['abstract'] = normalize_genes(gene_dict, df.source.to_list(), df.target.to_list(), df.abstract.to_list())\n",
    "df.head(5)"
   ]
  },
  {
   "cell_type": "code",
   "execution_count": 15,
   "metadata": {},
   "outputs": [
    {
     "name": "stdout",
     "output_type": "stream",
     "text": [
      "1977720 abstracts...\n",
      "14189269 sentences found...\n",
      "313403 sentences have a relation information.\n"
     ]
    },
    {
     "data": {
      "text/html": [
       "<div>\n",
       "<style scoped>\n",
       "    .dataframe tbody tr th:only-of-type {\n",
       "        vertical-align: middle;\n",
       "    }\n",
       "\n",
       "    .dataframe tbody tr th {\n",
       "        vertical-align: top;\n",
       "    }\n",
       "\n",
       "    .dataframe thead th {\n",
       "        text-align: right;\n",
       "    }\n",
       "</style>\n",
       "<table border=\"1\" class=\"dataframe\">\n",
       "  <thead>\n",
       "    <tr style=\"text-align: right;\">\n",
       "      <th></th>\n",
       "      <th>source</th>\n",
       "      <th>target</th>\n",
       "      <th>interaction</th>\n",
       "      <th>abstract</th>\n",
       "      <th>sentence</th>\n",
       "      <th>n_lines</th>\n",
       "      <th>match</th>\n",
       "    </tr>\n",
       "    <tr>\n",
       "      <th>pmid</th>\n",
       "      <th></th>\n",
       "      <th></th>\n",
       "      <th></th>\n",
       "      <th></th>\n",
       "      <th></th>\n",
       "      <th></th>\n",
       "      <th></th>\n",
       "    </tr>\n",
       "  </thead>\n",
       "  <tbody>\n",
       "    <tr>\n",
       "      <th>10021333</th>\n",
       "      <td>apt</td>\n",
       "      <td>aret</td>\n",
       "      <td>physical association</td>\n",
       "      <td>The product of the oskar gene directs posterio...</td>\n",
       "      <td>The product of the oskar gene directs posterio...</td>\n",
       "      <td>1172</td>\n",
       "      <td>0</td>\n",
       "    </tr>\n",
       "    <tr>\n",
       "      <th>10021333</th>\n",
       "      <td>apt</td>\n",
       "      <td>aret</td>\n",
       "      <td>physical association</td>\n",
       "      <td>The product of the oskar gene directs posterio...</td>\n",
       "      <td>Proper expression relies on the coordinated l...</td>\n",
       "      <td>1172</td>\n",
       "      <td>0</td>\n",
       "    </tr>\n",
       "    <tr>\n",
       "      <th>10021333</th>\n",
       "      <td>apt</td>\n",
       "      <td>aret</td>\n",
       "      <td>physical association</td>\n",
       "      <td>The product of the oskar gene directs posterio...</td>\n",
       "      <td>Translational repression prior to localizatio...</td>\n",
       "      <td>1172</td>\n",
       "      <td>0</td>\n",
       "    </tr>\n",
       "    <tr>\n",
       "      <th>10021333</th>\n",
       "      <td>apt</td>\n",
       "      <td>aret</td>\n",
       "      <td>physical association</td>\n",
       "      <td>The product of the oskar gene directs posterio...</td>\n",
       "      <td>To begin to understand how Bruno acts in tran...</td>\n",
       "      <td>1172</td>\n",
       "      <td>0</td>\n",
       "    </tr>\n",
       "    <tr>\n",
       "      <th>10021333</th>\n",
       "      <td>apt</td>\n",
       "      <td>aret</td>\n",
       "      <td>physical association</td>\n",
       "      <td>The product of the oskar gene directs posterio...</td>\n",
       "      <td>One interactor described here is the product ...</td>\n",
       "      <td>1172</td>\n",
       "      <td>0</td>\n",
       "    </tr>\n",
       "  </tbody>\n",
       "</table>\n",
       "</div>"
      ],
      "text/plain": [
       "         source target           interaction  \\\n",
       "pmid                                           \n",
       "10021333    apt   aret  physical association   \n",
       "10021333    apt   aret  physical association   \n",
       "10021333    apt   aret  physical association   \n",
       "10021333    apt   aret  physical association   \n",
       "10021333    apt   aret  physical association   \n",
       "\n",
       "                                                   abstract  \\\n",
       "pmid                                                          \n",
       "10021333  The product of the oskar gene directs posterio...   \n",
       "10021333  The product of the oskar gene directs posterio...   \n",
       "10021333  The product of the oskar gene directs posterio...   \n",
       "10021333  The product of the oskar gene directs posterio...   \n",
       "10021333  The product of the oskar gene directs posterio...   \n",
       "\n",
       "                                                   sentence  n_lines  match  \n",
       "pmid                                                                         \n",
       "10021333  The product of the oskar gene directs posterio...     1172      0  \n",
       "10021333   Proper expression relies on the coordinated l...     1172      0  \n",
       "10021333   Translational repression prior to localizatio...     1172      0  \n",
       "10021333   To begin to understand how Bruno acts in tran...     1172      0  \n",
       "10021333   One interactor described here is the product ...     1172      0  "
      ]
     },
     "execution_count": 15,
     "metadata": {},
     "output_type": "execute_result"
    }
   ],
   "source": [
    "# Find sentences with gene mentions\n",
    "rel_df = find_sentences(df)\n",
    "rel_df.head(5)"
   ]
  },
  {
   "cell_type": "code",
   "execution_count": 17,
   "metadata": {},
   "outputs": [],
   "source": [
    "rel_df = rel_df[['source', 'target', 'interaction', 'sentence', 'match']]"
   ]
  },
  {
   "cell_type": "code",
   "execution_count": 18,
   "metadata": {
    "scrolled": true
   },
   "outputs": [],
   "source": [
    "rel_df.to_csv('biogrid_norm_rel.csv')"
   ]
  },
  {
   "cell_type": "code",
   "execution_count": null,
   "metadata": {},
   "outputs": [],
   "source": []
  }
 ],
 "metadata": {
  "kernelspec": {
   "display_name": "Python 3",
   "language": "python",
   "name": "python3"
  },
  "language_info": {
   "codemirror_mode": {
    "name": "ipython",
    "version": 3
   },
   "file_extension": ".py",
   "mimetype": "text/x-python",
   "name": "python",
   "nbconvert_exporter": "python",
   "pygments_lexer": "ipython3",
   "version": "3.8.11"
  }
 },
 "nbformat": 4,
 "nbformat_minor": 4
}
