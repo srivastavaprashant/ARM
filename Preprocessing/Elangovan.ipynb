{
 "cells": [
  {
   "cell_type": "markdown",
   "metadata": {},
   "source": [
    "Import Libraries"
   ]
  },
  {
   "cell_type": "code",
   "execution_count": 1,
   "metadata": {},
   "outputs": [],
   "source": [
    "import os"
   ]
  },
  {
   "cell_type": "code",
   "execution_count": 2,
   "metadata": {},
   "outputs": [],
   "source": [
    "home_dir = '../'\n",
    "os.chdir(home_dir)\n",
    "from ext import download_pubmed_articles, search_gene_id, download_gene_names\n",
    "from norm import normalize_genes\n",
    "from relation_finder import find_sentences\n",
    "\n",
    "\"\"\"\n",
    "Required: A valid entrez registered email and entrez api-key.\n",
    "More information: Entrez Programming Utilities (E-utilities)\n",
    "\"\"\"  \n",
    "from config import entrez_api_key, entrez_email"
   ]
  },
  {
   "cell_type": "code",
   "execution_count": 3,
   "metadata": {},
   "outputs": [],
   "source": [
    "import pandas as pd\n",
    "import numpy as np\n",
    "import re"
   ]
  },
  {
   "cell_type": "code",
   "execution_count": 4,
   "metadata": {},
   "outputs": [],
   "source": [
    "from Bio import Entrez\n",
    "import xmltodict"
   ]
  },
  {
   "cell_type": "markdown",
   "metadata": {},
   "source": [
    "Preprocessing <b>Elnagovan et al. dataset</b><br>\n",
    "    <a href=\"https://github.com/elangovana/PPI-typed-relation-extractor\">Elangovan GitHub</a>    "
   ]
  },
  {
   "cell_type": "code",
   "execution_count": 5,
   "metadata": {},
   "outputs": [],
   "source": [
    "df = pd.read_json('Data/elangovan.json')"
   ]
  },
  {
   "cell_type": "code",
   "execution_count": 6,
   "metadata": {
    "scrolled": false
   },
   "outputs": [
    {
     "data": {
      "text/html": [
       "<div>\n",
       "<style scoped>\n",
       "    .dataframe tbody tr th:only-of-type {\n",
       "        vertical-align: middle;\n",
       "    }\n",
       "\n",
       "    .dataframe tbody tr th {\n",
       "        vertical-align: top;\n",
       "    }\n",
       "\n",
       "    .dataframe thead th {\n",
       "        text-align: right;\n",
       "    }\n",
       "</style>\n",
       "<table border=\"1\" class=\"dataframe\">\n",
       "  <thead>\n",
       "    <tr style=\"text-align: right;\">\n",
       "      <th></th>\n",
       "      <th>isNegative</th>\n",
       "      <th>participants</th>\n",
       "      <th>pubmedId</th>\n",
       "      <th>pubmedTitle</th>\n",
       "      <th>interactionType</th>\n",
       "      <th>interactionId</th>\n",
       "      <th>pubmedabstract</th>\n",
       "    </tr>\n",
       "  </thead>\n",
       "  <tbody>\n",
       "    <tr>\n",
       "      <th>0</th>\n",
       "      <td>false</td>\n",
       "      <td>[{'uniprotid': 'Q99640', 'alias': [['pmyt1_hum...</td>\n",
       "      <td>10373560</td>\n",
       "      <td>None</td>\n",
       "      <td>phosphorylation</td>\n",
       "      <td>172934</td>\n",
       "      <td>The Myt1 protein kinase functions to negativel...</td>\n",
       "    </tr>\n",
       "    <tr>\n",
       "      <th>1</th>\n",
       "      <td>false</td>\n",
       "      <td>[{'uniprotid': 'Q99640', 'alias': [['pmyt1_hum...</td>\n",
       "      <td>10373560</td>\n",
       "      <td>None</td>\n",
       "      <td>phosphorylation</td>\n",
       "      <td>172940</td>\n",
       "      <td>The Myt1 protein kinase functions to negativel...</td>\n",
       "    </tr>\n",
       "    <tr>\n",
       "      <th>2</th>\n",
       "      <td>false</td>\n",
       "      <td>[{'uniprotid': 'Q15139', 'alias': [['kpcd1_hum...</td>\n",
       "      <td>10831594</td>\n",
       "      <td>None</td>\n",
       "      <td>phosphorylation</td>\n",
       "      <td>1325322</td>\n",
       "      <td>We identified the multifunctional chaperon pro...</td>\n",
       "    </tr>\n",
       "    <tr>\n",
       "      <th>3</th>\n",
       "      <td>false</td>\n",
       "      <td>[{'uniprotid': 'Q15139', 'alias': [['kpcd1_hum...</td>\n",
       "      <td>10831594</td>\n",
       "      <td>None</td>\n",
       "      <td>phosphorylation</td>\n",
       "      <td>1325324</td>\n",
       "      <td>We identified the multifunctional chaperon pro...</td>\n",
       "    </tr>\n",
       "    <tr>\n",
       "      <th>4</th>\n",
       "      <td>false</td>\n",
       "      <td>[{'uniprotid': 'Q07021', 'alias': [['c1qbp_hum...</td>\n",
       "      <td>10831594</td>\n",
       "      <td>None</td>\n",
       "      <td>phosphorylation</td>\n",
       "      <td>1325326</td>\n",
       "      <td>We identified the multifunctional chaperon pro...</td>\n",
       "    </tr>\n",
       "  </tbody>\n",
       "</table>\n",
       "</div>"
      ],
      "text/plain": [
       "  isNegative                                       participants  pubmedId  \\\n",
       "0      false  [{'uniprotid': 'Q99640', 'alias': [['pmyt1_hum...  10373560   \n",
       "1      false  [{'uniprotid': 'Q99640', 'alias': [['pmyt1_hum...  10373560   \n",
       "2      false  [{'uniprotid': 'Q15139', 'alias': [['kpcd1_hum...  10831594   \n",
       "3      false  [{'uniprotid': 'Q15139', 'alias': [['kpcd1_hum...  10831594   \n",
       "4      false  [{'uniprotid': 'Q07021', 'alias': [['c1qbp_hum...  10831594   \n",
       "\n",
       "  pubmedTitle  interactionType  interactionId  \\\n",
       "0        None  phosphorylation         172934   \n",
       "1        None  phosphorylation         172940   \n",
       "2        None  phosphorylation        1325322   \n",
       "3        None  phosphorylation        1325324   \n",
       "4        None  phosphorylation        1325326   \n",
       "\n",
       "                                      pubmedabstract  \n",
       "0  The Myt1 protein kinase functions to negativel...  \n",
       "1  The Myt1 protein kinase functions to negativel...  \n",
       "2  We identified the multifunctional chaperon pro...  \n",
       "3  We identified the multifunctional chaperon pro...  \n",
       "4  We identified the multifunctional chaperon pro...  "
      ]
     },
     "execution_count": 6,
     "metadata": {},
     "output_type": "execute_result"
    }
   ],
   "source": [
    "df.head(5)"
   ]
  },
  {
   "cell_type": "code",
   "execution_count": 7,
   "metadata": {},
   "outputs": [
    {
     "name": "stdout",
     "output_type": "stream",
     "text": [
      "No of entries in Elangovan Dataset: 3504\n"
     ]
    }
   ],
   "source": [
    "print('No of entries in Elangovan Dataset:', df.shape[0])"
   ]
  },
  {
   "cell_type": "code",
   "execution_count": 8,
   "metadata": {},
   "outputs": [],
   "source": [
    "# Filter datapoint with interactions with two entities\n",
    "df.participants = df.participants.apply(lambda x: [i['alias'] for i in x if i['alias'] != None])\n",
    "df['nparticipants'] = df.participants.apply(lambda x: len(x))\n",
    "df = df[df.nparticipants ==2].reset_index(drop = True)"
   ]
  },
  {
   "cell_type": "code",
   "execution_count": 9,
   "metadata": {
    "scrolled": true
   },
   "outputs": [],
   "source": [
    "# Create a dict for genes\n",
    "source_gene_list = df.participants.apply(lambda x: [i[0] for i in x[0]]).to_list()\n",
    "target_gene_list = df.participants.apply(lambda x: [i[0] for i in x[1]]).to_list()\n",
    "df['source'] = [sorted(i, key=len)[0] for i in source_gene_list]\n",
    "df['target'] = [sorted(i, key=len)[0] for i in target_gene_list]\n",
    "source_gene_dict = [{'gene':sorted(i, key=len)[0].lower(), 'id':np.nan, 'aliases':i} for i in source_gene_list]\n",
    "target_gene_dict = [{'gene':sorted(i, key=len)[0].lower(), 'id':np.nan, 'aliases':i} for i in target_gene_list]"
   ]
  },
  {
   "cell_type": "code",
   "execution_count": 10,
   "metadata": {},
   "outputs": [
    {
     "data": {
      "text/html": [
       "<div>\n",
       "<style scoped>\n",
       "    .dataframe tbody tr th:only-of-type {\n",
       "        vertical-align: middle;\n",
       "    }\n",
       "\n",
       "    .dataframe tbody tr th {\n",
       "        vertical-align: top;\n",
       "    }\n",
       "\n",
       "    .dataframe thead th {\n",
       "        text-align: right;\n",
       "    }\n",
       "</style>\n",
       "<table border=\"1\" class=\"dataframe\">\n",
       "  <thead>\n",
       "    <tr style=\"text-align: right;\">\n",
       "      <th></th>\n",
       "      <th>source</th>\n",
       "      <th>target</th>\n",
       "      <th>interaction</th>\n",
       "      <th>abstract</th>\n",
       "    </tr>\n",
       "    <tr>\n",
       "      <th>pmid</th>\n",
       "      <th></th>\n",
       "      <th></th>\n",
       "      <th></th>\n",
       "      <th></th>\n",
       "    </tr>\n",
       "  </thead>\n",
       "  <tbody>\n",
       "    <tr>\n",
       "      <th>10373560</th>\n",
       "      <td>MYT1</td>\n",
       "      <td>CDK1</td>\n",
       "      <td>phosphorylation</td>\n",
       "      <td>The Myt1 protein kinase functions to negativel...</td>\n",
       "    </tr>\n",
       "    <tr>\n",
       "      <th>10373560</th>\n",
       "      <td>MYT1</td>\n",
       "      <td>CDK1</td>\n",
       "      <td>phosphorylation</td>\n",
       "      <td>The Myt1 protein kinase functions to negativel...</td>\n",
       "    </tr>\n",
       "    <tr>\n",
       "      <th>10831594</th>\n",
       "      <td>p33</td>\n",
       "      <td>PKD</td>\n",
       "      <td>phosphorylation</td>\n",
       "      <td>We identified the multifunctional chaperon pro...</td>\n",
       "    </tr>\n",
       "    <tr>\n",
       "      <th>10393177</th>\n",
       "      <td>jnk-1</td>\n",
       "      <td>JUN</td>\n",
       "      <td>phosphorylation</td>\n",
       "      <td>The c-Jun N-terminal kinase (JNK) of the MAP k...</td>\n",
       "    </tr>\n",
       "    <tr>\n",
       "      <th>10393177</th>\n",
       "      <td>ATF2</td>\n",
       "      <td>pmk-1</td>\n",
       "      <td>phosphorylation</td>\n",
       "      <td>The c-Jun N-terminal kinase (JNK) of the MAP k...</td>\n",
       "    </tr>\n",
       "  </tbody>\n",
       "</table>\n",
       "</div>"
      ],
      "text/plain": [
       "         source target      interaction  \\\n",
       "pmid                                      \n",
       "10373560   MYT1   CDK1  phosphorylation   \n",
       "10373560   MYT1   CDK1  phosphorylation   \n",
       "10831594    p33    PKD  phosphorylation   \n",
       "10393177  jnk-1    JUN  phosphorylation   \n",
       "10393177   ATF2  pmk-1  phosphorylation   \n",
       "\n",
       "                                                   abstract  \n",
       "pmid                                                         \n",
       "10373560  The Myt1 protein kinase functions to negativel...  \n",
       "10373560  The Myt1 protein kinase functions to negativel...  \n",
       "10831594  We identified the multifunctional chaperon pro...  \n",
       "10393177  The c-Jun N-terminal kinase (JNK) of the MAP k...  \n",
       "10393177  The c-Jun N-terminal kinase (JNK) of the MAP k...  "
      ]
     },
     "execution_count": 10,
     "metadata": {},
     "output_type": "execute_result"
    }
   ],
   "source": [
    "df = df[['pubmedId', 'source', 'target', 'interactionType', 'pubmedabstract']]\n",
    "df.columns = ['pmid', 'source', 'target', 'interaction', 'abstract']\n",
    "df.index = df.pmid\n",
    "df = df.drop(columns = 'pmid')\n",
    "df.head(5)"
   ]
  },
  {
   "cell_type": "code",
   "execution_count": 11,
   "metadata": {
    "scrolled": false
   },
   "outputs": [
    {
     "name": "stdout",
     "output_type": "stream",
     "text": [
      "1530 unique genes found.\n"
     ]
    }
   ],
   "source": [
    "# Unique genes\n",
    "gene_dict = source_gene_dict + target_gene_dict\n",
    "gene_dict = list(dict((v['gene'],v) for v in gene_dict).values())\n",
    "print(f'{len(gene_dict)} unique genes found.')"
   ]
  },
  {
   "cell_type": "code",
   "execution_count": 12,
   "metadata": {},
   "outputs": [
    {
     "name": "stdout",
     "output_type": "stream",
     "text": [
      "2885 abstracts to be normalized...\n",
      "2885 abstracts normalized...\n",
      "Done!\n"
     ]
    },
    {
     "data": {
      "text/html": [
       "<div>\n",
       "<style scoped>\n",
       "    .dataframe tbody tr th:only-of-type {\n",
       "        vertical-align: middle;\n",
       "    }\n",
       "\n",
       "    .dataframe tbody tr th {\n",
       "        vertical-align: top;\n",
       "    }\n",
       "\n",
       "    .dataframe thead th {\n",
       "        text-align: right;\n",
       "    }\n",
       "</style>\n",
       "<table border=\"1\" class=\"dataframe\">\n",
       "  <thead>\n",
       "    <tr style=\"text-align: right;\">\n",
       "      <th></th>\n",
       "      <th>source</th>\n",
       "      <th>target</th>\n",
       "      <th>interaction</th>\n",
       "      <th>abstract</th>\n",
       "    </tr>\n",
       "    <tr>\n",
       "      <th>pmid</th>\n",
       "      <th></th>\n",
       "      <th></th>\n",
       "      <th></th>\n",
       "      <th></th>\n",
       "    </tr>\n",
       "  </thead>\n",
       "  <tbody>\n",
       "    <tr>\n",
       "      <th>10373560</th>\n",
       "      <td>MYT1</td>\n",
       "      <td>CDK1</td>\n",
       "      <td>phosphorylation</td>\n",
       "      <td>The myt1 protein kinase functions to negativel...</td>\n",
       "    </tr>\n",
       "    <tr>\n",
       "      <th>10373560</th>\n",
       "      <td>MYT1</td>\n",
       "      <td>CDK1</td>\n",
       "      <td>phosphorylation</td>\n",
       "      <td>The myt1 protein kinase functions to negativel...</td>\n",
       "    </tr>\n",
       "    <tr>\n",
       "      <th>10831594</th>\n",
       "      <td>p33</td>\n",
       "      <td>PKD</td>\n",
       "      <td>phosphorylation</td>\n",
       "      <td>We identified the multifunctional chaperon pro...</td>\n",
       "    </tr>\n",
       "    <tr>\n",
       "      <th>10393177</th>\n",
       "      <td>jnk-1</td>\n",
       "      <td>JUN</td>\n",
       "      <td>phosphorylation</td>\n",
       "      <td>The c-jun N-terminal kinase (JNK) of the MAP k...</td>\n",
       "    </tr>\n",
       "    <tr>\n",
       "      <th>10393177</th>\n",
       "      <td>ATF2</td>\n",
       "      <td>pmk-1</td>\n",
       "      <td>phosphorylation</td>\n",
       "      <td>The c-Jun N-terminal kinase (JNK) of the MAP k...</td>\n",
       "    </tr>\n",
       "  </tbody>\n",
       "</table>\n",
       "</div>"
      ],
      "text/plain": [
       "         source target      interaction  \\\n",
       "pmid                                      \n",
       "10373560   MYT1   CDK1  phosphorylation   \n",
       "10373560   MYT1   CDK1  phosphorylation   \n",
       "10831594    p33    PKD  phosphorylation   \n",
       "10393177  jnk-1    JUN  phosphorylation   \n",
       "10393177   ATF2  pmk-1  phosphorylation   \n",
       "\n",
       "                                                   abstract  \n",
       "pmid                                                         \n",
       "10373560  The myt1 protein kinase functions to negativel...  \n",
       "10373560  The myt1 protein kinase functions to negativel...  \n",
       "10831594  We identified the multifunctional chaperon pro...  \n",
       "10393177  The c-jun N-terminal kinase (JNK) of the MAP k...  \n",
       "10393177  The c-Jun N-terminal kinase (JNK) of the MAP k...  "
      ]
     },
     "execution_count": 12,
     "metadata": {},
     "output_type": "execute_result"
    }
   ],
   "source": [
    "# Normalize genes\n",
    "df['abstract'] = normalize_genes(gene_dict, df.source.to_list(), df.target.to_list(), df.abstract.to_list())\n",
    "df.head(5)"
   ]
  },
  {
   "cell_type": "code",
   "execution_count": 13,
   "metadata": {},
   "outputs": [
    {
     "name": "stdout",
     "output_type": "stream",
     "text": [
      "2885 abstracts...\n",
      "22304 sentences found...\n",
      "1437 sentences have a relation information.\n"
     ]
    },
    {
     "data": {
      "text/html": [
       "<div>\n",
       "<style scoped>\n",
       "    .dataframe tbody tr th:only-of-type {\n",
       "        vertical-align: middle;\n",
       "    }\n",
       "\n",
       "    .dataframe tbody tr th {\n",
       "        vertical-align: top;\n",
       "    }\n",
       "\n",
       "    .dataframe thead th {\n",
       "        text-align: right;\n",
       "    }\n",
       "</style>\n",
       "<table border=\"1\" class=\"dataframe\">\n",
       "  <thead>\n",
       "    <tr style=\"text-align: right;\">\n",
       "      <th></th>\n",
       "      <th>source</th>\n",
       "      <th>target</th>\n",
       "      <th>interaction</th>\n",
       "      <th>abstract</th>\n",
       "      <th>sentence</th>\n",
       "      <th>n_lines</th>\n",
       "      <th>match</th>\n",
       "    </tr>\n",
       "    <tr>\n",
       "      <th>pmid</th>\n",
       "      <th></th>\n",
       "      <th></th>\n",
       "      <th></th>\n",
       "      <th></th>\n",
       "      <th></th>\n",
       "      <th></th>\n",
       "      <th></th>\n",
       "    </tr>\n",
       "  </thead>\n",
       "  <tbody>\n",
       "    <tr>\n",
       "      <th>10373560</th>\n",
       "      <td>MYT1</td>\n",
       "      <td>CDK1</td>\n",
       "      <td>phosphorylation</td>\n",
       "      <td>The myt1 protein kinase functions to negativel...</td>\n",
       "      <td>The myt1 protein kinase functions to negativel...</td>\n",
       "      <td>1205</td>\n",
       "      <td>1</td>\n",
       "    </tr>\n",
       "    <tr>\n",
       "      <th>10373560</th>\n",
       "      <td>MYT1</td>\n",
       "      <td>CDK1</td>\n",
       "      <td>phosphorylation</td>\n",
       "      <td>The myt1 protein kinase functions to negativel...</td>\n",
       "      <td>Throughout interphase human myt1 localizes to...</td>\n",
       "      <td>1205</td>\n",
       "      <td>1</td>\n",
       "    </tr>\n",
       "    <tr>\n",
       "      <th>10373560</th>\n",
       "      <td>MYT1</td>\n",
       "      <td>CDK1</td>\n",
       "      <td>phosphorylation</td>\n",
       "      <td>The myt1 protein kinase functions to negativel...</td>\n",
       "      <td>Here we report that overproduction of either ...</td>\n",
       "      <td>1205</td>\n",
       "      <td>0</td>\n",
       "    </tr>\n",
       "    <tr>\n",
       "      <th>10373560</th>\n",
       "      <td>MYT1</td>\n",
       "      <td>CDK1</td>\n",
       "      <td>phosphorylation</td>\n",
       "      <td>The myt1 protein kinase functions to negativel...</td>\n",
       "      <td>The COOHterminal 63 amino acids of myt1 were ...</td>\n",
       "      <td>1205</td>\n",
       "      <td>1</td>\n",
       "    </tr>\n",
       "    <tr>\n",
       "      <th>10373560</th>\n",
       "      <td>MYT1</td>\n",
       "      <td>CDK1</td>\n",
       "      <td>phosphorylation</td>\n",
       "      <td>The myt1 protein kinase functions to negativel...</td>\n",
       "      <td>myt1 mutants lacking this domain no longer bo...</td>\n",
       "      <td>1205</td>\n",
       "      <td>1</td>\n",
       "    </tr>\n",
       "  </tbody>\n",
       "</table>\n",
       "</div>"
      ],
      "text/plain": [
       "         source target      interaction  \\\n",
       "pmid                                      \n",
       "10373560   MYT1   CDK1  phosphorylation   \n",
       "10373560   MYT1   CDK1  phosphorylation   \n",
       "10373560   MYT1   CDK1  phosphorylation   \n",
       "10373560   MYT1   CDK1  phosphorylation   \n",
       "10373560   MYT1   CDK1  phosphorylation   \n",
       "\n",
       "                                                   abstract  \\\n",
       "pmid                                                          \n",
       "10373560  The myt1 protein kinase functions to negativel...   \n",
       "10373560  The myt1 protein kinase functions to negativel...   \n",
       "10373560  The myt1 protein kinase functions to negativel...   \n",
       "10373560  The myt1 protein kinase functions to negativel...   \n",
       "10373560  The myt1 protein kinase functions to negativel...   \n",
       "\n",
       "                                                   sentence  n_lines  match  \n",
       "pmid                                                                         \n",
       "10373560  The myt1 protein kinase functions to negativel...     1205      1  \n",
       "10373560   Throughout interphase human myt1 localizes to...     1205      1  \n",
       "10373560   Here we report that overproduction of either ...     1205      0  \n",
       "10373560   The COOHterminal 63 amino acids of myt1 were ...     1205      1  \n",
       "10373560   myt1 mutants lacking this domain no longer bo...     1205      1  "
      ]
     },
     "execution_count": 13,
     "metadata": {},
     "output_type": "execute_result"
    }
   ],
   "source": [
    "rel_df = find_sentences(df)\n",
    "rel_df.head(5)"
   ]
  },
  {
   "cell_type": "code",
   "execution_count": 14,
   "metadata": {},
   "outputs": [],
   "source": [
    "rel_df = rel_df[['source', 'target', 'interaction', 'sentence', 'match']]"
   ]
  },
  {
   "cell_type": "code",
   "execution_count": 15,
   "metadata": {},
   "outputs": [],
   "source": [
    "rel_df.to_csv('elangovan_norm_rel.csv')"
   ]
  }
 ],
 "metadata": {
  "kernelspec": {
   "display_name": "Python 3",
   "language": "python",
   "name": "python3"
  },
  "language_info": {
   "codemirror_mode": {
    "name": "ipython",
    "version": 3
   },
   "file_extension": ".py",
   "mimetype": "text/x-python",
   "name": "python",
   "nbconvert_exporter": "python",
   "pygments_lexer": "ipython3",
   "version": "3.8.11"
  }
 },
 "nbformat": 4,
 "nbformat_minor": 4
}
