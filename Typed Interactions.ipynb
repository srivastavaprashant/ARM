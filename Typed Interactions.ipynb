{
 "cells": [
  {
   "cell_type": "code",
   "execution_count": 1,
   "metadata": {},
   "outputs": [
    {
     "name": "stdout",
     "output_type": "stream",
     "text": [
      "| ID | GPU | MEM |\n",
      "------------------\n",
      "|  0 |  9% | 96% |\n",
      "|  1 |  0% |  3% |\n",
      "|  2 |  0% |  3% |\n",
      "|  3 |  0% |  3% |\n",
      "|  4 |  0% |  0% |\n",
      "|  5 |  1% |  0% |\n",
      "|  6 |  1% |  0% |\n",
      "|  7 |  0% |  0% |\n"
     ]
    }
   ],
   "source": [
    "import GPUtil\n",
    "GPUtil.showUtilization()"
   ]
  },
  {
   "cell_type": "code",
   "execution_count": 2,
   "metadata": {},
   "outputs": [],
   "source": [
    "import os \n",
    "os.environ['CUDA_VISIBLE_DEVICES'] = '0,1,2,3'"
   ]
  },
  {
   "cell_type": "code",
   "execution_count": 3,
   "metadata": {},
   "outputs": [],
   "source": [
    "import pandas as pd\n",
    "import numpy as np\n",
    "import tensorflow as tf"
   ]
  },
  {
   "cell_type": "code",
   "execution_count": 4,
   "metadata": {},
   "outputs": [],
   "source": [
    "from arm_preprocessing import generate_word_list, vocab_generator, generate_typed_encodings\n",
    "from model import ARM"
   ]
  },
  {
   "cell_type": "code",
   "execution_count": 5,
   "metadata": {
    "scrolled": true
   },
   "outputs": [
    {
     "name": "stderr",
     "output_type": "stream",
     "text": [
      "In /opt/anaconda3/lib/python3.8/site-packages/matplotlib/mpl-data/stylelib/_classic_test.mplstyle: \n",
      "The text.latex.preview rcparam was deprecated in Matplotlib 3.3 and will be removed two minor releases later.\n",
      "In /opt/anaconda3/lib/python3.8/site-packages/matplotlib/mpl-data/stylelib/_classic_test.mplstyle: \n",
      "The mathtext.fallback_to_cm rcparam was deprecated in Matplotlib 3.3 and will be removed two minor releases later.\n",
      "In /opt/anaconda3/lib/python3.8/site-packages/matplotlib/mpl-data/stylelib/_classic_test.mplstyle: Support for setting the 'mathtext.fallback_to_cm' rcParam is deprecated since 3.3 and will be removed two minor releases later; use 'mathtext.fallback : 'cm' instead.\n",
      "In /opt/anaconda3/lib/python3.8/site-packages/matplotlib/mpl-data/stylelib/_classic_test.mplstyle: \n",
      "The validate_bool_maybe_none function was deprecated in Matplotlib 3.3 and will be removed two minor releases later.\n",
      "In /opt/anaconda3/lib/python3.8/site-packages/matplotlib/mpl-data/stylelib/_classic_test.mplstyle: \n",
      "The savefig.jpeg_quality rcparam was deprecated in Matplotlib 3.3 and will be removed two minor releases later.\n",
      "In /opt/anaconda3/lib/python3.8/site-packages/matplotlib/mpl-data/stylelib/_classic_test.mplstyle: \n",
      "The keymap.all_axes rcparam was deprecated in Matplotlib 3.3 and will be removed two minor releases later.\n",
      "In /opt/anaconda3/lib/python3.8/site-packages/matplotlib/mpl-data/stylelib/_classic_test.mplstyle: \n",
      "The animation.avconv_path rcparam was deprecated in Matplotlib 3.3 and will be removed two minor releases later.\n",
      "In /opt/anaconda3/lib/python3.8/site-packages/matplotlib/mpl-data/stylelib/_classic_test.mplstyle: \n",
      "The animation.avconv_args rcparam was deprecated in Matplotlib 3.3 and will be removed two minor releases later.\n"
     ]
    }
   ],
   "source": [
    "import matplotlib.pyplot as plt\n",
    "import seaborn as sns"
   ]
  },
  {
   "cell_type": "code",
   "execution_count": null,
   "metadata": {},
   "outputs": [],
   "source": []
  },
  {
   "cell_type": "markdown",
   "metadata": {},
   "source": [
    "Import Processed Typed Datasets"
   ]
  },
  {
   "cell_type": "code",
   "execution_count": 6,
   "metadata": {},
   "outputs": [
    {
     "name": "stdout",
     "output_type": "stream",
     "text": [
      "No of sentences with entity mentions: 22276\n"
     ]
    },
    {
     "data": {
      "text/html": [
       "<div>\n",
       "<style scoped>\n",
       "    .dataframe tbody tr th:only-of-type {\n",
       "        vertical-align: middle;\n",
       "    }\n",
       "\n",
       "    .dataframe tbody tr th {\n",
       "        vertical-align: top;\n",
       "    }\n",
       "\n",
       "    .dataframe thead th {\n",
       "        text-align: right;\n",
       "    }\n",
       "</style>\n",
       "<table border=\"1\" class=\"dataframe\">\n",
       "  <thead>\n",
       "    <tr style=\"text-align: right;\">\n",
       "      <th></th>\n",
       "      <th>pmid</th>\n",
       "      <th>source</th>\n",
       "      <th>target</th>\n",
       "      <th>interaction</th>\n",
       "      <th>sentence</th>\n",
       "    </tr>\n",
       "  </thead>\n",
       "  <tbody>\n",
       "    <tr>\n",
       "      <th>1</th>\n",
       "      <td>10022128</td>\n",
       "      <td>MYC</td>\n",
       "      <td>TERT</td>\n",
       "      <td>positive</td>\n",
       "      <td>Here we identify the myc transcription factor...</td>\n",
       "    </tr>\n",
       "    <tr>\n",
       "      <th>2</th>\n",
       "      <td>10022128</td>\n",
       "      <td>MYC</td>\n",
       "      <td>TERT</td>\n",
       "      <td>positive</td>\n",
       "      <td>Through the use of a hormone inducible form o...</td>\n",
       "    </tr>\n",
       "    <tr>\n",
       "      <th>3</th>\n",
       "      <td>10022128</td>\n",
       "      <td>MYC</td>\n",
       "      <td>TERT</td>\n",
       "      <td>positive</td>\n",
       "      <td>These findings demonstrate that the TERT gene...</td>\n",
       "    </tr>\n",
       "    <tr>\n",
       "      <th>4</th>\n",
       "      <td>10022128</td>\n",
       "      <td>MYC</td>\n",
       "      <td>TERT</td>\n",
       "      <td>positive</td>\n",
       "      <td>Since telomerase activation frequently correl...</td>\n",
       "    </tr>\n",
       "    <tr>\n",
       "      <th>5</th>\n",
       "      <td>10022128</td>\n",
       "      <td>MYC</td>\n",
       "      <td>TERT</td>\n",
       "      <td>positive</td>\n",
       "      <td>Employing the rat embryo fibroblast cooperati...</td>\n",
       "    </tr>\n",
       "  </tbody>\n",
       "</table>\n",
       "</div>"
      ],
      "text/plain": [
       "       pmid source target interaction  \\\n",
       "1  10022128    MYC   TERT    positive   \n",
       "2  10022128    MYC   TERT    positive   \n",
       "3  10022128    MYC   TERT    positive   \n",
       "4  10022128    MYC   TERT    positive   \n",
       "5  10022128    MYC   TERT    positive   \n",
       "\n",
       "                                            sentence  \n",
       "1   Here we identify the myc transcription factor...  \n",
       "2   Through the use of a hormone inducible form o...  \n",
       "3   These findings demonstrate that the TERT gene...  \n",
       "4   Since telomerase activation frequently correl...  \n",
       "5   Employing the rat embryo fibroblast cooperati...  "
      ]
     },
     "execution_count": 6,
     "metadata": {},
     "output_type": "execute_result"
    }
   ],
   "source": [
    "trrust = pd.read_csv('trrust_norm_rel.csv')\n",
    "trrust = trrust[trrust.match == 1]\n",
    "int_class_dict =  {'Activation': 'positive', 'Repression': 'negative', 'Unknown': 'undefined'}\n",
    "trrust.interaction = trrust.interaction.apply(lambda x: int_class_dict[x])\n",
    "trrust = trrust.drop(columns = 'match')\n",
    "trrust = trrust.drop_duplicates(subset = ['source', 'target', 'sentence'])\n",
    "print('No of sentences with entity mentions:', trrust.shape[0])\n",
    "trrust.head(5)"
   ]
  },
  {
   "cell_type": "code",
   "execution_count": 7,
   "metadata": {},
   "outputs": [
    {
     "name": "stdout",
     "output_type": "stream",
     "text": [
      "No of sentences with entity mentions: 30214\n"
     ]
    },
    {
     "data": {
      "text/html": [
       "<div>\n",
       "<style scoped>\n",
       "    .dataframe tbody tr th:only-of-type {\n",
       "        vertical-align: middle;\n",
       "    }\n",
       "\n",
       "    .dataframe tbody tr th {\n",
       "        vertical-align: top;\n",
       "    }\n",
       "\n",
       "    .dataframe thead th {\n",
       "        text-align: right;\n",
       "    }\n",
       "</style>\n",
       "<table border=\"1\" class=\"dataframe\">\n",
       "  <thead>\n",
       "    <tr style=\"text-align: right;\">\n",
       "      <th></th>\n",
       "      <th>pmid</th>\n",
       "      <th>source</th>\n",
       "      <th>target</th>\n",
       "      <th>interaction</th>\n",
       "      <th>sentence</th>\n",
       "    </tr>\n",
       "  </thead>\n",
       "  <tbody>\n",
       "    <tr>\n",
       "      <th>5</th>\n",
       "      <td>10022118</td>\n",
       "      <td>CASP3</td>\n",
       "      <td>CDKN1A</td>\n",
       "      <td>negative</td>\n",
       "      <td>We report herein that cdkn1a was cleaved by c...</td>\n",
       "    </tr>\n",
       "    <tr>\n",
       "      <th>7</th>\n",
       "      <td>10022118</td>\n",
       "      <td>CASP3</td>\n",
       "      <td>CDKN1A</td>\n",
       "      <td>negative</td>\n",
       "      <td>Thus casp3ase3mediated cleavage and inactivat...</td>\n",
       "    </tr>\n",
       "    <tr>\n",
       "      <th>16</th>\n",
       "      <td>10022513</td>\n",
       "      <td>ERG</td>\n",
       "      <td>HMOX1</td>\n",
       "      <td>positive</td>\n",
       "      <td>The presence of regulatory sequences for tran...</td>\n",
       "    </tr>\n",
       "    <tr>\n",
       "      <th>25</th>\n",
       "      <td>10022513</td>\n",
       "      <td>ETS1</td>\n",
       "      <td>HMOX1</td>\n",
       "      <td>positive</td>\n",
       "      <td>The presence of regulatory sequences for tran...</td>\n",
       "    </tr>\n",
       "    <tr>\n",
       "      <th>34</th>\n",
       "      <td>10022513</td>\n",
       "      <td>FLI1</td>\n",
       "      <td>HMOX1</td>\n",
       "      <td>positive</td>\n",
       "      <td>The presence of regulatory sequences for tran...</td>\n",
       "    </tr>\n",
       "  </tbody>\n",
       "</table>\n",
       "</div>"
      ],
      "text/plain": [
       "        pmid source  target interaction  \\\n",
       "5   10022118  CASP3  CDKN1A    negative   \n",
       "7   10022118  CASP3  CDKN1A    negative   \n",
       "16  10022513    ERG   HMOX1    positive   \n",
       "25  10022513   ETS1   HMOX1    positive   \n",
       "34  10022513   FLI1   HMOX1    positive   \n",
       "\n",
       "                                             sentence  \n",
       "5    We report herein that cdkn1a was cleaved by c...  \n",
       "7    Thus casp3ase3mediated cleavage and inactivat...  \n",
       "16   The presence of regulatory sequences for tran...  \n",
       "25   The presence of regulatory sequences for tran...  \n",
       "34   The presence of regulatory sequences for tran...  "
      ]
     },
     "execution_count": 7,
     "metadata": {},
     "output_type": "execute_result"
    }
   ],
   "source": [
    "air = pd.read_csv('air_norm_rel.csv')\n",
    "air = air[air.match == 1]\n",
    "air = air.drop(columns = 'match')\n",
    "air = air.drop_duplicates(subset = ['source', 'target', 'sentence'])\n",
    "print('No of sentences with entity mentions:', air.shape[0])\n",
    "air.head(5)"
   ]
  },
  {
   "cell_type": "code",
   "execution_count": 8,
   "metadata": {},
   "outputs": [
    {
     "name": "stdout",
     "output_type": "stream",
     "text": [
      "No of sentences with entity mentions: 1082\n"
     ]
    },
    {
     "data": {
      "text/html": [
       "<div>\n",
       "<style scoped>\n",
       "    .dataframe tbody tr th:only-of-type {\n",
       "        vertical-align: middle;\n",
       "    }\n",
       "\n",
       "    .dataframe tbody tr th {\n",
       "        vertical-align: top;\n",
       "    }\n",
       "\n",
       "    .dataframe thead th {\n",
       "        text-align: right;\n",
       "    }\n",
       "</style>\n",
       "<table border=\"1\" class=\"dataframe\">\n",
       "  <thead>\n",
       "    <tr style=\"text-align: right;\">\n",
       "      <th></th>\n",
       "      <th>pmid</th>\n",
       "      <th>source</th>\n",
       "      <th>target</th>\n",
       "      <th>interaction</th>\n",
       "      <th>sentence</th>\n",
       "    </tr>\n",
       "  </thead>\n",
       "  <tbody>\n",
       "    <tr>\n",
       "      <th>0</th>\n",
       "      <td>10373560</td>\n",
       "      <td>MYT1</td>\n",
       "      <td>CDK1</td>\n",
       "      <td>phosphorylation</td>\n",
       "      <td>The myt1 protein kinase functions to negativel...</td>\n",
       "    </tr>\n",
       "    <tr>\n",
       "      <th>1</th>\n",
       "      <td>10373560</td>\n",
       "      <td>MYT1</td>\n",
       "      <td>CDK1</td>\n",
       "      <td>phosphorylation</td>\n",
       "      <td>Throughout interphase human myt1 localizes to...</td>\n",
       "    </tr>\n",
       "    <tr>\n",
       "      <th>3</th>\n",
       "      <td>10373560</td>\n",
       "      <td>MYT1</td>\n",
       "      <td>CDK1</td>\n",
       "      <td>phosphorylation</td>\n",
       "      <td>The COOHterminal 63 amino acids of myt1 were ...</td>\n",
       "    </tr>\n",
       "    <tr>\n",
       "      <th>4</th>\n",
       "      <td>10373560</td>\n",
       "      <td>MYT1</td>\n",
       "      <td>CDK1</td>\n",
       "      <td>phosphorylation</td>\n",
       "      <td>myt1 mutants lacking this domain no longer bo...</td>\n",
       "    </tr>\n",
       "    <tr>\n",
       "      <th>6</th>\n",
       "      <td>10373560</td>\n",
       "      <td>MYT1</td>\n",
       "      <td>CDK1</td>\n",
       "      <td>phosphorylation</td>\n",
       "      <td>These results suggest that the docking of cdk...</td>\n",
       "    </tr>\n",
       "  </tbody>\n",
       "</table>\n",
       "</div>"
      ],
      "text/plain": [
       "       pmid source target      interaction  \\\n",
       "0  10373560   MYT1   CDK1  phosphorylation   \n",
       "1  10373560   MYT1   CDK1  phosphorylation   \n",
       "3  10373560   MYT1   CDK1  phosphorylation   \n",
       "4  10373560   MYT1   CDK1  phosphorylation   \n",
       "6  10373560   MYT1   CDK1  phosphorylation   \n",
       "\n",
       "                                            sentence  \n",
       "0  The myt1 protein kinase functions to negativel...  \n",
       "1   Throughout interphase human myt1 localizes to...  \n",
       "3   The COOHterminal 63 amino acids of myt1 were ...  \n",
       "4   myt1 mutants lacking this domain no longer bo...  \n",
       "6   These results suggest that the docking of cdk...  "
      ]
     },
     "execution_count": 8,
     "metadata": {},
     "output_type": "execute_result"
    }
   ],
   "source": [
    "elangovan = pd.read_csv('elangovan_norm_rel.csv')\n",
    "elangovan = elangovan[elangovan.match == 1]\n",
    "elangovan = elangovan.drop(columns = 'match')\n",
    "elangovan = elangovan[elangovan.interaction == 'phosphorylation']\n",
    "elangovan = elangovan.drop_duplicates(subset = ['source', 'target', 'sentence'])\n",
    "print('No of sentences with entity mentions:', elangovan.shape[0])\n",
    "elangovan.head(5)"
   ]
  },
  {
   "cell_type": "code",
   "execution_count": null,
   "metadata": {},
   "outputs": [],
   "source": []
  },
  {
   "cell_type": "markdown",
   "metadata": {},
   "source": [
    "Generate vocabulary and sequence of words"
   ]
  },
  {
   "cell_type": "code",
   "execution_count": 9,
   "metadata": {},
   "outputs": [],
   "source": [
    "trrust = generate_word_list(trrust)\n",
    "air = generate_word_list(air)\n",
    "elangovan = generate_word_list(elangovan)"
   ]
  },
  {
   "cell_type": "code",
   "execution_count": 10,
   "metadata": {},
   "outputs": [
    {
     "name": "stdout",
     "output_type": "stream",
     "text": [
      "VOCAB size = 35007\n"
     ]
    }
   ],
   "source": [
    "list_of_words = [item for sublist in list(trrust.list_of_words)+list(air.list_of_words)+list(elangovan.list_of_words) for item in sublist]\n",
    "VOCAB = vocab_generator(list_of_words, lowered = True, VOCAB = {})"
   ]
  },
  {
   "cell_type": "code",
   "execution_count": 11,
   "metadata": {},
   "outputs": [
    {
     "data": {
      "text/plain": [
       "Text(0.5, 1.0, 'Sentence Length Sensity for Elangovan Data')"
      ]
     },
     "execution_count": 11,
     "metadata": {},
     "output_type": "execute_result"
    },
    {
     "data": {
      "image/png": "[encoded data removed]",
      "text/plain": [
       "<Figure size 1080x288 with 3 Axes>"
      ]
     },
     "metadata": {
      "needs_background": "light"
     },
     "output_type": "display_data"
    }
   ],
   "source": [
    "plt.figure(figsize = (15,4))\n",
    "plt.subplot(131)\n",
    "trrust.n_words.hist(density=True)\n",
    "plt.title('Sentence Length Density for TRRUST')\n",
    "plt.subplot(132)\n",
    "air.n_words.hist(density=True)\n",
    "plt.title('Sentence Length Sensity for AIR')\n",
    "plt.subplot(133)\n",
    "elangovan.n_words.hist(density=True)\n",
    "plt.title('Sentence Length Sensity for Elangovan Data')\n"
   ]
  },
  {
   "cell_type": "code",
   "execution_count": 12,
   "metadata": {},
   "outputs": [
    {
     "name": "stdout",
     "output_type": "stream",
     "text": [
      "Maximum sentence length: 58\n"
     ]
    }
   ],
   "source": [
    "# Choose maximum length for modeling\n",
    "maxl = int(max(trrust.n_words.quantile(q = 0.99), air.n_words.quantile(q = 0.99), elangovan.n_words.quantile(q = 0.99)) + 1)\n",
    "print('Maximum sentence length:', maxl)"
   ]
  },
  {
   "cell_type": "code",
   "execution_count": 13,
   "metadata": {},
   "outputs": [
    {
     "name": "stdout",
     "output_type": "stream",
     "text": [
      "No of entries in TRRUST: 22276\n",
      "No of entries in TRRUST after dropping sentences having length more than maxl: 22062\n",
      "\n",
      "\n",
      "No of entries in AIR: 30214\n",
      "No of entries in AIR after dropping sentences having length more than maxl: 30053\n",
      "\n",
      "\n",
      "No of entries in Elangovan: 1082\n",
      "No of entries in Elangovan after dropping sentences having length more than maxl: 1079\n"
     ]
    }
   ],
   "source": [
    "# Delete entries with sentence length more than maxl\n",
    "print('No of entries in TRRUST:', trrust.shape[0])\n",
    "trrust = trrust[trrust.n_words < maxl]\n",
    "print('No of entries in TRRUST after dropping sentences having length more than maxl:', trrust.shape[0])\n",
    "\n",
    "print('\\n')\n",
    "\n",
    "print('No of entries in AIR:', air.shape[0])\n",
    "air = air[air.n_words < maxl]\n",
    "print('No of entries in AIR after dropping sentences having length more than maxl:', air.shape[0])\n",
    "\n",
    "print('\\n')\n",
    "\n",
    "print('No of entries in Elangovan:', elangovan.shape[0])\n",
    "elangovan = elangovan[elangovan.n_words < maxl]\n",
    "print('No of entries in Elangovan after dropping sentences having length more than maxl:', elangovan.shape[0])"
   ]
  },
  {
   "cell_type": "code",
   "execution_count": null,
   "metadata": {},
   "outputs": [],
   "source": []
  },
  {
   "cell_type": "markdown",
   "metadata": {},
   "source": [
    "Generate Typed Encodings and Tokens"
   ]
  },
  {
   "cell_type": "code",
   "execution_count": 14,
   "metadata": {},
   "outputs": [],
   "source": [
    "# Interaction Class dict\n",
    "interaction_dict = {'undefined':['bind', 'interact'],\n",
    "                    'positive': ['activat', 'upregulat'],\n",
    "                    'negative': ['repress', 'downregulat', 'inhibit'],\n",
    "                    'phosphorylation': ['phosphorylat']}"
   ]
  },
  {
   "cell_type": "code",
   "execution_count": 15,
   "metadata": {},
   "outputs": [],
   "source": [
    "trrust_int_df = generate_typed_encodings(trrust, maxl, VOCAB, interaction_dict)\n",
    "air_int_df = generate_typed_encodings(air, maxl, VOCAB, interaction_dict)\n",
    "elangovan_int_df = generate_typed_encodings(elangovan, maxl, VOCAB, interaction_dict)"
   ]
  },
  {
   "cell_type": "code",
   "execution_count": 16,
   "metadata": {},
   "outputs": [],
   "source": [
    "# Delete entries with no interaction keys or entities\n",
    "# Delete entries with more than four mentions\n",
    "trrust_int_df = trrust_int_df[(trrust_int_df.n_int > 0) & (trrust_int_df.n_int < 5)] \n",
    "trrust_int_df = trrust_int_df[(trrust_int_df.n_source > 0) & (trrust_int_df.n_source < 5)] \n",
    "trrust_int_df = trrust_int_df[(trrust_int_df.n_target > 0) & (trrust_int_df.n_target < 5)] \n",
    "\n",
    "air_int_df = air_int_df[(air_int_df.n_int > 0) & (air_int_df.n_int < 5)] \n",
    "air_int_df = air_int_df[(air_int_df.n_source > 0) & (air_int_df.n_source < 5)] \n",
    "air_int_df = air_int_df[(air_int_df.n_target > 0) & (air_int_df.n_target < 5)]\n",
    "\n",
    "elangovan_int_df = elangovan_int_df[(elangovan_int_df.n_int > 0) & (elangovan_int_df.n_int < 5)] \n",
    "elangovan_int_df = elangovan_int_df[(elangovan_int_df.n_source > 0) & (elangovan_int_df.n_source < 5)] \n",
    "elangovan_int_df = elangovan_int_df[(elangovan_int_df.n_target > 0) & (elangovan_int_df.n_target < 5)]"
   ]
  },
  {
   "cell_type": "markdown",
   "metadata": {},
   "source": [
    "Plots for number of entity and interaction key mentions"
   ]
  },
  {
   "cell_type": "code",
   "execution_count": 17,
   "metadata": {},
   "outputs": [
    {
     "data": {
      "text/plain": [
       "Text(0.5, 1.0, 'No of target gene mention')"
      ]
     },
     "execution_count": 17,
     "metadata": {},
     "output_type": "execute_result"
    },
    {
     "data": {
      "image/png": "[encoded data removed]",
      "text/plain": [
       "<Figure size 864x216 with 3 Axes>"
      ]
     },
     "metadata": {
      "needs_background": "light"
     },
     "output_type": "display_data"
    }
   ],
   "source": [
    "# TRRUST\n",
    "plt.figure(figsize = (12,3))\n",
    "plt.subplot(131)\n",
    "trrust_int_df.groupby(\"n_int\")['n_int'].agg('count').plot.barh()\n",
    "plt.xlabel('No of sentences');plt.title('No of interaction keystring mention')\n",
    "\n",
    "plt.subplot(132)\n",
    "trrust_int_df.groupby(\"n_source\")['n_source'].agg('count').plot.barh()\n",
    "plt.xlabel('No of sentences');plt.title('No of source gene mention')\n",
    "\n",
    "plt.subplot(133)\n",
    "trrust_int_df.groupby(\"n_target\")['n_target'].agg('count').plot.barh()\n",
    "plt.xlabel('No of sentences');plt.title('No of target gene mention')"
   ]
  },
  {
   "cell_type": "code",
   "execution_count": 18,
   "metadata": {},
   "outputs": [
    {
     "data": {
      "text/plain": [
       "Text(0.5, 1.0, 'No of target gene mention')"
      ]
     },
     "execution_count": 18,
     "metadata": {},
     "output_type": "execute_result"
    },
    {
     "data": {
      "image/png": "[encoded data removed]",
      "text/plain": [
       "<Figure size 864x216 with 3 Axes>"
      ]
     },
     "metadata": {
      "needs_background": "light"
     },
     "output_type": "display_data"
    }
   ],
   "source": [
    "# AIR\n",
    "plt.figure(figsize = (12,3))\n",
    "plt.subplot(131)\n",
    "air_int_df.groupby(\"n_int\")['n_int'].agg('count').plot.barh()\n",
    "plt.xlabel('No of sentences');plt.title('No of interaction keystring mention')\n",
    "\n",
    "plt.subplot(132)\n",
    "air_int_df.groupby(\"n_source\")['n_source'].agg('count').plot.barh()\n",
    "plt.xlabel('No of sentences');plt.title('No of source gene mention')\n",
    "\n",
    "plt.subplot(133)\n",
    "air_int_df.groupby(\"n_target\")['n_target'].agg('count').plot.barh()\n",
    "plt.xlabel('No of sentences');plt.title('No of target gene mention')"
   ]
  },
  {
   "cell_type": "code",
   "execution_count": 19,
   "metadata": {},
   "outputs": [
    {
     "data": {
      "text/plain": [
       "Text(0.5, 1.0, 'No of target gene mention')"
      ]
     },
     "execution_count": 19,
     "metadata": {},
     "output_type": "execute_result"
    },
    {
     "data": {
      "image/png": "[encoded data removed]",
      "text/plain": [
       "<Figure size 864x216 with 3 Axes>"
      ]
     },
     "metadata": {
      "needs_background": "light"
     },
     "output_type": "display_data"
    }
   ],
   "source": [
    "# Elangovan\n",
    "plt.figure(figsize = (12,3))\n",
    "plt.subplot(131)\n",
    "elangovan_int_df.groupby(\"n_int\")['n_int'].agg('count').plot.barh()\n",
    "plt.xlabel('No of sentences');plt.title('No of interaction keystring mention')\n",
    "\n",
    "plt.subplot(132)\n",
    "elangovan_int_df.groupby(\"n_source\")['n_source'].agg('count').plot.barh()\n",
    "plt.xlabel('No of sentences');plt.title('No of source gene mention')\n",
    "\n",
    "plt.subplot(133)\n",
    "elangovan_int_df.groupby(\"n_target\")['n_target'].agg('count').plot.barh()\n",
    "plt.xlabel('No of sentences');plt.title('No of target gene mention')"
   ]
  },
  {
   "cell_type": "code",
   "execution_count": 20,
   "metadata": {},
   "outputs": [
    {
     "name": "stdout",
     "output_type": "stream",
     "text": [
      "1776 negative {'bind': [18], 'interact': [], 'activat': [], 'upregulat': [], 'repress': [], 'downregulat': [], 'inhibit': [6, 14], 'phosphorylat': []}  The ability of pparg ligands to inhibit ptgs2 appears to be mediated predominantly through inhibition of AP1 protein binding to the CRE site in the ptgs2 promoter\n"
     ]
    },
    {
     "data": {
      "text/plain": [
       "<AxesSubplot:xlabel='words', ylabel='relative_indexing_source'>"
      ]
     },
     "execution_count": 20,
     "metadata": {},
     "output_type": "execute_result"
    },
    {
     "data": {
      "image/png": "[encoded data removed]",
      "text/plain": [
       "<Figure size 2520x720 with 1 Axes>"
      ]
     },
     "metadata": {},
     "output_type": "display_data"
    }
   ],
   "source": [
    "# Encoding Plots\n",
    "n = np.random.randint(len(trrust_int_df))\n",
    "print(n, trrust_int_df.iloc[n].interaction, trrust_int_df.iloc[n].int_words, trrust_int_df.iloc[n].sentence)\n",
    "d = {'words':trrust_int_df.iloc[n].list_of_words,'relative_indexing_source': trrust_int_df.iloc[n].source_embd[:trrust_int_df.iloc[n].n_words], \\\n",
    "     'relative_indexing_interation': trrust_int_df.iloc[n].int_embd[:trrust_int_df.iloc[n].n_words], 'relative_indexing_target': trrust_int_df.iloc[n].target_embd[:trrust_int_df.iloc[n].n_words]}\n",
    "df = pd.DataFrame(d)\n",
    "sns.set(rc={'figure.figsize':(35,10)})\n",
    "sns.lineplot(x='words', y='relative_indexing_source', data=df)\n",
    "sns.lineplot(x='words', y='relative_indexing_target', data=df, color='r')\n",
    "sns.lineplot(x='words', y='relative_indexing_interation', data=df, color='k')"
   ]
  },
  {
   "cell_type": "code",
   "execution_count": 21,
   "metadata": {},
   "outputs": [
    {
     "name": "stdout",
     "output_type": "stream",
     "text": [
      "2105 positive {'bind': [], 'interact': [], 'activat': [33], 'upregulat': [], 'repress': [], 'downregulat': [2], 'inhibit': [], 'phosphorylat': []}  Therefore the downregulation of the sh2d1a gene by ATF5 may represent a common mechanism for the pathogenesis of HPS that is associated with either EpsteinBarr virus infection or immune disorders with dysregulated Tcell activation\n"
     ]
    },
    {
     "data": {
      "text/plain": [
       "<AxesSubplot:xlabel='words', ylabel='relative_indexing_source'>"
      ]
     },
     "execution_count": 21,
     "metadata": {},
     "output_type": "execute_result"
    },
    {
     "data": {
      "image/png": "[encoded data removed]",
      "text/plain": [
       "<Figure size 2520x720 with 1 Axes>"
      ]
     },
     "metadata": {},
     "output_type": "display_data"
    }
   ],
   "source": [
    "# Encoding Plots\n",
    "n = np.random.randint(len(air_int_df))\n",
    "print(n, air_int_df.iloc[n].interaction, air_int_df.iloc[n].int_words, air_int_df.iloc[n].sentence)\n",
    "d = {'words':air_int_df.iloc[n].list_of_words,'relative_indexing_source': air_int_df.iloc[n].source_embd[:air_int_df.iloc[n].n_words], \\\n",
    "     'relative_indexing_interation': air_int_df.iloc[n].int_embd[:air_int_df.iloc[n].n_words], 'relative_indexing_target': air_int_df.iloc[n].target_embd[:air_int_df.iloc[n].n_words]}\n",
    "df = pd.DataFrame(d)\n",
    "sns.set(rc={'figure.figsize':(35,10)})\n",
    "sns.lineplot(x='words', y='relative_indexing_source', data=df)\n",
    "sns.lineplot(x='words', y='relative_indexing_target', data=df, color='r')\n",
    "sns.lineplot(x='words', y='relative_indexing_interation', data=df, color='k')"
   ]
  },
  {
   "cell_type": "code",
   "execution_count": 22,
   "metadata": {},
   "outputs": [
    {
     "name": "stdout",
     "output_type": "stream",
     "text": [
      "446 phosphorylation {'bind': [], 'interact': [], 'activat': [], 'upregulat': [], 'repress': [], 'downregulat': [], 'inhibit': [], 'phosphorylat': [12]}  Here we show that Fam20A potentiates dmp4 kinase activity and promotes the phosphorylation of enamel matrix proteins in vitro and in cells\n"
     ]
    },
    {
     "data": {
      "text/plain": [
       "<AxesSubplot:xlabel='words', ylabel='relative_indexing_source'>"
      ]
     },
     "execution_count": 22,
     "metadata": {},
     "output_type": "execute_result"
    },
    {
     "data": {
      "image/png": "[encoded data removed]",
      "text/plain": [
       "<Figure size 2520x720 with 1 Axes>"
      ]
     },
     "metadata": {},
     "output_type": "display_data"
    }
   ],
   "source": [
    "# Encoding Plots\n",
    "n = np.random.randint(len(elangovan_int_df))\n",
    "print(n, elangovan_int_df.iloc[n].interaction, elangovan_int_df.iloc[n].int_words, elangovan_int_df.iloc[n].sentence)\n",
    "d = {'words':elangovan_int_df.iloc[n].list_of_words,'relative_indexing_source': elangovan_int_df.iloc[n].source_embd[:elangovan_int_df.iloc[n].n_words], \\\n",
    "     'relative_indexing_interation': elangovan_int_df.iloc[n].int_embd[:elangovan_int_df.iloc[n].n_words], 'relative_indexing_target': elangovan_int_df.iloc[n].target_embd[:elangovan_int_df.iloc[n].n_words]}\n",
    "df = pd.DataFrame(d)\n",
    "sns.set(rc={'figure.figsize':(35,10)})\n",
    "sns.lineplot(x='words', y='relative_indexing_source', data=df)\n",
    "sns.lineplot(x='words', y='relative_indexing_target', data=df, color='r')\n",
    "sns.lineplot(x='words', y='relative_indexing_interation', data=df, color='k')"
   ]
  },
  {
   "cell_type": "code",
   "execution_count": 23,
   "metadata": {},
   "outputs": [
    {
     "name": "stdout",
     "output_type": "stream",
     "text": [
      "TRRUST\n",
      "No of sentences: 8395\n",
      "No of unique entities: 2044\n",
      "-------------------------\n",
      "AIR\n",
      "No of sentences: 5758\n",
      "No of unique entities: 2085\n",
      "-------------------------\n",
      "Elangovan\n",
      "No of sentences: 494\n",
      "No of unique entities: 258\n"
     ]
    }
   ],
   "source": [
    "print('TRRUST')\n",
    "print('No of sentences:', trrust_int_df.shape[0])\n",
    "print('No of unique entities:', len(set(trrust_int_df.source.str.lower().to_list() + trrust_int_df.target.str.lower().to_list())))\n",
    "print('-'*25)\n",
    "print('AIR')\n",
    "print('No of sentences:', air_int_df.shape[0])\n",
    "print('No of unique entities:', len(set(air_int_df.source.str.lower().to_list() + air_int_df.target.str.lower().to_list())))\n",
    "print('-'*25)\n",
    "print('Elangovan')\n",
    "print('No of sentences:', elangovan_int_df.shape[0])\n",
    "print('No of unique entities:', len(set(elangovan_int_df.source.str.lower().to_list() + elangovan_int_df.target.str.lower().to_list())))"
   ]
  },
  {
   "cell_type": "code",
   "execution_count": 24,
   "metadata": {},
   "outputs": [
    {
     "name": "stdout",
     "output_type": "stream",
     "text": [
      "Curated Dataset: Training and Testing\n",
      "No of sentences: 14153\n",
      "No of unique entities: 2913\n",
      "-------------------------\n",
      "Curated Dataset: Validation\n",
      "No of sentences: 494\n",
      "No of unique entities: 258\n"
     ]
    }
   ],
   "source": [
    "# Train df\n",
    "train_int_df = trrust_int_df.append(air_int_df).reset_index(drop = True)\n",
    "# Val df\n",
    "val_int_df = elangovan_int_df.reset_index(drop = True)\n",
    "\n",
    "print('Curated Dataset: Training and Testing')\n",
    "print('No of sentences:', train_int_df.shape[0])\n",
    "print('No of unique entities:', len(set(train_int_df.source.str.lower().to_list() + train_int_df.target.str.lower().to_list())))\n",
    "print('-'*25)\n",
    "print('Curated Dataset: Validation')\n",
    "print('No of sentences:', val_int_df.shape[0])\n",
    "print('No of unique entities:', len(set(val_int_df.source.str.lower().to_list() + val_int_df.target.str.lower().to_list())))"
   ]
  },
  {
   "cell_type": "code",
   "execution_count": 25,
   "metadata": {},
   "outputs": [],
   "source": [
    "# 10-Fold\n",
    "indx = np.arange(len(train_int_df))\n",
    "fold_test_indxs = []\n",
    "\n",
    "np.random.seed(10)\n",
    "for i in range(10):\n",
    "    f = np.random.choice(indx, int(len(train_int_df)/10), replace=False)\n",
    "    fold_test_indxs.append(f)\n",
    "    indx = indx[~np.in1d(indx, f)]"
   ]
  },
  {
   "cell_type": "code",
   "execution_count": null,
   "metadata": {},
   "outputs": [],
   "source": []
  },
  {
   "cell_type": "code",
   "execution_count": 26,
   "metadata": {},
   "outputs": [],
   "source": [
    "# Model Parameters\n",
    "snip_len = maxl\n",
    "embed_dim = 32\n",
    "num_heads = 8\n",
    "ff_dim = 32\n",
    "vocab_size = len(VOCAB) + 1\n",
    "dropout = 0.1\n",
    "batch_size = 32"
   ]
  },
  {
   "cell_type": "markdown",
   "metadata": {},
   "source": [
    "<b> INT > SRC </b>"
   ]
  },
  {
   "cell_type": "code",
   "execution_count": 27,
   "metadata": {},
   "outputs": [],
   "source": [
    "test_eema_1 = []\n",
    "test_eema_2 = []\n",
    "test_eema_3 = []\n",
    "val_eema_1 = []\n",
    "val_eema_2 = []\n",
    "val_eema_3 = []"
   ]
  },
  {
   "cell_type": "code",
   "execution_count": 28,
   "metadata": {
    "scrolled": false
   },
   "outputs": [
    {
     "name": "stdout",
     "output_type": "stream",
     "text": [
      "Fold 1\n",
      "Train size: (12738, 17) Test size: (1415, 17)\n",
      "X train (2, 12738, 58) y_train (12738, 58) X_test (2, 1415, 58) y_test (1415, 58)\n",
      "X ext (2, 494, 58) y ext (494, 58)\n",
      "Test\n",
      "1-EEMA score: 0.792226148409894\n",
      "2-EEMA score: 0.9137809187279152\n",
      "3-EEMA score: 0.9568904593639576\n",
      "Validation\n",
      "1-EEMA score: 0.2692307692307692\n",
      "2-EEMA score: 0.46356275303643724\n",
      "3-EEMA score: 0.6093117408906883 \n",
      "\n",
      "Fold 2\n",
      "Train size: (12738, 17) Test size: (1415, 17)\n",
      "X train (2, 12738, 58) y_train (12738, 58) X_test (2, 1415, 58) y_test (1415, 58)\n",
      "X ext (2, 494, 58) y ext (494, 58)\n",
      "Test\n",
      "1-EEMA score: 0.7780918727915195\n",
      "2-EEMA score: 0.9031802120141342\n",
      "3-EEMA score: 0.9491166077738515\n",
      "Validation\n",
      "1-EEMA score: 0.3117408906882591\n",
      "2-EEMA score: 0.4959514170040486\n",
      "3-EEMA score: 0.631578947368421 \n",
      "\n",
      "Fold 3\n",
      "Train size: (12738, 17) Test size: (1415, 17)\n",
      "X train (2, 12738, 58) y_train (12738, 58) X_test (2, 1415, 58) y_test (1415, 58)\n",
      "X ext (2, 494, 58) y ext (494, 58)\n",
      "Test\n",
      "1-EEMA score: 0.7752650176678445\n",
      "2-EEMA score: 0.9137809187279152\n",
      "3-EEMA score: 0.9597173144876325\n",
      "Validation\n",
      "1-EEMA score: 0.3157894736842105\n",
      "2-EEMA score: 0.5101214574898786\n",
      "3-EEMA score: 0.6396761133603239 \n",
      "\n",
      "Fold 4\n",
      "Train size: (12738, 17) Test size: (1415, 17)\n",
      "X train (2, 12738, 58) y_train (12738, 58) X_test (2, 1415, 58) y_test (1415, 58)\n",
      "X ext (2, 494, 58) y ext (494, 58)\n",
      "Test\n",
      "1-EEMA score: 0.7625441696113074\n",
      "2-EEMA score: 0.8954063604240282\n",
      "3-EEMA score: 0.9441696113074205\n",
      "Validation\n",
      "1-EEMA score: 0.3016194331983806\n",
      "2-EEMA score: 0.5101214574898786\n",
      "3-EEMA score: 0.6255060728744939 \n",
      "\n",
      "Fold 5\n",
      "Train size: (12738, 17) Test size: (1415, 17)\n",
      "X train (2, 12738, 58) y_train (12738, 58) X_test (2, 1415, 58) y_test (1415, 58)\n",
      "X ext (2, 494, 58) y ext (494, 58)\n",
      "Test\n",
      "1-EEMA score: 0.7540636042402827\n",
      "2-EEMA score: 0.8911660777385159\n",
      "3-EEMA score: 0.9399293286219081\n",
      "Validation\n",
      "1-EEMA score: 0.31983805668016196\n",
      "2-EEMA score: 0.5060728744939271\n",
      "3-EEMA score: 0.6396761133603239 \n",
      "\n",
      "Fold 6\n",
      "Train size: (12738, 17) Test size: (1415, 17)\n",
      "X train (2, 12738, 58) y_train (12738, 58) X_test (2, 1415, 58) y_test (1415, 58)\n",
      "X ext (2, 494, 58) y ext (494, 58)\n",
      "Test\n",
      "1-EEMA score: 0.7646643109540636\n",
      "2-EEMA score: 0.9045936395759717\n",
      "3-EEMA score: 0.9611307420494699\n",
      "Validation\n",
      "1-EEMA score: 0.2894736842105263\n",
      "2-EEMA score: 0.47368421052631576\n",
      "3-EEMA score: 0.6234817813765182 \n",
      "\n",
      "Fold 7\n",
      "Train size: (12738, 17) Test size: (1415, 17)\n",
      "X train (2, 12738, 58) y_train (12738, 58) X_test (2, 1415, 58) y_test (1415, 58)\n",
      "X ext (2, 494, 58) y ext (494, 58)\n",
      "Test\n",
      "1-EEMA score: 0.7696113074204947\n",
      "2-EEMA score: 0.9102473498233216\n",
      "3-EEMA score: 0.9575971731448764\n",
      "Validation\n",
      "1-EEMA score: 0.30364372469635625\n",
      "2-EEMA score: 0.4898785425101215\n",
      "3-EEMA score: 0.6275303643724697 \n",
      "\n",
      "Fold 8\n",
      "Train size: (12738, 17) Test size: (1415, 17)\n",
      "X train (2, 12738, 58) y_train (12738, 58) X_test (2, 1415, 58) y_test (1415, 58)\n",
      "X ext (2, 494, 58) y ext (494, 58)\n",
      "Test\n",
      "1-EEMA score: 0.768904593639576\n",
      "2-EEMA score: 0.9031802120141342\n",
      "3-EEMA score: 0.9519434628975265\n",
      "Validation\n",
      "1-EEMA score: 0.3157894736842105\n",
      "2-EEMA score: 0.5101214574898786\n",
      "3-EEMA score: 0.6356275303643725 \n",
      "\n",
      "Fold 9\n",
      "Train size: (12738, 17) Test size: (1415, 17)\n",
      "X train (2, 12738, 58) y_train (12738, 58) X_test (2, 1415, 58) y_test (1415, 58)\n",
      "X ext (2, 494, 58) y ext (494, 58)\n",
      "Test\n",
      "1-EEMA score: 0.7653710247349823\n",
      "2-EEMA score: 0.8996466431095407\n",
      "3-EEMA score: 0.953356890459364\n",
      "Validation\n",
      "1-EEMA score: 0.291497975708502\n",
      "2-EEMA score: 0.4797570850202429\n",
      "3-EEMA score: 0.597165991902834 \n",
      "\n",
      "Fold 10\n",
      "Train size: (12738, 17) Test size: (1415, 17)\n",
      "X train (2, 12738, 58) y_train (12738, 58) X_test (2, 1415, 58) y_test (1415, 58)\n",
      "X ext (2, 494, 58) y ext (494, 58)\n",
      "Test\n",
      "1-EEMA score: 0.7646643109540636\n",
      "2-EEMA score: 0.9017667844522969\n",
      "3-EEMA score: 0.9484098939929329\n",
      "Validation\n",
      "1-EEMA score: 0.305668016194332\n",
      "2-EEMA score: 0.4979757085020243\n",
      "3-EEMA score: 0.6174089068825911 \n",
      "\n"
     ]
    }
   ],
   "source": [
    "for i in range(10):\n",
    "    print(f'Fold {i+1}')\n",
    "    test_indexes = fold_test_indxs[i]\n",
    "    train_indexes = np.array([x for x in list(range(len(train_int_df))) if x not in test_indexes])\n",
    "    train_df = train_int_df.iloc[train_indexes].reset_index(drop = True)\n",
    "    test_df = train_int_df.iloc[test_indexes].reset_index(drop = True)\n",
    "    print('Train size:', train_df.shape, 'Test size:', test_df.shape)\n",
    "    \n",
    "    X_train=tf.convert_to_tensor(np.array([train_df.tokens.tolist(),train_df.int_embd.tolist()]))\n",
    "    X_test=tf.convert_to_tensor(np.array([test_df.tokens.tolist(),test_df.int_embd.tolist()]))\n",
    "    y_train=tf.convert_to_tensor(train_df.source_embd.tolist())\n",
    "    y_test=tf.convert_to_tensor(test_df.source_embd.tolist())\n",
    "    print('X train', X_train.shape, 'y_train', y_train.shape, 'X_test', X_test.shape, 'y_test', y_test.shape)\n",
    "    \n",
    "    X_ext=tf.convert_to_tensor(np.array([val_int_df.tokens.tolist(),val_int_df.int_embd.tolist()]))\n",
    "    y_ext=tf.convert_to_tensor(val_int_df.source_embd.tolist())\n",
    "    print('X ext', X_ext.shape, 'y ext', y_ext.shape)\n",
    "    \n",
    "    model = ARM(snip_len, embed_dim, num_heads, ff_dim, dropout, vocab_size)\n",
    "    model.compile('adam', loss = 'mse')\n",
    "    \n",
    "    history = model.fit([X_train[0],X_train[1]], y_train, batch_size=batch_size, epochs=100, \n",
    "                           validation_split=.2, shuffle=True, verbose = 0)\n",
    "    \n",
    "    # TEST\n",
    "    print('Test')\n",
    "    # 1-EEMA score\n",
    "    y_pred=model.predict([X_test[0],X_test[1]])\n",
    "    pred_label = []\n",
    "    sing_pred_label = []\n",
    "    for i in range(len(y_pred)):\n",
    "        gene_pos = np.argwhere(y_test[i].numpy() > 0).flatten()\n",
    "        y_hat = np.argsort(y_pred[i])[-1:]\n",
    "        p = 0\n",
    "        for j in y_hat:\n",
    "            if j in gene_pos:\n",
    "                p = 1\n",
    "        pred_label.append(p)\n",
    "    print('1-EEMA score:', np.mean(pred_label))\n",
    "    test_eema_1.append(np.mean(pred_label))\n",
    "    \n",
    "    # 2-EEMA score\n",
    "    y_pred=model.predict([X_test[0],X_test[1]])\n",
    "    pred_label = []\n",
    "    sing_pred_label = []\n",
    "    for i in range(len(y_pred)):\n",
    "        gene_pos = np.argwhere(y_test[i].numpy() > 0).flatten()\n",
    "        y_hat = np.argsort(y_pred[i])[-2:]\n",
    "        p = 0\n",
    "        for j in y_hat:\n",
    "            if j in gene_pos:\n",
    "                p = 1\n",
    "        pred_label.append(p)\n",
    "    print('2-EEMA score:', np.mean(pred_label))\n",
    "    test_eema_2.append(np.mean(pred_label))\n",
    "    \n",
    "    # 3-EEMA score\n",
    "    y_pred=model.predict([X_test[0],X_test[1]])\n",
    "    pred_label = []\n",
    "    sing_pred_label = []\n",
    "    for i in range(len(y_pred)):\n",
    "        gene_pos = np.argwhere(y_test[i].numpy() > 0).flatten()\n",
    "        y_hat = np.argsort(y_pred[i])[-3:]\n",
    "        p = 0\n",
    "        for j in y_hat:\n",
    "            if j in gene_pos:\n",
    "                p = 1\n",
    "        pred_label.append(p)\n",
    "    print('3-EEMA score:', np.mean(pred_label))\n",
    "    test_eema_3.append(np.mean(pred_label))\n",
    "    \n",
    "    # Validation\n",
    "    print('Validation')\n",
    "    # 1-EEMA score\n",
    "    y_pred=model.predict([X_ext[0],X_ext[1]])\n",
    "    pred_label = []\n",
    "    for i in range(len(y_pred)):\n",
    "        gene_pos = np.argwhere(y_ext[i].numpy() > 0).flatten()\n",
    "        y_hat = np.argsort(y_pred[i])[-1:]\n",
    "        if y_hat in gene_pos:\n",
    "            pred_label.append(1)\n",
    "        else:\n",
    "            pred_label.append(0)   \n",
    "    print('1-EEMA score:', np.mean(pred_label))\n",
    "    val_eema_1.append(np.mean(pred_label))\n",
    "    \n",
    "    # 2-EEMA score\n",
    "    y_pred=model.predict([X_ext[0],X_ext[1]])\n",
    "    pred_label = []\n",
    "    sing_pred_label = []\n",
    "    for i in range(len(y_pred)):\n",
    "        gene_pos = np.argwhere(y_ext[i].numpy() > 0).flatten()\n",
    "        y_hat = np.argsort(y_pred[i])[-2:]\n",
    "        p = 0\n",
    "        for j in y_hat:\n",
    "            if j in gene_pos:\n",
    "                p = 1\n",
    "        pred_label.append(p)\n",
    "    print('2-EEMA score:', np.mean(pred_label))\n",
    "    val_eema_2.append(np.mean(pred_label))\n",
    "    \n",
    "    # 3-EEMA score\n",
    "    y_pred=model.predict([X_ext[0],X_ext[1]])\n",
    "    pred_label = []\n",
    "    sing_pred_label = []\n",
    "    for i in range(len(y_pred)):\n",
    "        gene_pos = np.argwhere(y_ext[i].numpy() > 0).flatten()\n",
    "        y_hat = np.argsort(y_pred[i])[-3:]\n",
    "        p = 0\n",
    "        for j in y_hat:\n",
    "            if j in gene_pos:\n",
    "                p = 1\n",
    "        pred_label.append(p)\n",
    "    print('3-EEMA score:', np.mean(pred_label), '\\n')\n",
    "    val_eema_3.append(np.mean(pred_label))"
   ]
  },
  {
   "cell_type": "code",
   "execution_count": 29,
   "metadata": {},
   "outputs": [
    {
     "name": "stdout",
     "output_type": "stream",
     "text": [
      "TEST\n",
      "1-EEMA score: 0.7695406360424029\n",
      "2-EEMA score: 0.9036749116607774\n",
      "3-EEMA score: 0.952226148409894\n"
     ]
    }
   ],
   "source": [
    "print('TEST')\n",
    "print('1-EEMA score:', np.mean(test_eema_1))\n",
    "print('2-EEMA score:', np.mean(test_eema_2))\n",
    "print('3-EEMA score:', np.mean(test_eema_3))"
   ]
  },
  {
   "cell_type": "code",
   "execution_count": 30,
   "metadata": {},
   "outputs": [
    {
     "name": "stdout",
     "output_type": "stream",
     "text": [
      "VAL\n",
      "1-EEMA score: 0.30242914979757085\n",
      "2-EEMA score: 0.4937246963562753\n",
      "3-EEMA score: 0.6246963562753036\n"
     ]
    }
   ],
   "source": [
    "print('VAL')\n",
    "print('1-EEMA score:', np.mean(val_eema_1))\n",
    "print('2-EEMA score:', np.mean(val_eema_2))\n",
    "print('3-EEMA score:', np.mean(val_eema_3))"
   ]
  },
  {
   "cell_type": "code",
   "execution_count": null,
   "metadata": {},
   "outputs": [],
   "source": []
  },
  {
   "cell_type": "markdown",
   "metadata": {},
   "source": [
    "<b> INT > TRGT </b>"
   ]
  },
  {
   "cell_type": "code",
   "execution_count": 31,
   "metadata": {},
   "outputs": [],
   "source": [
    "test_eema_1 = []\n",
    "test_eema_2 = []\n",
    "test_eema_3 = []\n",
    "val_eema_1 = []\n",
    "val_eema_2 = []\n",
    "val_eema_3 = []"
   ]
  },
  {
   "cell_type": "code",
   "execution_count": 32,
   "metadata": {
    "scrolled": false
   },
   "outputs": [
    {
     "name": "stdout",
     "output_type": "stream",
     "text": [
      "Fold 1\n",
      "Train size: (12738, 17) Test size: (1415, 17)\n",
      "X train (2, 12738, 58) y_train (12738, 58) X_test (2, 1415, 58) y_test (1415, 58)\n",
      "X ext (2, 494, 58) y ext (494, 58)\n",
      "Test\n",
      "1-EEMA score: 0.7865724381625442\n",
      "2-EEMA score: 0.8833922261484098\n",
      "3-EEMA score: 0.927208480565371\n",
      "Validation\n",
      "1-EEMA score: 0.3117408906882591\n",
      "2-EEMA score: 0.47368421052631576\n",
      "3-EEMA score: 0.5951417004048583 \n",
      "\n",
      "Fold 2\n",
      "Train size: (12738, 17) Test size: (1415, 17)\n",
      "X train (2, 12738, 58) y_train (12738, 58) X_test (2, 1415, 58) y_test (1415, 58)\n",
      "X ext (2, 494, 58) y ext (494, 58)\n",
      "Test\n",
      "1-EEMA score: 0.7985865724381626\n",
      "2-EEMA score: 0.8925795053003533\n",
      "3-EEMA score: 0.927208480565371\n",
      "Validation\n",
      "1-EEMA score: 0.305668016194332\n",
      "2-EEMA score: 0.4574898785425101\n",
      "3-EEMA score: 0.5910931174089069 \n",
      "\n",
      "Fold 3\n",
      "Train size: (12738, 17) Test size: (1415, 17)\n",
      "X train (2, 12738, 58) y_train (12738, 58) X_test (2, 1415, 58) y_test (1415, 58)\n",
      "X ext (2, 494, 58) y ext (494, 58)\n",
      "Test\n",
      "1-EEMA score: 0.7985865724381626\n",
      "2-EEMA score: 0.8812720848056537\n",
      "3-EEMA score: 0.9151943462897526\n",
      "Validation\n",
      "1-EEMA score: 0.29554655870445345\n",
      "2-EEMA score: 0.4777327935222672\n",
      "3-EEMA score: 0.5789473684210527 \n",
      "\n",
      "Fold 4\n",
      "Train size: (12738, 17) Test size: (1415, 17)\n",
      "X train (2, 12738, 58) y_train (12738, 58) X_test (2, 1415, 58) y_test (1415, 58)\n",
      "X ext (2, 494, 58) y ext (494, 58)\n",
      "Test\n",
      "1-EEMA score: 0.7943462897526502\n",
      "2-EEMA score: 0.8855123674911661\n",
      "3-EEMA score: 0.9236749116607774\n",
      "Validation\n",
      "1-EEMA score: 0.2854251012145749\n",
      "2-EEMA score: 0.45951417004048584\n",
      "3-EEMA score: 0.5688259109311741 \n",
      "\n",
      "Fold 5\n",
      "Train size: (12738, 17) Test size: (1415, 17)\n",
      "X train (2, 12738, 58) y_train (12738, 58) X_test (2, 1415, 58) y_test (1415, 58)\n",
      "X ext (2, 494, 58) y ext (494, 58)\n",
      "Test\n",
      "1-EEMA score: 0.7929328621908127\n",
      "2-EEMA score: 0.8756183745583039\n",
      "3-EEMA score: 0.927208480565371\n",
      "Validation\n",
      "1-EEMA score: 0.3157894736842105\n",
      "2-EEMA score: 0.5141700404858299\n",
      "3-EEMA score: 0.6518218623481782 \n",
      "\n",
      "Fold 6\n",
      "Train size: (12738, 17) Test size: (1415, 17)\n",
      "X train (2, 12738, 58) y_train (12738, 58) X_test (2, 1415, 58) y_test (1415, 58)\n",
      "X ext (2, 494, 58) y ext (494, 58)\n",
      "Test\n",
      "1-EEMA score: 0.7752650176678445\n",
      "2-EEMA score: 0.8763250883392226\n",
      "3-EEMA score: 0.9243816254416961\n",
      "Validation\n",
      "1-EEMA score: 0.2773279352226721\n",
      "2-EEMA score: 0.44129554655870445\n",
      "3-EEMA score: 0.5870445344129555 \n",
      "\n",
      "Fold 7\n",
      "Train size: (12738, 17) Test size: (1415, 17)\n",
      "X train (2, 12738, 58) y_train (12738, 58) X_test (2, 1415, 58) y_test (1415, 58)\n",
      "X ext (2, 494, 58) y ext (494, 58)\n",
      "Test\n",
      "1-EEMA score: 0.7837455830388692\n",
      "2-EEMA score: 0.8848056537102473\n",
      "3-EEMA score: 0.9265017667844523\n",
      "Validation\n",
      "1-EEMA score: 0.31376518218623484\n",
      "2-EEMA score: 0.4777327935222672\n",
      "3-EEMA score: 0.5910931174089069 \n",
      "\n",
      "Fold 8\n",
      "Train size: (12738, 17) Test size: (1415, 17)\n",
      "X train (2, 12738, 58) y_train (12738, 58) X_test (2, 1415, 58) y_test (1415, 58)\n",
      "X ext (2, 494, 58) y ext (494, 58)\n",
      "Test\n",
      "1-EEMA score: 0.8141342756183746\n",
      "2-EEMA score: 0.9053003533568904\n",
      "3-EEMA score: 0.9420494699646643\n",
      "Validation\n",
      "1-EEMA score: 0.31983805668016196\n",
      "2-EEMA score: 0.48380566801619435\n",
      "3-EEMA score: 0.611336032388664 \n",
      "\n",
      "Fold 9\n",
      "Train size: (12738, 17) Test size: (1415, 17)\n",
      "X train (2, 12738, 58) y_train (12738, 58) X_test (2, 1415, 58) y_test (1415, 58)\n",
      "X ext (2, 494, 58) y ext (494, 58)\n",
      "Test\n",
      "1-EEMA score: 0.7985865724381626\n",
      "2-EEMA score: 0.9067137809187279\n",
      "3-EEMA score: 0.9328621908127208\n",
      "Validation\n",
      "1-EEMA score: 0.3157894736842105\n",
      "2-EEMA score: 0.4939271255060729\n",
      "3-EEMA score: 0.6437246963562753 \n",
      "\n",
      "Fold 10\n",
      "Train size: (12738, 17) Test size: (1415, 17)\n",
      "X train (2, 12738, 58) y_train (12738, 58) X_test (2, 1415, 58) y_test (1415, 58)\n",
      "X ext (2, 494, 58) y ext (494, 58)\n",
      "Test\n",
      "1-EEMA score: 0.7865724381625442\n",
      "2-EEMA score: 0.8777385159010601\n",
      "3-EEMA score: 0.9187279151943463\n",
      "Validation\n",
      "1-EEMA score: 0.2935222672064777\n",
      "2-EEMA score: 0.4534412955465587\n",
      "3-EEMA score: 0.5789473684210527 \n",
      "\n"
     ]
    }
   ],
   "source": [
    "for i in range(10):\n",
    "    print(f'Fold {i+1}')\n",
    "    test_indexes = fold_test_indxs[i]\n",
    "    train_indexes = np.array([x for x in list(range(len(train_int_df))) if x not in test_indexes])\n",
    "    train_df = train_int_df.iloc[train_indexes].reset_index(drop = True)\n",
    "    test_df = train_int_df.iloc[test_indexes].reset_index(drop = True)\n",
    "    print('Train size:', train_df.shape, 'Test size:', test_df.shape)\n",
    "    \n",
    "    X_train=tf.convert_to_tensor(np.array([train_df.tokens.tolist(),train_df.int_embd.tolist()]))\n",
    "    X_test=tf.convert_to_tensor(np.array([test_df.tokens.tolist(),test_df.int_embd.tolist()]))\n",
    "    y_train=tf.convert_to_tensor(train_df.target_embd.tolist())\n",
    "    y_test=tf.convert_to_tensor(test_df.target_embd.tolist())\n",
    "    print('X train', X_train.shape, 'y_train', y_train.shape, 'X_test', X_test.shape, 'y_test', y_test.shape)\n",
    "    \n",
    "    X_ext=tf.convert_to_tensor(np.array([val_int_df.tokens.tolist(),val_int_df.int_embd.tolist()]))\n",
    "    y_ext=tf.convert_to_tensor(val_int_df.target_embd.tolist())\n",
    "    print('X ext', X_ext.shape, 'y ext', y_ext.shape)\n",
    "    \n",
    "    model = ARM(snip_len, embed_dim, num_heads, ff_dim, dropout, vocab_size)\n",
    "    model.compile('adam', loss = 'mse')\n",
    "    \n",
    "    history = model.fit([X_train[0],X_train[1]], y_train, batch_size=batch_size, epochs=100, \n",
    "                           validation_split=.2, shuffle=True, verbose = 0)\n",
    "    \n",
    "    # TEST\n",
    "    print('Test')\n",
    "    # 1-EEMA score\n",
    "    y_pred=model.predict([X_test[0],X_test[1]])\n",
    "    pred_label = []\n",
    "    sing_pred_label = []\n",
    "    for i in range(len(y_pred)):\n",
    "        gene_pos = np.argwhere(y_test[i].numpy() > 0).flatten()\n",
    "        y_hat = np.argsort(y_pred[i])[-1:]\n",
    "        p = 0\n",
    "        for j in y_hat:\n",
    "            if j in gene_pos:\n",
    "                p = 1\n",
    "        pred_label.append(p)\n",
    "    print('1-EEMA score:', np.mean(pred_label))\n",
    "    test_eema_1.append(np.mean(pred_label))\n",
    "    \n",
    "    # 2-EEMA score\n",
    "    y_pred=model.predict([X_test[0],X_test[1]])\n",
    "    pred_label = []\n",
    "    sing_pred_label = []\n",
    "    for i in range(len(y_pred)):\n",
    "        gene_pos = np.argwhere(y_test[i].numpy() > 0).flatten()\n",
    "        y_hat = np.argsort(y_pred[i])[-2:]\n",
    "        p = 0\n",
    "        for j in y_hat:\n",
    "            if j in gene_pos:\n",
    "                p = 1\n",
    "        pred_label.append(p)\n",
    "    print('2-EEMA score:', np.mean(pred_label))\n",
    "    test_eema_2.append(np.mean(pred_label))\n",
    "    \n",
    "    # 3-EEMA score\n",
    "    y_pred=model.predict([X_test[0],X_test[1]])\n",
    "    pred_label = []\n",
    "    sing_pred_label = []\n",
    "    for i in range(len(y_pred)):\n",
    "        gene_pos = np.argwhere(y_test[i].numpy() > 0).flatten()\n",
    "        y_hat = np.argsort(y_pred[i])[-3:]\n",
    "        p = 0\n",
    "        for j in y_hat:\n",
    "            if j in gene_pos:\n",
    "                p = 1\n",
    "        pred_label.append(p)\n",
    "    print('3-EEMA score:', np.mean(pred_label))\n",
    "    test_eema_3.append(np.mean(pred_label))\n",
    "    \n",
    "    # Validation\n",
    "    print('Validation')\n",
    "    # 1-EEMA score\n",
    "    y_pred=model.predict([X_ext[0],X_ext[1]])\n",
    "    pred_label = []\n",
    "    for i in range(len(y_pred)):\n",
    "        gene_pos = np.argwhere(y_ext[i].numpy() > 0).flatten()\n",
    "        y_hat = np.argsort(y_pred[i])[-1:]\n",
    "        if y_hat in gene_pos:\n",
    "            pred_label.append(1)\n",
    "        else:\n",
    "            pred_label.append(0)   \n",
    "    print('1-EEMA score:', np.mean(pred_label))\n",
    "    val_eema_1.append(np.mean(pred_label))\n",
    "    \n",
    "    # 2-EEMA score\n",
    "    y_pred=model.predict([X_ext[0],X_ext[1]])\n",
    "    pred_label = []\n",
    "    sing_pred_label = []\n",
    "    for i in range(len(y_pred)):\n",
    "        gene_pos = np.argwhere(y_ext[i].numpy() > 0).flatten()\n",
    "        y_hat = np.argsort(y_pred[i])[-2:]\n",
    "        p = 0\n",
    "        for j in y_hat:\n",
    "            if j in gene_pos:\n",
    "                p = 1\n",
    "        pred_label.append(p)\n",
    "    print('2-EEMA score:', np.mean(pred_label))\n",
    "    val_eema_2.append(np.mean(pred_label))\n",
    "    \n",
    "    # 3-EEMA score\n",
    "    y_pred=model.predict([X_ext[0],X_ext[1]])\n",
    "    pred_label = []\n",
    "    sing_pred_label = []\n",
    "    for i in range(len(y_pred)):\n",
    "        gene_pos = np.argwhere(y_ext[i].numpy() > 0).flatten()\n",
    "        y_hat = np.argsort(y_pred[i])[-3:]\n",
    "        p = 0\n",
    "        for j in y_hat:\n",
    "            if j in gene_pos:\n",
    "                p = 1\n",
    "        pred_label.append(p)\n",
    "    print('3-EEMA score:', np.mean(pred_label), '\\n')\n",
    "    val_eema_3.append(np.mean(pred_label))"
   ]
  },
  {
   "cell_type": "code",
   "execution_count": 33,
   "metadata": {},
   "outputs": [
    {
     "name": "stdout",
     "output_type": "stream",
     "text": [
      "TEST\n",
      "1-EEMA score: 0.7929328621908127\n",
      "2-EEMA score: 0.8869257950530034\n",
      "3-EEMA score: 0.9265017667844522\n"
     ]
    }
   ],
   "source": [
    "print('TEST')\n",
    "print('1-EEMA score:', np.mean(test_eema_1))\n",
    "print('2-EEMA score:', np.mean(test_eema_2))\n",
    "print('3-EEMA score:', np.mean(test_eema_3))"
   ]
  },
  {
   "cell_type": "code",
   "execution_count": 34,
   "metadata": {},
   "outputs": [
    {
     "name": "stdout",
     "output_type": "stream",
     "text": [
      "VAL\n",
      "1-EEMA score: 0.30344129554655874\n",
      "2-EEMA score: 0.4732793522267206\n",
      "3-EEMA score: 0.5997975708502024\n"
     ]
    }
   ],
   "source": [
    "print('VAL')\n",
    "print('1-EEMA score:', np.mean(val_eema_1))\n",
    "print('2-EEMA score:', np.mean(val_eema_2))\n",
    "print('3-EEMA score:', np.mean(val_eema_3))"
   ]
  },
  {
   "cell_type": "code",
   "execution_count": null,
   "metadata": {},
   "outputs": [],
   "source": []
  },
  {
   "cell_type": "code",
   "execution_count": null,
   "metadata": {},
   "outputs": [],
   "source": []
  },
  {
   "cell_type": "markdown",
   "metadata": {},
   "source": [
    "<b> SRC > TRGT </b>"
   ]
  },
  {
   "cell_type": "code",
   "execution_count": 35,
   "metadata": {},
   "outputs": [],
   "source": [
    "test_eema_1 = []\n",
    "test_eema_2 = []\n",
    "test_eema_3 = []\n",
    "val_eema_1 = []\n",
    "val_eema_2 = []\n",
    "val_eema_3 = []"
   ]
  },
  {
   "cell_type": "code",
   "execution_count": 36,
   "metadata": {
    "scrolled": false
   },
   "outputs": [
    {
     "name": "stdout",
     "output_type": "stream",
     "text": [
      "Fold 1\n",
      "Train size: (12738, 17) Test size: (1415, 17)\n",
      "X train (2, 12738, 58) y_train (12738, 58) X_test (2, 1415, 58) y_test (1415, 58)\n",
      "X ext (2, 494, 58) y ext (494, 58)\n",
      "Test\n",
      "1-EEMA score: 0.8487632508833922\n",
      "2-EEMA score: 0.9293286219081273\n",
      "3-EEMA score: 0.9519434628975265\n",
      "Validation\n",
      "1-EEMA score: 0.3967611336032389\n",
      "2-EEMA score: 0.5748987854251012\n",
      "3-EEMA score: 0.6781376518218624 \n",
      "\n",
      "Fold 2\n",
      "Train size: (12738, 17) Test size: (1415, 17)\n",
      "X train (2, 12738, 58) y_train (12738, 58) X_test (2, 1415, 58) y_test (1415, 58)\n",
      "X ext (2, 494, 58) y ext (494, 58)\n",
      "Test\n",
      "1-EEMA score: 0.8473498233215547\n",
      "2-EEMA score: 0.9137809187279152\n",
      "3-EEMA score: 0.9399293286219081\n",
      "Validation\n",
      "1-EEMA score: 0.4392712550607287\n",
      "2-EEMA score: 0.5951417004048583\n",
      "3-EEMA score: 0.7024291497975709 \n",
      "\n",
      "Fold 3\n",
      "Train size: (12738, 17) Test size: (1415, 17)\n",
      "X train (2, 12738, 58) y_train (12738, 58) X_test (2, 1415, 58) y_test (1415, 58)\n",
      "X ext (2, 494, 58) y ext (494, 58)\n",
      "Test\n",
      "1-EEMA score: 0.8522968197879859\n",
      "2-EEMA score: 0.9257950530035336\n",
      "3-EEMA score: 0.953356890459364\n",
      "Validation\n",
      "1-EEMA score: 0.39068825910931176\n",
      "2-EEMA score: 0.5748987854251012\n",
      "3-EEMA score: 0.6902834008097166 \n",
      "\n",
      "Fold 4\n",
      "Train size: (12738, 17) Test size: (1415, 17)\n",
      "X train (2, 12738, 58) y_train (12738, 58) X_test (2, 1415, 58) y_test (1415, 58)\n",
      "X ext (2, 494, 58) y ext (494, 58)\n",
      "Test\n",
      "1-EEMA score: 0.872791519434629\n",
      "2-EEMA score: 0.9321554770318021\n",
      "3-EEMA score: 0.9554770318021202\n",
      "Validation\n",
      "1-EEMA score: 0.39473684210526316\n",
      "2-EEMA score: 0.5688259109311741\n",
      "3-EEMA score: 0.6902834008097166 \n",
      "\n",
      "Fold 5\n",
      "Train size: (12738, 17) Test size: (1415, 17)\n",
      "X train (2, 12738, 58) y_train (12738, 58) X_test (2, 1415, 58) y_test (1415, 58)\n",
      "X ext (2, 494, 58) y ext (494, 58)\n",
      "Test\n",
      "1-EEMA score: 0.8515901060070671\n",
      "2-EEMA score: 0.9180212014134276\n",
      "3-EEMA score: 0.9498233215547703\n",
      "Validation\n",
      "1-EEMA score: 0.41700404858299595\n",
      "2-EEMA score: 0.597165991902834\n",
      "3-EEMA score: 0.728744939271255 \n",
      "\n",
      "Fold 6\n",
      "Train size: (12738, 17) Test size: (1415, 17)\n",
      "X train (2, 12738, 58) y_train (12738, 58) X_test (2, 1415, 58) y_test (1415, 58)\n",
      "X ext (2, 494, 58) y ext (494, 58)\n",
      "Test\n",
      "1-EEMA score: 0.8395759717314487\n",
      "2-EEMA score: 0.9095406360424029\n",
      "3-EEMA score: 0.9441696113074205\n",
      "Validation\n",
      "1-EEMA score: 0.4089068825910931\n",
      "2-EEMA score: 0.6153846153846154\n",
      "3-EEMA score: 0.7064777327935222 \n",
      "\n",
      "Fold 7\n",
      "Train size: (12738, 17) Test size: (1415, 17)\n",
      "X train (2, 12738, 58) y_train (12738, 58) X_test (2, 1415, 58) y_test (1415, 58)\n",
      "X ext (2, 494, 58) y ext (494, 58)\n",
      "Test\n",
      "1-EEMA score: 0.8572438162544169\n",
      "2-EEMA score: 0.930035335689046\n",
      "3-EEMA score: 0.9554770318021202\n",
      "Validation\n",
      "1-EEMA score: 0.39878542510121456\n",
      "2-EEMA score: 0.5890688259109311\n",
      "3-EEMA score: 0.6983805668016194 \n",
      "\n",
      "Fold 8\n",
      "Train size: (12738, 17) Test size: (1415, 17)\n",
      "X train (2, 12738, 58) y_train (12738, 58) X_test (2, 1415, 58) y_test (1415, 58)\n",
      "X ext (2, 494, 58) y ext (494, 58)\n",
      "Test\n",
      "1-EEMA score: 0.8607773851590106\n",
      "2-EEMA score: 0.9307420494699646\n",
      "3-EEMA score: 0.9575971731448764\n",
      "Validation\n",
      "1-EEMA score: 0.4068825910931174\n",
      "2-EEMA score: 0.5991902834008097\n",
      "3-EEMA score: 0.7145748987854251 \n",
      "\n",
      "Fold 9\n",
      "Train size: (12738, 17) Test size: (1415, 17)\n",
      "X train (2, 12738, 58) y_train (12738, 58) X_test (2, 1415, 58) y_test (1415, 58)\n",
      "X ext (2, 494, 58) y ext (494, 58)\n",
      "Test\n",
      "1-EEMA score: 0.8494699646643109\n",
      "2-EEMA score: 0.9229681978798586\n",
      "3-EEMA score: 0.9512367491166078\n",
      "Validation\n",
      "1-EEMA score: 0.4251012145748988\n",
      "2-EEMA score: 0.6133603238866396\n",
      "3-EEMA score: 0.7186234817813765 \n",
      "\n",
      "Fold 10\n",
      "Train size: (12738, 17) Test size: (1415, 17)\n",
      "X train (2, 12738, 58) y_train (12738, 58) X_test (2, 1415, 58) y_test (1415, 58)\n",
      "X ext (2, 494, 58) y ext (494, 58)\n",
      "Test\n",
      "1-EEMA score: 0.83886925795053\n",
      "2-EEMA score: 0.9173144876325088\n",
      "3-EEMA score: 0.9385159010600707\n",
      "Validation\n",
      "1-EEMA score: 0.39473684210526316\n",
      "2-EEMA score: 0.5809716599190283\n",
      "3-EEMA score: 0.7105263157894737 \n",
      "\n"
     ]
    }
   ],
   "source": [
    "for i in range(10):\n",
    "    print(f'Fold {i+1}')\n",
    "    test_indexes = fold_test_indxs[i]\n",
    "    train_indexes = np.array([x for x in list(range(len(train_int_df))) if x not in test_indexes])\n",
    "    train_df = train_int_df.iloc[train_indexes].reset_index(drop = True)\n",
    "    test_df = train_int_df.iloc[test_indexes].reset_index(drop = True)\n",
    "    print('Train size:', train_df.shape, 'Test size:', test_df.shape)\n",
    "    \n",
    "    X_train=tf.convert_to_tensor(np.array([train_df.tokens.tolist(),train_df.source_embd.tolist()]))\n",
    "    X_test=tf.convert_to_tensor(np.array([test_df.tokens.tolist(),test_df.source_embd.tolist()]))\n",
    "    y_train=tf.convert_to_tensor(train_df.target_embd.tolist())\n",
    "    y_test=tf.convert_to_tensor(test_df.target_embd.tolist())\n",
    "    print('X train', X_train.shape, 'y_train', y_train.shape, 'X_test', X_test.shape, 'y_test', y_test.shape)\n",
    "    \n",
    "    X_ext=tf.convert_to_tensor(np.array([val_int_df.tokens.tolist(),val_int_df.source_embd.tolist()]))\n",
    "    y_ext=tf.convert_to_tensor(val_int_df.target_embd.tolist())\n",
    "    print('X ext', X_ext.shape, 'y ext', y_ext.shape)\n",
    "    \n",
    "    model = ARM(snip_len, embed_dim, num_heads, ff_dim, dropout, vocab_size)\n",
    "    model.compile('adam', loss = 'mse')\n",
    "    \n",
    "    history = model.fit([X_train[0],X_train[1]], y_train, batch_size=batch_size, epochs=100, \n",
    "                           validation_split=.2, shuffle=True, verbose = 0)\n",
    "    \n",
    "    # TEST\n",
    "    print('Test')\n",
    "    # 1-EEMA score\n",
    "    y_pred=model.predict([X_test[0],X_test[1]])\n",
    "    pred_label = []\n",
    "    sing_pred_label = []\n",
    "    for i in range(len(y_pred)):\n",
    "        gene_pos = np.argwhere(y_test[i].numpy() > 0).flatten()\n",
    "        y_hat = np.argsort(y_pred[i])[-1:]\n",
    "        p = 0\n",
    "        for j in y_hat:\n",
    "            if j in gene_pos:\n",
    "                p = 1\n",
    "        pred_label.append(p)\n",
    "    print('1-EEMA score:', np.mean(pred_label))\n",
    "    test_eema_1.append(np.mean(pred_label))\n",
    "    \n",
    "    # 2-EEMA score\n",
    "    y_pred=model.predict([X_test[0],X_test[1]])\n",
    "    pred_label = []\n",
    "    sing_pred_label = []\n",
    "    for i in range(len(y_pred)):\n",
    "        gene_pos = np.argwhere(y_test[i].numpy() > 0).flatten()\n",
    "        y_hat = np.argsort(y_pred[i])[-2:]\n",
    "        p = 0\n",
    "        for j in y_hat:\n",
    "            if j in gene_pos:\n",
    "                p = 1\n",
    "        pred_label.append(p)\n",
    "    print('2-EEMA score:', np.mean(pred_label))\n",
    "    test_eema_2.append(np.mean(pred_label))\n",
    "    \n",
    "    # 3-EEMA score\n",
    "    y_pred=model.predict([X_test[0],X_test[1]])\n",
    "    pred_label = []\n",
    "    sing_pred_label = []\n",
    "    for i in range(len(y_pred)):\n",
    "        gene_pos = np.argwhere(y_test[i].numpy() > 0).flatten()\n",
    "        y_hat = np.argsort(y_pred[i])[-3:]\n",
    "        p = 0\n",
    "        for j in y_hat:\n",
    "            if j in gene_pos:\n",
    "                p = 1\n",
    "        pred_label.append(p)\n",
    "    print('3-EEMA score:', np.mean(pred_label))\n",
    "    test_eema_3.append(np.mean(pred_label))\n",
    "    \n",
    "    # Validation\n",
    "    print('Validation')\n",
    "    # 1-EEMA score\n",
    "    y_pred=model.predict([X_ext[0],X_ext[1]])\n",
    "    pred_label = []\n",
    "    for i in range(len(y_pred)):\n",
    "        gene_pos = np.argwhere(y_ext[i].numpy() > 0).flatten()\n",
    "        y_hat = np.argsort(y_pred[i])[-1:]\n",
    "        if y_hat in gene_pos:\n",
    "            pred_label.append(1)\n",
    "        else:\n",
    "            pred_label.append(0)   \n",
    "    print('1-EEMA score:', np.mean(pred_label))\n",
    "    val_eema_1.append(np.mean(pred_label))\n",
    "    \n",
    "    # 2-EEMA score\n",
    "    y_pred=model.predict([X_ext[0],X_ext[1]])\n",
    "    pred_label = []\n",
    "    sing_pred_label = []\n",
    "    for i in range(len(y_pred)):\n",
    "        gene_pos = np.argwhere(y_ext[i].numpy() > 0).flatten()\n",
    "        y_hat = np.argsort(y_pred[i])[-2:]\n",
    "        p = 0\n",
    "        for j in y_hat:\n",
    "            if j in gene_pos:\n",
    "                p = 1\n",
    "        pred_label.append(p)\n",
    "    print('2-EEMA score:', np.mean(pred_label))\n",
    "    val_eema_2.append(np.mean(pred_label))\n",
    "    \n",
    "    # 3-EEMA score\n",
    "    y_pred=model.predict([X_ext[0],X_ext[1]])\n",
    "    pred_label = []\n",
    "    sing_pred_label = []\n",
    "    for i in range(len(y_pred)):\n",
    "        gene_pos = np.argwhere(y_ext[i].numpy() > 0).flatten()\n",
    "        y_hat = np.argsort(y_pred[i])[-3:]\n",
    "        p = 0\n",
    "        for j in y_hat:\n",
    "            if j in gene_pos:\n",
    "                p = 1\n",
    "        pred_label.append(p)\n",
    "    print('3-EEMA score:', np.mean(pred_label), '\\n')\n",
    "    val_eema_3.append(np.mean(pred_label))"
   ]
  },
  {
   "cell_type": "code",
   "execution_count": 37,
   "metadata": {},
   "outputs": [
    {
     "name": "stdout",
     "output_type": "stream",
     "text": [
      "TEST\n",
      "1-EEMA score: 0.8518727915194347\n",
      "2-EEMA score: 0.9229681978798588\n",
      "3-EEMA score: 0.9497526501766785\n"
     ]
    }
   ],
   "source": [
    "print('TEST')\n",
    "print('1-EEMA score:', np.mean(test_eema_1))\n",
    "print('2-EEMA score:', np.mean(test_eema_2))\n",
    "print('3-EEMA score:', np.mean(test_eema_3))"
   ]
  },
  {
   "cell_type": "code",
   "execution_count": 38,
   "metadata": {},
   "outputs": [
    {
     "name": "stdout",
     "output_type": "stream",
     "text": [
      "VAL\n",
      "1-EEMA score: 0.40728744939271255\n",
      "2-EEMA score: 0.5908906882591094\n",
      "3-EEMA score: 0.7038461538461538\n"
     ]
    }
   ],
   "source": [
    "print('VAL')\n",
    "print('1-EEMA score:', np.mean(val_eema_1))\n",
    "print('2-EEMA score:', np.mean(val_eema_2))\n",
    "print('3-EEMA score:', np.mean(val_eema_3))"
   ]
  },
  {
   "cell_type": "code",
   "execution_count": null,
   "metadata": {},
   "outputs": [],
   "source": []
  },
  {
   "cell_type": "markdown",
   "metadata": {},
   "source": [
    "<b> TRGT > SRC </b>"
   ]
  },
  {
   "cell_type": "code",
   "execution_count": 39,
   "metadata": {},
   "outputs": [],
   "source": [
    "test_eema_1 = []\n",
    "test_eema_2 = []\n",
    "test_eema_3 = []\n",
    "val_eema_1 = []\n",
    "val_eema_2 = []\n",
    "val_eema_3 = []"
   ]
  },
  {
   "cell_type": "code",
   "execution_count": 40,
   "metadata": {
    "scrolled": false
   },
   "outputs": [
    {
     "name": "stdout",
     "output_type": "stream",
     "text": [
      "Fold 1\n",
      "Train size: (12738, 17) Test size: (1415, 17)\n",
      "X train (2, 12738, 58) y_train (12738, 58) X_test (2, 1415, 58) y_test (1415, 58)\n",
      "X ext (2, 494, 58) y ext (494, 58)\n",
      "Test\n",
      "1-EEMA score: 0.8494699646643109\n",
      "2-EEMA score: 0.937809187279152\n",
      "3-EEMA score: 0.9674911660777386\n",
      "Validation\n",
      "1-EEMA score: 0.39271255060728744\n",
      "2-EEMA score: 0.5708502024291497\n",
      "3-EEMA score: 0.6963562753036437 \n",
      "\n",
      "Fold 2\n",
      "Train size: (12738, 17) Test size: (1415, 17)\n",
      "X train (2, 12738, 58) y_train (12738, 58) X_test (2, 1415, 58) y_test (1415, 58)\n",
      "X ext (2, 494, 58) y ext (494, 58)\n",
      "Test\n",
      "1-EEMA score: 0.8424028268551237\n",
      "2-EEMA score: 0.927208480565371\n",
      "3-EEMA score: 0.9575971731448764\n",
      "Validation\n",
      "1-EEMA score: 0.4149797570850202\n",
      "2-EEMA score: 0.5991902834008097\n",
      "3-EEMA score: 0.7004048582995951 \n",
      "\n",
      "Fold 3\n",
      "Train size: (12738, 17) Test size: (1415, 17)\n",
      "X train (2, 12738, 58) y_train (12738, 58) X_test (2, 1415, 58) y_test (1415, 58)\n",
      "X ext (2, 494, 58) y ext (494, 58)\n",
      "Test\n",
      "1-EEMA score: 0.8459363957597174\n",
      "2-EEMA score: 0.9371024734982332\n",
      "3-EEMA score: 0.9667844522968198\n",
      "Validation\n",
      "1-EEMA score: 0.4068825910931174\n",
      "2-EEMA score: 0.6194331983805668\n",
      "3-EEMA score: 0.7267206477732794 \n",
      "\n",
      "Fold 4\n",
      "Train size: (12738, 17) Test size: (1415, 17)\n",
      "X train (2, 12738, 58) y_train (12738, 58) X_test (2, 1415, 58) y_test (1415, 58)\n",
      "X ext (2, 494, 58) y ext (494, 58)\n",
      "Test\n",
      "1-EEMA score: 0.8247349823321555\n",
      "2-EEMA score: 0.9236749116607774\n",
      "3-EEMA score: 0.9568904593639576\n",
      "Validation\n",
      "1-EEMA score: 0.4089068825910931\n",
      "2-EEMA score: 0.5931174089068826\n",
      "3-EEMA score: 0.6963562753036437 \n",
      "\n",
      "Fold 5\n",
      "Train size: (12738, 17) Test size: (1415, 17)\n",
      "X train (2, 12738, 58) y_train (12738, 58) X_test (2, 1415, 58) y_test (1415, 58)\n",
      "X ext (2, 494, 58) y ext (494, 58)\n",
      "Test\n",
      "1-EEMA score: 0.8197879858657244\n",
      "2-EEMA score: 0.9265017667844523\n",
      "3-EEMA score: 0.9590106007067137\n",
      "Validation\n",
      "1-EEMA score: 0.4493927125506073\n",
      "2-EEMA score: 0.6356275303643725\n",
      "3-EEMA score: 0.728744939271255 \n",
      "\n",
      "Fold 6\n",
      "Train size: (12738, 17) Test size: (1415, 17)\n",
      "X train (2, 12738, 58) y_train (12738, 58) X_test (2, 1415, 58) y_test (1415, 58)\n",
      "X ext (2, 494, 58) y ext (494, 58)\n",
      "Test\n",
      "1-EEMA score: 0.8268551236749117\n",
      "2-EEMA score: 0.927208480565371\n",
      "3-EEMA score: 0.9674911660777386\n",
      "Validation\n",
      "1-EEMA score: 0.3866396761133603\n",
      "2-EEMA score: 0.5728744939271255\n",
      "3-EEMA score: 0.7064777327935222 \n",
      "\n",
      "Fold 7\n",
      "Train size: (12738, 17) Test size: (1415, 17)\n",
      "X train (2, 12738, 58) y_train (12738, 58) X_test (2, 1415, 58) y_test (1415, 58)\n",
      "X ext (2, 494, 58) y ext (494, 58)\n",
      "Test\n",
      "1-EEMA score: 0.83886925795053\n",
      "2-EEMA score: 0.9385159010600707\n",
      "3-EEMA score: 0.9689045936395759\n",
      "Validation\n",
      "1-EEMA score: 0.39473684210526316\n",
      "2-EEMA score: 0.6072874493927125\n",
      "3-EEMA score: 0.7186234817813765 \n",
      "\n",
      "Fold 8\n",
      "Train size: (12738, 17) Test size: (1415, 17)\n",
      "X train (2, 12738, 58) y_train (12738, 58) X_test (2, 1415, 58) y_test (1415, 58)\n",
      "X ext (2, 494, 58) y ext (494, 58)\n",
      "Test\n",
      "1-EEMA score: 0.8303886925795053\n",
      "2-EEMA score: 0.9406360424028268\n",
      "3-EEMA score: 0.9696113074204947\n",
      "Validation\n",
      "1-EEMA score: 0.3866396761133603\n",
      "2-EEMA score: 0.5991902834008097\n",
      "3-EEMA score: 0.7186234817813765 \n",
      "\n",
      "Fold 9\n",
      "Train size: (12738, 17) Test size: (1415, 17)\n",
      "X train (2, 12738, 58) y_train (12738, 58) X_test (2, 1415, 58) y_test (1415, 58)\n",
      "X ext (2, 494, 58) y ext (494, 58)\n",
      "Test\n",
      "1-EEMA score: 0.8346289752650177\n",
      "2-EEMA score: 0.9314487632508834\n",
      "3-EEMA score: 0.9639575971731449\n",
      "Validation\n",
      "1-EEMA score: 0.3643724696356275\n",
      "2-EEMA score: 0.5708502024291497\n",
      "3-EEMA score: 0.6842105263157895 \n",
      "\n",
      "Fold 10\n",
      "Train size: (12738, 17) Test size: (1415, 17)\n",
      "X train (2, 12738, 58) y_train (12738, 58) X_test (2, 1415, 58) y_test (1415, 58)\n",
      "X ext (2, 494, 58) y ext (494, 58)\n",
      "Test\n",
      "1-EEMA score: 0.8332155477031802\n",
      "2-EEMA score: 0.9328621908127208\n",
      "3-EEMA score: 0.9681978798586572\n",
      "Validation\n",
      "1-EEMA score: 0.3643724696356275\n",
      "2-EEMA score: 0.5931174089068826\n",
      "3-EEMA score: 0.7165991902834008 \n",
      "\n"
     ]
    }
   ],
   "source": [
    "for i in range(10):\n",
    "    print(f'Fold {i+1}')\n",
    "    test_indexes = fold_test_indxs[i]\n",
    "    train_indexes = np.array([x for x in list(range(len(train_int_df))) if x not in test_indexes])\n",
    "    train_df = train_int_df.iloc[train_indexes].reset_index(drop = True)\n",
    "    test_df = train_int_df.iloc[test_indexes].reset_index(drop = True)\n",
    "    print('Train size:', train_df.shape, 'Test size:', test_df.shape)\n",
    "    \n",
    "    X_train=tf.convert_to_tensor(np.array([train_df.tokens.tolist(),train_df.target_embd.tolist()]))\n",
    "    X_test=tf.convert_to_tensor(np.array([test_df.tokens.tolist(),test_df.target_embd.tolist()]))\n",
    "    y_train=tf.convert_to_tensor(train_df.source_embd.tolist())\n",
    "    y_test=tf.convert_to_tensor(test_df.source_embd.tolist())\n",
    "    print('X train', X_train.shape, 'y_train', y_train.shape, 'X_test', X_test.shape, 'y_test', y_test.shape)\n",
    "    \n",
    "    X_ext=tf.convert_to_tensor(np.array([val_int_df.tokens.tolist(),val_int_df.target_embd.tolist()]))\n",
    "    y_ext=tf.convert_to_tensor(val_int_df.source_embd.tolist())\n",
    "    print('X ext', X_ext.shape, 'y ext', y_ext.shape)\n",
    "    \n",
    "    model = ARM(snip_len, embed_dim, num_heads, ff_dim, dropout, vocab_size)\n",
    "    model.compile('adam', loss = 'mse')\n",
    "    \n",
    "    history = model.fit([X_train[0],X_train[1]], y_train, batch_size=batch_size, epochs=100, \n",
    "                           validation_split=.2, shuffle=True, verbose = 0)\n",
    "    \n",
    "    # TEST\n",
    "    print('Test')\n",
    "    # 1-EEMA score\n",
    "    y_pred=model.predict([X_test[0],X_test[1]])\n",
    "    pred_label = []\n",
    "    sing_pred_label = []\n",
    "    for i in range(len(y_pred)):\n",
    "        gene_pos = np.argwhere(y_test[i].numpy() > 0).flatten()\n",
    "        y_hat = np.argsort(y_pred[i])[-1:]\n",
    "        p = 0\n",
    "        for j in y_hat:\n",
    "            if j in gene_pos:\n",
    "                p = 1\n",
    "        pred_label.append(p)\n",
    "    print('1-EEMA score:', np.mean(pred_label))\n",
    "    test_eema_1.append(np.mean(pred_label))\n",
    "    \n",
    "    # 2-EEMA score\n",
    "    y_pred=model.predict([X_test[0],X_test[1]])\n",
    "    pred_label = []\n",
    "    sing_pred_label = []\n",
    "    for i in range(len(y_pred)):\n",
    "        gene_pos = np.argwhere(y_test[i].numpy() > 0).flatten()\n",
    "        y_hat = np.argsort(y_pred[i])[-2:]\n",
    "        p = 0\n",
    "        for j in y_hat:\n",
    "            if j in gene_pos:\n",
    "                p = 1\n",
    "        pred_label.append(p)\n",
    "    print('2-EEMA score:', np.mean(pred_label))\n",
    "    test_eema_2.append(np.mean(pred_label))\n",
    "    \n",
    "    # 3-EEMA score\n",
    "    y_pred=model.predict([X_test[0],X_test[1]])\n",
    "    pred_label = []\n",
    "    sing_pred_label = []\n",
    "    for i in range(len(y_pred)):\n",
    "        gene_pos = np.argwhere(y_test[i].numpy() > 0).flatten()\n",
    "        y_hat = np.argsort(y_pred[i])[-3:]\n",
    "        p = 0\n",
    "        for j in y_hat:\n",
    "            if j in gene_pos:\n",
    "                p = 1\n",
    "        pred_label.append(p)\n",
    "    print('3-EEMA score:', np.mean(pred_label))\n",
    "    test_eema_3.append(np.mean(pred_label))\n",
    "    \n",
    "    # Validation\n",
    "    print('Validation')\n",
    "    # 1-EEMA score\n",
    "    y_pred=model.predict([X_ext[0],X_ext[1]])\n",
    "    pred_label = []\n",
    "    for i in range(len(y_pred)):\n",
    "        gene_pos = np.argwhere(y_ext[i].numpy() > 0).flatten()\n",
    "        y_hat = np.argsort(y_pred[i])[-1:]\n",
    "        if y_hat in gene_pos:\n",
    "            pred_label.append(1)\n",
    "        else:\n",
    "            pred_label.append(0)   \n",
    "    print('1-EEMA score:', np.mean(pred_label))\n",
    "    val_eema_1.append(np.mean(pred_label))\n",
    "    \n",
    "    # 2-EEMA score\n",
    "    y_pred=model.predict([X_ext[0],X_ext[1]])\n",
    "    pred_label = []\n",
    "    sing_pred_label = []\n",
    "    for i in range(len(y_pred)):\n",
    "        gene_pos = np.argwhere(y_ext[i].numpy() > 0).flatten()\n",
    "        y_hat = np.argsort(y_pred[i])[-2:]\n",
    "        p = 0\n",
    "        for j in y_hat:\n",
    "            if j in gene_pos:\n",
    "                p = 1\n",
    "        pred_label.append(p)\n",
    "    print('2-EEMA score:', np.mean(pred_label))\n",
    "    val_eema_2.append(np.mean(pred_label))\n",
    "    \n",
    "    # 3-EEMA score\n",
    "    y_pred=model.predict([X_ext[0],X_ext[1]])\n",
    "    pred_label = []\n",
    "    sing_pred_label = []\n",
    "    for i in range(len(y_pred)):\n",
    "        gene_pos = np.argwhere(y_ext[i].numpy() > 0).flatten()\n",
    "        y_hat = np.argsort(y_pred[i])[-3:]\n",
    "        p = 0\n",
    "        for j in y_hat:\n",
    "            if j in gene_pos:\n",
    "                p = 1\n",
    "        pred_label.append(p)\n",
    "    print('3-EEMA score:', np.mean(pred_label), '\\n')\n",
    "    val_eema_3.append(np.mean(pred_label))"
   ]
  },
  {
   "cell_type": "code",
   "execution_count": 41,
   "metadata": {},
   "outputs": [
    {
     "name": "stdout",
     "output_type": "stream",
     "text": [
      "TEST\n",
      "1-EEMA score: 0.8346289752650176\n",
      "2-EEMA score: 0.932296819787986\n",
      "3-EEMA score: 0.9645936395759718\n"
     ]
    }
   ],
   "source": [
    "print('TEST')\n",
    "print('1-EEMA score:', np.mean(test_eema_1))\n",
    "print('2-EEMA score:', np.mean(test_eema_2))\n",
    "print('3-EEMA score:', np.mean(test_eema_3))"
   ]
  },
  {
   "cell_type": "code",
   "execution_count": 42,
   "metadata": {},
   "outputs": [
    {
     "name": "stdout",
     "output_type": "stream",
     "text": [
      "VAL\n",
      "1-EEMA score: 0.39696356275303646\n",
      "2-EEMA score: 0.5961538461538463\n",
      "3-EEMA score: 0.7093117408906882\n"
     ]
    }
   ],
   "source": [
    "print('VAL')\n",
    "print('1-EEMA score:', np.mean(val_eema_1))\n",
    "print('2-EEMA score:', np.mean(val_eema_2))\n",
    "print('3-EEMA score:', np.mean(val_eema_3))"
   ]
  },
  {
   "cell_type": "code",
   "execution_count": null,
   "metadata": {},
   "outputs": [],
   "source": []
  }
 ],
 "metadata": {
  "kernelspec": {
   "display_name": "Python 3",
   "language": "python",
   "name": "python3"
  },
  "language_info": {
   "codemirror_mode": {
    "name": "ipython",
    "version": 3
   },
   "file_extension": ".py",
   "mimetype": "text/x-python",
   "name": "python",
   "nbconvert_exporter": "python",
   "pygments_lexer": "ipython3",
   "version": "3.8.11"
  }
 },
 "nbformat": 4,
 "nbformat_minor": 4
}
